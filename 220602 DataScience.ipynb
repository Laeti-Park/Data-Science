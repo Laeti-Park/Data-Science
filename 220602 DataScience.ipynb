{
 "cells": [
  {
   "cell_type": "code",
   "execution_count": 12,
   "id": "02a7c480",
   "metadata": {
    "scrolled": false
   },
   "outputs": [
    {
     "data": {
      "text/html": [
       "<div>\n",
       "<style scoped>\n",
       "    .dataframe tbody tr th:only-of-type {\n",
       "        vertical-align: middle;\n",
       "    }\n",
       "\n",
       "    .dataframe tbody tr th {\n",
       "        vertical-align: top;\n",
       "    }\n",
       "\n",
       "    .dataframe thead th {\n",
       "        text-align: right;\n",
       "    }\n",
       "</style>\n",
       "<table border=\"1\" class=\"dataframe\">\n",
       "  <thead>\n",
       "    <tr style=\"text-align: right;\">\n",
       "      <th></th>\n",
       "      <th>mean radius</th>\n",
       "      <th>mean texture</th>\n",
       "      <th>mean area</th>\n",
       "      <th>mean symmetry</th>\n",
       "      <th>target</th>\n",
       "    </tr>\n",
       "  </thead>\n",
       "  <tbody>\n",
       "    <tr>\n",
       "      <th>0</th>\n",
       "      <td>17.99</td>\n",
       "      <td>10.38</td>\n",
       "      <td>1001.0</td>\n",
       "      <td>0.2419</td>\n",
       "      <td>0</td>\n",
       "    </tr>\n",
       "    <tr>\n",
       "      <th>1</th>\n",
       "      <td>20.57</td>\n",
       "      <td>17.77</td>\n",
       "      <td>1326.0</td>\n",
       "      <td>0.1812</td>\n",
       "      <td>0</td>\n",
       "    </tr>\n",
       "    <tr>\n",
       "      <th>2</th>\n",
       "      <td>19.69</td>\n",
       "      <td>21.25</td>\n",
       "      <td>1203.0</td>\n",
       "      <td>0.2069</td>\n",
       "      <td>0</td>\n",
       "    </tr>\n",
       "    <tr>\n",
       "      <th>3</th>\n",
       "      <td>11.42</td>\n",
       "      <td>20.38</td>\n",
       "      <td>386.1</td>\n",
       "      <td>0.2597</td>\n",
       "      <td>0</td>\n",
       "    </tr>\n",
       "    <tr>\n",
       "      <th>4</th>\n",
       "      <td>20.29</td>\n",
       "      <td>14.34</td>\n",
       "      <td>1297.0</td>\n",
       "      <td>0.1809</td>\n",
       "      <td>0</td>\n",
       "    </tr>\n",
       "    <tr>\n",
       "      <th>...</th>\n",
       "      <td>...</td>\n",
       "      <td>...</td>\n",
       "      <td>...</td>\n",
       "      <td>...</td>\n",
       "      <td>...</td>\n",
       "    </tr>\n",
       "    <tr>\n",
       "      <th>564</th>\n",
       "      <td>21.56</td>\n",
       "      <td>22.39</td>\n",
       "      <td>1479.0</td>\n",
       "      <td>0.1726</td>\n",
       "      <td>0</td>\n",
       "    </tr>\n",
       "    <tr>\n",
       "      <th>565</th>\n",
       "      <td>20.13</td>\n",
       "      <td>28.25</td>\n",
       "      <td>1261.0</td>\n",
       "      <td>0.1752</td>\n",
       "      <td>0</td>\n",
       "    </tr>\n",
       "    <tr>\n",
       "      <th>566</th>\n",
       "      <td>16.60</td>\n",
       "      <td>28.08</td>\n",
       "      <td>858.1</td>\n",
       "      <td>0.1590</td>\n",
       "      <td>0</td>\n",
       "    </tr>\n",
       "    <tr>\n",
       "      <th>567</th>\n",
       "      <td>20.60</td>\n",
       "      <td>29.33</td>\n",
       "      <td>1265.0</td>\n",
       "      <td>0.2397</td>\n",
       "      <td>0</td>\n",
       "    </tr>\n",
       "    <tr>\n",
       "      <th>568</th>\n",
       "      <td>7.76</td>\n",
       "      <td>24.54</td>\n",
       "      <td>181.0</td>\n",
       "      <td>0.1587</td>\n",
       "      <td>1</td>\n",
       "    </tr>\n",
       "  </tbody>\n",
       "</table>\n",
       "<p>569 rows × 5 columns</p>\n",
       "</div>"
      ],
      "text/plain": [
       "     mean radius  mean texture  mean area  mean symmetry  target\n",
       "0          17.99         10.38     1001.0         0.2419       0\n",
       "1          20.57         17.77     1326.0         0.1812       0\n",
       "2          19.69         21.25     1203.0         0.2069       0\n",
       "3          11.42         20.38      386.1         0.2597       0\n",
       "4          20.29         14.34     1297.0         0.1809       0\n",
       "..           ...           ...        ...            ...     ...\n",
       "564        21.56         22.39     1479.0         0.1726       0\n",
       "565        20.13         28.25     1261.0         0.1752       0\n",
       "566        16.60         28.08      858.1         0.1590       0\n",
       "567        20.60         29.33     1265.0         0.2397       0\n",
       "568         7.76         24.54      181.0         0.1587       1\n",
       "\n",
       "[569 rows x 5 columns]"
      ]
     },
     "execution_count": 12,
     "metadata": {},
     "output_type": "execute_result"
    }
   ],
   "source": [
    "import pandas as pd\n",
    "import numpy as np\n",
    "import statsmodels.api as sm\n",
    "\n",
    "from sklearn import datasets\n",
    "from sklearn import metrics\n",
    "from sklearn.model_selection import train_test_split\n",
    "from sklearn.linear_model import LogisticRegression\n",
    "from sklearn.metrics import classification_report\n",
    "from sklearn.metrics import confusion_matrix\n",
    "from sklearn.metrics import accuracy_score, roc_auc_score, roc_curve\n",
    "\n",
    "# 유방암 데이터셋 로드\n",
    "data = datasets.load_breast_cancer()\n",
    "df = pd.DataFrame(data.data, columns = data.feature_names)\n",
    "\n",
    "# 일부 feature만 사용\n",
    "df = df[['mean radius', 'mean texture', 'mean area', 'mean symmetry']]\n",
    "\n",
    "# 1이면 양성 종양, 0이면 악성 종양 라벨 열 지정\n",
    "df['target'] = data.target\n",
    "\n",
    "df"
   ]
  },
  {
   "cell_type": "code",
   "execution_count": 13,
   "id": "1be40c23",
   "metadata": {},
   "outputs": [],
   "source": [
    "from sklearn.model_selection import train_test_split\n",
    "\n",
    "# 독립변수와 종속변수 지정, \n",
    "x = df[['mean radius', 'mean texture', 'mean area', 'mean symmetry']] # 독립변수\n",
    "y = df['target'] # 종속변수\n",
    "\n",
    "# train, test 셋 분리\n",
    "x_train, x_test, y_train, y_test = train_test_split(x, y, test_size = 0.2)"
   ]
  },
  {
   "cell_type": "code",
   "execution_count": 23,
   "id": "ed2329b0",
   "metadata": {},
   "outputs": [
    {
     "name": "stdout",
     "output_type": "stream",
     "text": [
      "train dataset accuracy : 0.89\n",
      "test dataset accuracy : 0.89\n"
     ]
    }
   ],
   "source": [
    "from sklearn.linear_model import LogisticRegression\n",
    "\n",
    "# 로지스틱 회귀 모델 학습\n",
    "model = LogisticRegression(penalty = 'l2')\n",
    "model.fit(x_train, y_train) # 머신러닝 목적에 맞게 훈련시킨다.\n",
    "\n",
    "print('train dataset accuracy : %.2f' % model.score(x_train, y_train))\n",
    "print('test dataset accuracy : %.2f' % model.score(x_test, y_test))"
   ]
  },
  {
   "cell_type": "code",
   "execution_count": 42,
   "id": "ec91c72a",
   "metadata": {
    "scrolled": true
   },
   "outputs": [
    {
     "data": {
      "text/plain": [
       "array([8.05431938e-05, 3.69535281e-06, 9.93002889e-01, 2.10080190e-02,\n",
       "       9.53241174e-01, 8.20767289e-04, 8.22866547e-01, 9.56985856e-01,\n",
       "       6.74579420e-01, 1.84637682e-02, 5.17757290e-06, 2.10507376e-05,\n",
       "       9.78172766e-01, 4.47553075e-02, 9.98022562e-01, 9.93561087e-01,\n",
       "       9.99442865e-01, 9.87105717e-01, 9.67225127e-01, 9.95488916e-01,\n",
       "       3.81511144e-02, 9.97314302e-01, 6.42246756e-01, 2.49986432e-01,\n",
       "       9.98692884e-01, 8.86867705e-01, 7.78007429e-01, 8.23558090e-01,\n",
       "       9.86838815e-01, 9.95797151e-01, 9.49386066e-01, 5.60182348e-01,\n",
       "       9.99590752e-01, 6.13814733e-08, 8.12877865e-01, 9.93285559e-01,\n",
       "       2.22962797e-01, 9.85279664e-03, 2.60801834e-04, 6.53051704e-01,\n",
       "       1.37077287e-01, 9.54580547e-01, 9.98691287e-01, 3.47935794e-01,\n",
       "       2.93975916e-01, 4.73503460e-01, 9.69602378e-01, 4.31842887e-04,\n",
       "       9.99916940e-01, 9.08240921e-01, 7.63414435e-02, 9.79573066e-03,\n",
       "       3.73001446e-04, 1.35822116e-02, 5.46549656e-04, 8.03474999e-05,\n",
       "       1.97998067e-06, 9.57704226e-01, 9.85384548e-01, 8.91527671e-01,\n",
       "       7.44061049e-01, 9.92467020e-01, 8.64683987e-01, 1.13587544e-08,\n",
       "       2.30898615e-05, 9.98498442e-01, 9.77508201e-02, 9.95312879e-01,\n",
       "       9.20014889e-01, 9.56633878e-01, 9.47102446e-01, 1.24784889e-05,\n",
       "       3.32083473e-01, 9.86074267e-01, 9.99100755e-01, 1.99398624e-05,\n",
       "       9.27230871e-03, 1.49669909e-02, 8.80629454e-01, 9.52287733e-01,\n",
       "       7.13876143e-05, 1.37286185e-01, 9.99192755e-01, 9.97163348e-01,\n",
       "       9.18672705e-01, 9.89083555e-01, 1.56556578e-06, 8.37809961e-01,\n",
       "       5.00463649e-04, 9.86116902e-01, 9.77456110e-01, 9.97531977e-01,\n",
       "       9.79980099e-01, 8.59755485e-02, 9.49642637e-01, 9.79717468e-01,\n",
       "       8.74434158e-01, 9.73177646e-01, 9.30250175e-01, 9.99123521e-01,\n",
       "       3.50437158e-04, 9.92918935e-01, 9.22573763e-06, 4.64186049e-08,\n",
       "       2.98197387e-02, 9.68238459e-01, 7.80441300e-01, 9.87288119e-01,\n",
       "       1.09397505e-02, 9.92011004e-01, 9.87377699e-01, 9.87301672e-01,\n",
       "       9.95943221e-01, 9.95881336e-01])"
      ]
     },
     "execution_count": 42,
     "metadata": {},
     "output_type": "execute_result"
    }
   ],
   "source": [
    "pred_y = model.predict_proba(x_test)[:, 1]\n",
    "pred_y"
   ]
  },
  {
   "cell_type": "markdown",
   "id": "a5c4629e",
   "metadata": {},
   "source": [
    "#### LogisticRegression 파라미터\n",
    "참고 : https://scikit-learn.org/stable/modules/generated/sklearn.linear_model.LogisticRegression.html\n",
    "\n",
    "- penalty : 패널티 정도를 지정한다. 독립 변수를 없애 간명하게 만들어 과적합 현상을 없애려는 것 (default: l2)\n",
    "    - 'l1', 'l2', 'elasticnet', 'none'\n",
    "- C : penalty에 대한 계수 설정, 높을 수록 복잡한 모델에 대한 규제 강화\n",
    "- solver : 최적화 문제에 사용할 알고리즘, 선택한 패널티에 따라 다르게 적용한다.\n",
    "    - 'newton-cg' [‘l2’, ‘none’]\n",
    "    - 'lbfgs' [‘l2’, ‘none’]\n",
    "    - 'liblinear' [‘l1’, ‘l2’]\n",
    "    - 'sag' ['l2', 'none']\n",
    "    - 'saga' [‘elasticnet’, ‘l1’, ‘l2’, ‘none’]\n",
    "    - 'sag'와 'saga'는 스케일이 거의 동일한 기능에서만 보장된다."
   ]
  },
  {
   "cell_type": "code",
   "execution_count": 15,
   "id": "cbb82dea",
   "metadata": {},
   "outputs": [
    {
     "name": "stdout",
     "output_type": "stream",
     "text": [
      "              precision    recall  f1-score   support\n",
      "\n",
      "           0       0.86      0.86      0.86        42\n",
      "           1       0.92      0.92      0.92        72\n",
      "\n",
      "    accuracy                           0.89       114\n",
      "   macro avg       0.89      0.89      0.89       114\n",
      "weighted avg       0.89      0.89      0.89       114\n",
      "\n"
     ]
    }
   ],
   "source": [
    "from sklearn.metrics import classification_report\n",
    "y_pred=model.predict(x_test)\n",
    "print(classification_report(y_test, y_pred))"
   ]
  },
  {
   "cell_type": "markdown",
   "id": "1a4985dd",
   "metadata": {},
   "source": [
    "조금 더 자세한 평가를 위해 classification_report 모듈을 이용한다.\n",
    "\n",
    "이 모듈은 모형 성능평가를 위한 모듈\n",
    "정밀도(precision), 재현율(recall), F1-score, support를 구해준다."
   ]
  },
  {
   "cell_type": "code",
   "execution_count": 16,
   "id": "094ec6a1",
   "metadata": {},
   "outputs": [
    {
     "name": "stdout",
     "output_type": "stream",
     "text": [
      "Optimization terminated successfully.\n",
      "         Current function value: 0.201859\n",
      "         Iterations 9\n"
     ]
    }
   ],
   "source": [
    "# 로지스틱 회귀분석 학습\n",
    "trains_cols = df.columns[1:] # train_cols는 독립(설명)변수\n",
    "logit = sm.Logit(df[['target']],x)\n",
    "\n",
    "# 로지스틱 회귀모델을 적합 시킬 때에 사용하는 최적화 기법 지정\n",
    "result = logit.fit(method = 'newton')"
   ]
  },
  {
   "cell_type": "code",
   "execution_count": 17,
   "id": "e554eeb0",
   "metadata": {},
   "outputs": [
    {
     "data": {
      "text/plain": [
       "mean radius       3.354949\n",
       "mean texture     -0.238953\n",
       "mean area        -0.053430\n",
       "mean symmetry   -48.417914\n",
       "dtype: float64"
      ]
     },
     "execution_count": 17,
     "metadata": {},
     "output_type": "execute_result"
    }
   ],
   "source": [
    "## 회귀계수 확인\n",
    "result.params"
   ]
  },
  {
   "cell_type": "code",
   "execution_count": 18,
   "id": "0fe38367",
   "metadata": {},
   "outputs": [
    {
     "data": {
      "text/html": [
       "<table class=\"simpletable\">\n",
       "<tr>\n",
       "        <td>Model:</td>              <td>Logit</td>      <td>Pseudo R-squared:</td>    <td>0.694</td>   \n",
       "</tr>\n",
       "<tr>\n",
       "  <td>Dependent Variable:</td>      <td>target</td>            <td>AIC:</td>         <td>237.7160</td>  \n",
       "</tr>\n",
       "<tr>\n",
       "         <td>Date:</td>        <td>2022-05-24 18:53</td>       <td>BIC:</td>         <td>255.0915</td>  \n",
       "</tr>\n",
       "<tr>\n",
       "   <td>No. Observations:</td>         <td>569</td>        <td>Log-Likelihood:</td>    <td>-114.86</td>  \n",
       "</tr>\n",
       "<tr>\n",
       "       <td>Df Model:</td>              <td>3</td>            <td>LL-Null:</td>        <td>-375.72</td>  \n",
       "</tr>\n",
       "<tr>\n",
       "     <td>Df Residuals:</td>           <td>565</td>         <td>LLR p-value:</td>    <td>9.3445e-113</td>\n",
       "</tr>\n",
       "<tr>\n",
       "      <td>Converged:</td>           <td>1.0000</td>           <td>Scale:</td>         <td>1.0000</td>   \n",
       "</tr>\n",
       "<tr>\n",
       "    <td>No. Iterations:</td>        <td>9.0000</td>              <td></td>               <td></td>      \n",
       "</tr>\n",
       "</table>\n",
       "<table class=\"simpletable\">\n",
       "<tr>\n",
       "        <td></td>          <th>Coef.</th>  <th>Std.Err.</th>    <th>z</th>     <th>P>|z|</th>  <th>[0.025</th>   <th>0.975]</th> \n",
       "</tr>\n",
       "<tr>\n",
       "  <th>mean radius</th>    <td>3.3549</td>   <td>0.3513</td>  <td>9.5509</td>  <td>0.0000</td>  <td>2.6665</td>   <td>4.0434</td> \n",
       "</tr>\n",
       "<tr>\n",
       "  <th>mean texture</th>   <td>-0.2390</td>  <td>0.0425</td>  <td>-5.6183</td> <td>0.0000</td>  <td>-0.3223</td>  <td>-0.1556</td>\n",
       "</tr>\n",
       "<tr>\n",
       "  <th>mean area</th>      <td>-0.0534</td>  <td>0.0054</td>  <td>-9.9148</td> <td>0.0000</td>  <td>-0.0640</td>  <td>-0.0429</td>\n",
       "</tr>\n",
       "<tr>\n",
       "  <th>mean symmetry</th> <td>-48.4179</td>  <td>6.9653</td>  <td>-6.9513</td> <td>0.0000</td> <td>-62.0696</td> <td>-34.7662</td>\n",
       "</tr>\n",
       "</table>"
      ],
      "text/plain": [
       "<class 'statsmodels.iolib.summary2.Summary'>\n",
       "\"\"\"\n",
       "                          Results: Logit\n",
       "==================================================================\n",
       "Model:              Logit            Pseudo R-squared: 0.694      \n",
       "Dependent Variable: target           AIC:              237.7160   \n",
       "Date:               2022-05-24 18:53 BIC:              255.0915   \n",
       "No. Observations:   569              Log-Likelihood:   -114.86    \n",
       "Df Model:           3                LL-Null:          -375.72    \n",
       "Df Residuals:       565              LLR p-value:      9.3445e-113\n",
       "Converged:          1.0000           Scale:            1.0000     \n",
       "No. Iterations:     9.0000                                        \n",
       "------------------------------------------------------------------\n",
       "                 Coef.   Std.Err.    z    P>|z|   [0.025   0.975] \n",
       "------------------------------------------------------------------\n",
       "mean radius       3.3549   0.3513  9.5509 0.0000   2.6665   4.0434\n",
       "mean texture     -0.2390   0.0425 -5.6183 0.0000  -0.3223  -0.1556\n",
       "mean area        -0.0534   0.0054 -9.9148 0.0000  -0.0640  -0.0429\n",
       "mean symmetry   -48.4179   6.9653 -6.9513 0.0000 -62.0696 -34.7662\n",
       "==================================================================\n",
       "\n",
       "\"\"\""
      ]
     },
     "execution_count": 18,
     "metadata": {},
     "output_type": "execute_result"
    }
   ],
   "source": [
    "##summary 함수로 결과 확인\n",
    "result.summary2()"
   ]
  },
  {
   "cell_type": "markdown",
   "id": "48642a0a",
   "metadata": {},
   "source": [
    "각 회귀계수가 합격 여부에 어떻게 영향을 미치는지 확인한다. 먼저, 유의확률(P>|z|) 즉 P-value를 본다. \n",
    "P-value의 기본값인 0.05 이하인 경우 유의미한 값으로 보기 때문에 학점 변수가 종속변수에 영향을 주\n",
    "는 유의미한 변수임을 알 수 있다. 입시점수를 제외하고 계속해서 해석을 진행한다. 편회귀계수(Coef.)의 \n",
    "부호를 통해 종속변수에 미치는 영향의 방향을 파악할 수 있다. 편회귀계수(Coef.)의 값이 양수라면 합격\n",
    "여부가 ‘1’일 확률이 높아진다는 뜻이다. 반대로 음수라면 합격 여부의 값이 ‘0’일 확률이 높아진다는 뜻이\n",
    "다. 따라서 모형의 회귀계수 분석결과는 다음과 같다. 통계량에 나와있는 편회귀계수의 값 자체만으로는 \n",
    "각 변수들이 종속변수에 얼마나 영향을 주는지는 파악할 수 없다.\n",
    "\n",
    "유의확률 : 유의확률(p-value, p값)은 귀무가설이 진실일 때 적어도 그 정도의 극단적인 표본값이 나올 확률, 즉 귀무가설이 참임에도 이를 기각할 확률  \n",
    "유의수준 : 유의수준은 귀무가설의 기각여부를 결정하는데 사용하는 기준이 되는 확률  \n",
    "귀무가설 : 설정한 가설이 진실일 확률이 극히 적어 처음부터 버릴 것이 예상되는 가설  \n",
    "편회귀계수 : 회귀식에 포함되는 다른 변수의 영향을 제거한 후 독립변수가 종속변수에 주는 영향을 나타낸다. 원인(독립변수)이 여러 개인 다중회귀분석에서의 회귀계수를 의미"
   ]
  },
  {
   "cell_type": "code",
   "execution_count": 19,
   "id": "0e1330ab",
   "metadata": {},
   "outputs": [
    {
     "data": {
      "text/plain": [
       "mean radius      2.864415e+01\n",
       "mean texture     7.874519e-01\n",
       "mean area        9.479722e-01\n",
       "mean symmetry    9.383545e-22\n",
       "dtype: float64"
      ]
     },
     "execution_count": 19,
     "metadata": {},
     "output_type": "execute_result"
    }
   ],
   "source": [
    "#종속변수에 미치는 정도는 오즈비(Odds Ratio, 승산비)를 통해 파악할 수 있다.\n",
    "np.exp(result.params)"
   ]
  },
  {
   "cell_type": "code",
   "execution_count": 40,
   "id": "97a8a51d",
   "metadata": {},
   "outputs": [
    {
     "name": "stdout",
     "output_type": "stream",
     "text": [
      "[[38  4]\n",
      " [ 6 66]]\n"
     ]
    }
   ],
   "source": [
    "##cut_off 함수를 생성하여 임계치(threshold) 설정\n",
    "##로지스틱은 확률값을 표현하기 때문에 임계치를 정해줘야 함\n",
    "##일반적으로 임계치를 0.5로 정하여, 0.5 이상이면 1로, 아니면 0으로 판단\n",
    "def cut_off(y, threshold):\n",
    "    Y = y.copy() #대문자 Y를 새로운 변수로 지정하여 기존의 y값에 영향을 주지 않도록 함\n",
    "    Y[Y > threshold] = 1\n",
    "    Y[Y <= threshold] = 0\n",
    "    return(Y.astype(int))\n",
    "\n",
    "pred_Y = cut_off(pred_y, 0.5)\n",
    "\n",
    "##confusion_matrix 함수로 혼동행렬을 뽑는다\n",
    "cfmat = confusion_matrix(y_test, pred_Y)\n",
    "print(cfmat)"
   ]
  },
  {
   "cell_type": "code",
   "execution_count": null,
   "id": "f64b7a70",
   "metadata": {},
   "outputs": [],
   "source": []
  }
 ],
 "metadata": {
  "kernelspec": {
   "display_name": "Python 3 (ipykernel)",
   "language": "python",
   "name": "python3"
  },
  "language_info": {
   "codemirror_mode": {
    "name": "ipython",
    "version": 3
   },
   "file_extension": ".py",
   "mimetype": "text/x-python",
   "name": "python",
   "nbconvert_exporter": "python",
   "pygments_lexer": "ipython3",
   "version": "3.9.12"
  }
 },
 "nbformat": 4,
 "nbformat_minor": 5
}
