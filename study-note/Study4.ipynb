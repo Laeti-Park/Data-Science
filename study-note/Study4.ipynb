{
 "cells": [
  {
   "cell_type": "markdown",
   "metadata": {
    "pycharm": {
     "name": "#%% md\n"
    }
   },
   "source": [
    "## 판다스\n",
    "- 판다스(pandas) : 파이썬의 데이터 분석 라이브러리로 데이터 테이블을 다룸\n",
    "    - 인덱싱, 연산, 전처리 등의 다양한 함수를 제공하기 때문에, 넘파이를 효율적으로 활용할 수 있음\n",
    "- 데이터프레임(DataFrame) : 데이터 테이블 전체를 가리키는 객체로 열과 행 각각 사용해 하나의 데이터 접근\n",
    "- 시리즈(Series) : 피쳐 벡터와 같은 개념으로 데이터, 인덱스, 데이터 타입으로 구성되는 객체\n",
    "\n",
    "\n",
    "### 시리즈 객체와 인덱스\n",
    "\n",
    "- 시리즈 객체는 넘파이 배열의 하위 클래스\n",
    "- 넘파이가 지원하는 데이터 타입 모두 지원\n",
    "- 인덱스와 반드시 정렬되어 있을 필요 없음\n",
    "- 인덱스 값은 중복 허용\n",
    "- 인덱스 값을 기준으로 객체 생성되며, 기존 데이터에 인덱스 값이 추가되면 NaN 값 발생"
   ]
  },
  {
   "cell_type": "code",
   "execution_count": 1,
   "metadata": {
    "pycharm": {
     "name": "#%%\n"
    }
   },
   "outputs": [
    {
     "data": {
      "text/plain": "(index\n a    1\n b    2\n c    3\n d    4\n e    5\n Name: series name, dtype: int64,\n Index(['a', 'b', 'c', 'd', 'e'], dtype='object', name='index'),\n array([1, 2, 3, 4, 5], dtype=int64),\n numpy.ndarray)"
     },
     "execution_count": 1,
     "metadata": {},
     "output_type": "execute_result"
    }
   ],
   "source": [
    "import pandas as pd\n",
    "import numpy as np\n",
    "from pandas import Series\n",
    "\n",
    "list_data = [1, 2, 3, 4, 5]\n",
    "list_name = [\"a\", \"b\", \"c\", \"d\", \"e\"]\n",
    "example = Series(data=list_data, index=list_name, dtype=np.int64)\n",
    "example.name = \"series name\"  # 시리즈 객체(열) 이름 설정\n",
    "example.index.name = \"index\"  # 인덱스 이름 설정\n",
    "example, example.index, example.values, type(example.values)"
   ]
  },
  {
   "cell_type": "markdown",
   "metadata": {
    "pycharm": {
     "name": "#%% md\n"
    }
   },
   "source": [
    "### 파일을 데이터프레임으로 읽기\n",
    "- read_csv, read_excel : csv, excel 파일 읽어오기"
   ]
  },
  {
   "cell_type": "code",
   "execution_count": 2,
   "metadata": {
    "pycharm": {
     "name": "#%%\n"
    }
   },
   "outputs": [
    {
     "data": {
      "text/plain": "   sum_age_mainactors  avg_slap_face   genre\n0                46.0         0.1750  청소년드라마\n1                44.0         0.1750  청소년드라마\n2                42.0         0.1625  청소년드라마\n3                41.0         0.1875  청소년드라마\n4                45.0         0.1750  청소년드라마",
      "text/html": "<div>\n<style scoped>\n    .dataframe tbody tr th:only-of-type {\n        vertical-align: middle;\n    }\n\n    .dataframe tbody tr th {\n        vertical-align: top;\n    }\n\n    .dataframe thead th {\n        text-align: right;\n    }\n</style>\n<table border=\"1\" class=\"dataframe\">\n  <thead>\n    <tr style=\"text-align: right;\">\n      <th></th>\n      <th>sum_age_mainactors</th>\n      <th>avg_slap_face</th>\n      <th>genre</th>\n    </tr>\n  </thead>\n  <tbody>\n    <tr>\n      <th>0</th>\n      <td>46.0</td>\n      <td>0.1750</td>\n      <td>청소년드라마</td>\n    </tr>\n    <tr>\n      <th>1</th>\n      <td>44.0</td>\n      <td>0.1750</td>\n      <td>청소년드라마</td>\n    </tr>\n    <tr>\n      <th>2</th>\n      <td>42.0</td>\n      <td>0.1625</td>\n      <td>청소년드라마</td>\n    </tr>\n    <tr>\n      <th>3</th>\n      <td>41.0</td>\n      <td>0.1875</td>\n      <td>청소년드라마</td>\n    </tr>\n    <tr>\n      <th>4</th>\n      <td>45.0</td>\n      <td>0.1750</td>\n      <td>청소년드라마</td>\n    </tr>\n  </tbody>\n</table>\n</div>"
     },
     "execution_count": 2,
     "metadata": {},
     "output_type": "execute_result"
    }
   ],
   "source": [
    "df = pd.read_csv(\"../Data/ch04/drama_genre.csv\", encoding=\"ansi\")\n",
    "df.head()"
   ]
  },
  {
   "cell_type": "code",
   "execution_count": 3,
   "metadata": {
    "pycharm": {
     "name": "#%%\n"
    }
   },
   "outputs": [
    {
     "data": {
      "text/plain": "   account                         name                                street  \\\n0   211829   Kerluke, Koepp and Hilpert                    34456 Sean Highway   \n1   320563               Walter-Trantow                     1311 Alvis Tunnel   \n2   648336   Bashirian, Kunde and Price  62184 Schamberger Underpass Apt. 231   \n3   109996  D'Amore, Gleichner and Bode           155 Fadel Crescent Apt. 144   \n4   121213                Bauch-Goldner                   7274 Marissa Common   \n\n              city          state  postal-code     Jan     Feb    Mar  \n0       New Jaycob          Texas        28752   10000   62000  35000  \n1    Port Khadijah  NorthCarolina        38365   95000   45000  35000  \n2   New Lilianland           Iowa        76517   91000  120000  35000  \n3       Hyattburgh          Maine        46021   45000  120000  10000  \n4  Shanahanchester     California        49681  162000  120000  35000  ",
      "text/html": "<div>\n<style scoped>\n    .dataframe tbody tr th:only-of-type {\n        vertical-align: middle;\n    }\n\n    .dataframe tbody tr th {\n        vertical-align: top;\n    }\n\n    .dataframe thead th {\n        text-align: right;\n    }\n</style>\n<table border=\"1\" class=\"dataframe\">\n  <thead>\n    <tr style=\"text-align: right;\">\n      <th></th>\n      <th>account</th>\n      <th>name</th>\n      <th>street</th>\n      <th>city</th>\n      <th>state</th>\n      <th>postal-code</th>\n      <th>Jan</th>\n      <th>Feb</th>\n      <th>Mar</th>\n    </tr>\n  </thead>\n  <tbody>\n    <tr>\n      <th>0</th>\n      <td>211829</td>\n      <td>Kerluke, Koepp and Hilpert</td>\n      <td>34456 Sean Highway</td>\n      <td>New Jaycob</td>\n      <td>Texas</td>\n      <td>28752</td>\n      <td>10000</td>\n      <td>62000</td>\n      <td>35000</td>\n    </tr>\n    <tr>\n      <th>1</th>\n      <td>320563</td>\n      <td>Walter-Trantow</td>\n      <td>1311 Alvis Tunnel</td>\n      <td>Port Khadijah</td>\n      <td>NorthCarolina</td>\n      <td>38365</td>\n      <td>95000</td>\n      <td>45000</td>\n      <td>35000</td>\n    </tr>\n    <tr>\n      <th>2</th>\n      <td>648336</td>\n      <td>Bashirian, Kunde and Price</td>\n      <td>62184 Schamberger Underpass Apt. 231</td>\n      <td>New Lilianland</td>\n      <td>Iowa</td>\n      <td>76517</td>\n      <td>91000</td>\n      <td>120000</td>\n      <td>35000</td>\n    </tr>\n    <tr>\n      <th>3</th>\n      <td>109996</td>\n      <td>D'Amore, Gleichner and Bode</td>\n      <td>155 Fadel Crescent Apt. 144</td>\n      <td>Hyattburgh</td>\n      <td>Maine</td>\n      <td>46021</td>\n      <td>45000</td>\n      <td>120000</td>\n      <td>10000</td>\n    </tr>\n    <tr>\n      <th>4</th>\n      <td>121213</td>\n      <td>Bauch-Goldner</td>\n      <td>7274 Marissa Common</td>\n      <td>Shanahanchester</td>\n      <td>California</td>\n      <td>49681</td>\n      <td>162000</td>\n      <td>120000</td>\n      <td>35000</td>\n    </tr>\n  </tbody>\n</table>\n</div>"
     },
     "execution_count": 3,
     "metadata": {},
     "output_type": "execute_result"
    }
   ],
   "source": [
    "df = pd.read_excel(\"../Data/ch04/excel-comp-data.xlsx\")\n",
    "df.head()"
   ]
  },
  {
   "cell_type": "markdown",
   "metadata": {
    "pycharm": {
     "name": "#%% md\n"
    }
   },
   "source": [
    "- 데이터프레임 직접 생성 : 시리즈를 먼저 만들어준 뒤 pd.DataFrame()을 통해 생성"
   ]
  },
  {
   "cell_type": "code",
   "execution_count": 4,
   "metadata": {
    "pycharm": {
     "name": "#%%\n"
    }
   },
   "outputs": [
    {
     "data": {
      "text/plain": "     이름  나이\n0  Park  25\n1  Jeon  36\n2   Lee  27",
      "text/html": "<div>\n<style scoped>\n    .dataframe tbody tr th:only-of-type {\n        vertical-align: middle;\n    }\n\n    .dataframe tbody tr th {\n        vertical-align: top;\n    }\n\n    .dataframe thead th {\n        text-align: right;\n    }\n</style>\n<table border=\"1\" class=\"dataframe\">\n  <thead>\n    <tr style=\"text-align: right;\">\n      <th></th>\n      <th>이름</th>\n      <th>나이</th>\n    </tr>\n  </thead>\n  <tbody>\n    <tr>\n      <th>0</th>\n      <td>Park</td>\n      <td>25</td>\n    </tr>\n    <tr>\n      <th>1</th>\n      <td>Jeon</td>\n      <td>36</td>\n    </tr>\n    <tr>\n      <th>2</th>\n      <td>Lee</td>\n      <td>27</td>\n    </tr>\n  </tbody>\n</table>\n</div>"
     },
     "execution_count": 4,
     "metadata": {},
     "output_type": "execute_result"
    }
   ],
   "source": [
    "raw_data = {'이름': ['Park', 'Jeon', 'Lee'],\n",
    "            '나이': [25, 36, 27]}\n",
    "\n",
    "df = pd.DataFrame(raw_data, columns=['이름', '나이'])  # 이름, 나이 열을 가져온 데이터프레임 생성\n",
    "df  # 데이터가 존재하지 않는 열인 경우 NaN 값으로 추가"
   ]
  },
  {
   "cell_type": "markdown",
   "metadata": {
    "pycharm": {
     "name": "#%% md\n"
    }
   },
   "source": [
    "### 데이터 추출\n",
    "- head(), tail() : 처음 n개 행이나 마지막 n개 행 추출, 기본값 5"
   ]
  },
  {
   "cell_type": "code",
   "execution_count": 5,
   "metadata": {
    "pycharm": {
     "name": "#%%\n"
    }
   },
   "outputs": [
    {
     "data": {
      "text/plain": "   account                        name                                street  \\\n0   211829  Kerluke, Koepp and Hilpert                    34456 Sean Highway   \n1   320563              Walter-Trantow                     1311 Alvis Tunnel   \n2   648336  Bashirian, Kunde and Price  62184 Schamberger Underpass Apt. 231   \n\n             city          state  postal-code    Jan     Feb    Mar  \n0      New Jaycob          Texas        28752  10000   62000  35000  \n1   Port Khadijah  NorthCarolina        38365  95000   45000  35000  \n2  New Lilianland           Iowa        76517  91000  120000  35000  ",
      "text/html": "<div>\n<style scoped>\n    .dataframe tbody tr th:only-of-type {\n        vertical-align: middle;\n    }\n\n    .dataframe tbody tr th {\n        vertical-align: top;\n    }\n\n    .dataframe thead th {\n        text-align: right;\n    }\n</style>\n<table border=\"1\" class=\"dataframe\">\n  <thead>\n    <tr style=\"text-align: right;\">\n      <th></th>\n      <th>account</th>\n      <th>name</th>\n      <th>street</th>\n      <th>city</th>\n      <th>state</th>\n      <th>postal-code</th>\n      <th>Jan</th>\n      <th>Feb</th>\n      <th>Mar</th>\n    </tr>\n  </thead>\n  <tbody>\n    <tr>\n      <th>0</th>\n      <td>211829</td>\n      <td>Kerluke, Koepp and Hilpert</td>\n      <td>34456 Sean Highway</td>\n      <td>New Jaycob</td>\n      <td>Texas</td>\n      <td>28752</td>\n      <td>10000</td>\n      <td>62000</td>\n      <td>35000</td>\n    </tr>\n    <tr>\n      <th>1</th>\n      <td>320563</td>\n      <td>Walter-Trantow</td>\n      <td>1311 Alvis Tunnel</td>\n      <td>Port Khadijah</td>\n      <td>NorthCarolina</td>\n      <td>38365</td>\n      <td>95000</td>\n      <td>45000</td>\n      <td>35000</td>\n    </tr>\n    <tr>\n      <th>2</th>\n      <td>648336</td>\n      <td>Bashirian, Kunde and Price</td>\n      <td>62184 Schamberger Underpass Apt. 231</td>\n      <td>New Lilianland</td>\n      <td>Iowa</td>\n      <td>76517</td>\n      <td>91000</td>\n      <td>120000</td>\n      <td>35000</td>\n    </tr>\n  </tbody>\n</table>\n</div>"
     },
     "execution_count": 5,
     "metadata": {},
     "output_type": "execute_result"
    }
   ],
   "source": [
    "df = pd.read_excel(\"../Data/ch04/excel-comp-data.xlsx\")\n",
    "df.head(3)"
   ]
  },
  {
   "cell_type": "code",
   "execution_count": 6,
   "metadata": {
    "pycharm": {
     "name": "#%%\n"
    }
   },
   "outputs": [
    {
     "data": {
      "text/plain": "    account                          name                    street  \\\n11   231907                    Hahn-Moore  18115 Olivine Throughway   \n12   242368  Frami, Anderson and Donnelly           182 Bertie Road   \n13   268755                   Walsh-Haley      2624 Beatty Parkways   \n14   273274                 McDermott PLC     8917 Bergstrom Meadow   \n\n               city        state  postal-code     Jan     Feb     Mar  \n11    Norbertomouth  NorthDakota        31415  150000   10000  162000  \n12      East Davian         Iowa        72686  162000  120000   35000  \n13     Goodwinmouth  RhodeIsland        31919   55000  120000   35000  \n14  Kathryneborough     Delaware        27933  150000  120000   70000  ",
      "text/html": "<div>\n<style scoped>\n    .dataframe tbody tr th:only-of-type {\n        vertical-align: middle;\n    }\n\n    .dataframe tbody tr th {\n        vertical-align: top;\n    }\n\n    .dataframe thead th {\n        text-align: right;\n    }\n</style>\n<table border=\"1\" class=\"dataframe\">\n  <thead>\n    <tr style=\"text-align: right;\">\n      <th></th>\n      <th>account</th>\n      <th>name</th>\n      <th>street</th>\n      <th>city</th>\n      <th>state</th>\n      <th>postal-code</th>\n      <th>Jan</th>\n      <th>Feb</th>\n      <th>Mar</th>\n    </tr>\n  </thead>\n  <tbody>\n    <tr>\n      <th>11</th>\n      <td>231907</td>\n      <td>Hahn-Moore</td>\n      <td>18115 Olivine Throughway</td>\n      <td>Norbertomouth</td>\n      <td>NorthDakota</td>\n      <td>31415</td>\n      <td>150000</td>\n      <td>10000</td>\n      <td>162000</td>\n    </tr>\n    <tr>\n      <th>12</th>\n      <td>242368</td>\n      <td>Frami, Anderson and Donnelly</td>\n      <td>182 Bertie Road</td>\n      <td>East Davian</td>\n      <td>Iowa</td>\n      <td>72686</td>\n      <td>162000</td>\n      <td>120000</td>\n      <td>35000</td>\n    </tr>\n    <tr>\n      <th>13</th>\n      <td>268755</td>\n      <td>Walsh-Haley</td>\n      <td>2624 Beatty Parkways</td>\n      <td>Goodwinmouth</td>\n      <td>RhodeIsland</td>\n      <td>31919</td>\n      <td>55000</td>\n      <td>120000</td>\n      <td>35000</td>\n    </tr>\n    <tr>\n      <th>14</th>\n      <td>273274</td>\n      <td>McDermott PLC</td>\n      <td>8917 Bergstrom Meadow</td>\n      <td>Kathryneborough</td>\n      <td>Delaware</td>\n      <td>27933</td>\n      <td>150000</td>\n      <td>120000</td>\n      <td>70000</td>\n    </tr>\n  </tbody>\n</table>\n</div>"
     },
     "execution_count": 6,
     "metadata": {},
     "output_type": "execute_result"
    }
   ],
   "source": [
    "df.tail(4)"
   ]
  },
  {
   "cell_type": "code",
   "execution_count": 7,
   "metadata": {
    "pycharm": {
     "name": "#%%\n"
    }
   },
   "outputs": [
    {
     "data": {
      "text/plain": "   account                         name\n0   211829   Kerluke, Koepp and Hilpert\n1   320563               Walter-Trantow\n2   648336   Bashirian, Kunde and Price\n3   109996  D'Amore, Gleichner and Bode",
      "text/html": "<div>\n<style scoped>\n    .dataframe tbody tr th:only-of-type {\n        vertical-align: middle;\n    }\n\n    .dataframe tbody tr th {\n        vertical-align: top;\n    }\n\n    .dataframe thead th {\n        text-align: right;\n    }\n</style>\n<table border=\"1\" class=\"dataframe\">\n  <thead>\n    <tr style=\"text-align: right;\">\n      <th></th>\n      <th>account</th>\n      <th>name</th>\n    </tr>\n  </thead>\n  <tbody>\n    <tr>\n      <th>0</th>\n      <td>211829</td>\n      <td>Kerluke, Koepp and Hilpert</td>\n    </tr>\n    <tr>\n      <th>1</th>\n      <td>320563</td>\n      <td>Walter-Trantow</td>\n    </tr>\n    <tr>\n      <th>2</th>\n      <td>648336</td>\n      <td>Bashirian, Kunde and Price</td>\n    </tr>\n    <tr>\n      <th>3</th>\n      <td>109996</td>\n      <td>D'Amore, Gleichner and Bode</td>\n    </tr>\n  </tbody>\n</table>\n</div>"
     },
     "execution_count": 7,
     "metadata": {},
     "output_type": "execute_result"
    }
   ],
   "source": [
    "# df 열을 선택해 출력 (시리즈 [] / 데이터프레임 [[,]])\n",
    "df[[\"account\", \"name\"]].head(4)  # 선택할 열이 여러 개일 경우 데이터프레임으로 묶는다."
   ]
  },
  {
   "cell_type": "code",
   "execution_count": 8,
   "metadata": {
    "pycharm": {
     "name": "#%%\n"
    }
   },
   "outputs": [
    {
     "data": {
      "text/plain": "   account                        name              street           city  \\\n0   211829  Kerluke, Koepp and Hilpert  34456 Sean Highway     New Jaycob   \n1   320563              Walter-Trantow   1311 Alvis Tunnel  Port Khadijah   \n\n           state  postal-code    Jan    Feb    Mar  \n0          Texas        28752  10000  62000  35000  \n1  NorthCarolina        38365  95000  45000  35000  ",
      "text/html": "<div>\n<style scoped>\n    .dataframe tbody tr th:only-of-type {\n        vertical-align: middle;\n    }\n\n    .dataframe tbody tr th {\n        vertical-align: top;\n    }\n\n    .dataframe thead th {\n        text-align: right;\n    }\n</style>\n<table border=\"1\" class=\"dataframe\">\n  <thead>\n    <tr style=\"text-align: right;\">\n      <th></th>\n      <th>account</th>\n      <th>name</th>\n      <th>street</th>\n      <th>city</th>\n      <th>state</th>\n      <th>postal-code</th>\n      <th>Jan</th>\n      <th>Feb</th>\n      <th>Mar</th>\n    </tr>\n  </thead>\n  <tbody>\n    <tr>\n      <th>0</th>\n      <td>211829</td>\n      <td>Kerluke, Koepp and Hilpert</td>\n      <td>34456 Sean Highway</td>\n      <td>New Jaycob</td>\n      <td>Texas</td>\n      <td>28752</td>\n      <td>10000</td>\n      <td>62000</td>\n      <td>35000</td>\n    </tr>\n    <tr>\n      <th>1</th>\n      <td>320563</td>\n      <td>Walter-Trantow</td>\n      <td>1311 Alvis Tunnel</td>\n      <td>Port Khadijah</td>\n      <td>NorthCarolina</td>\n      <td>38365</td>\n      <td>95000</td>\n      <td>45000</td>\n      <td>35000</td>\n    </tr>\n  </tbody>\n</table>\n</div>"
     },
     "execution_count": 8,
     "metadata": {},
     "output_type": "execute_result"
    }
   ],
   "source": [
    "df[:2]  # 인덱스 번호로 행 추출"
   ]
  },
  {
   "cell_type": "code",
   "execution_count": 9,
   "metadata": {
    "pycharm": {
     "name": "#%%\n"
    }
   },
   "outputs": [
    {
     "data": {
      "text/plain": "0    Kerluke, Koepp and Hilpert\n1                Walter-Trantow\nName: name, dtype: object"
     },
     "execution_count": 9,
     "metadata": {},
     "output_type": "execute_result"
    }
   ],
   "source": [
    "df[\"name\"][:2]  # 이름 열의 2번째 행까지 추출"
   ]
  },
  {
   "cell_type": "markdown",
   "metadata": {
    "pycharm": {
     "name": "#%% md\n"
    }
   },
   "source": [
    "- loc[] : 인덱스 이름과 열 이름을 데이터 추출"
   ]
  },
  {
   "cell_type": "code",
   "execution_count": 10,
   "metadata": {
    "pycharm": {
     "name": "#%%\n"
    }
   },
   "outputs": [
    {
     "data": {
      "text/plain": "                                name                                street  \\\naccount                                                                      \n211829    Kerluke, Koepp and Hilpert                    34456 Sean Highway   \n320563                Walter-Trantow                     1311 Alvis Tunnel   \n648336    Bashirian, Kunde and Price  62184 Schamberger Underpass Apt. 231   \n109996   D'Amore, Gleichner and Bode           155 Fadel Crescent Apt. 144   \n121213                 Bauch-Goldner                   7274 Marissa Common   \n\n                    city          state  postal-code     Jan     Feb    Mar  \naccount                                                                      \n211829        New Jaycob          Texas        28752   10000   62000  35000  \n320563     Port Khadijah  NorthCarolina        38365   95000   45000  35000  \n648336    New Lilianland           Iowa        76517   91000  120000  35000  \n109996        Hyattburgh          Maine        46021   45000  120000  10000  \n121213   Shanahanchester     California        49681  162000  120000  35000  ",
      "text/html": "<div>\n<style scoped>\n    .dataframe tbody tr th:only-of-type {\n        vertical-align: middle;\n    }\n\n    .dataframe tbody tr th {\n        vertical-align: top;\n    }\n\n    .dataframe thead th {\n        text-align: right;\n    }\n</style>\n<table border=\"1\" class=\"dataframe\">\n  <thead>\n    <tr style=\"text-align: right;\">\n      <th></th>\n      <th>name</th>\n      <th>street</th>\n      <th>city</th>\n      <th>state</th>\n      <th>postal-code</th>\n      <th>Jan</th>\n      <th>Feb</th>\n      <th>Mar</th>\n    </tr>\n    <tr>\n      <th>account</th>\n      <th></th>\n      <th></th>\n      <th></th>\n      <th></th>\n      <th></th>\n      <th></th>\n      <th></th>\n      <th></th>\n    </tr>\n  </thead>\n  <tbody>\n    <tr>\n      <th>211829</th>\n      <td>Kerluke, Koepp and Hilpert</td>\n      <td>34456 Sean Highway</td>\n      <td>New Jaycob</td>\n      <td>Texas</td>\n      <td>28752</td>\n      <td>10000</td>\n      <td>62000</td>\n      <td>35000</td>\n    </tr>\n    <tr>\n      <th>320563</th>\n      <td>Walter-Trantow</td>\n      <td>1311 Alvis Tunnel</td>\n      <td>Port Khadijah</td>\n      <td>NorthCarolina</td>\n      <td>38365</td>\n      <td>95000</td>\n      <td>45000</td>\n      <td>35000</td>\n    </tr>\n    <tr>\n      <th>648336</th>\n      <td>Bashirian, Kunde and Price</td>\n      <td>62184 Schamberger Underpass Apt. 231</td>\n      <td>New Lilianland</td>\n      <td>Iowa</td>\n      <td>76517</td>\n      <td>91000</td>\n      <td>120000</td>\n      <td>35000</td>\n    </tr>\n    <tr>\n      <th>109996</th>\n      <td>D'Amore, Gleichner and Bode</td>\n      <td>155 Fadel Crescent Apt. 144</td>\n      <td>Hyattburgh</td>\n      <td>Maine</td>\n      <td>46021</td>\n      <td>45000</td>\n      <td>120000</td>\n      <td>10000</td>\n    </tr>\n    <tr>\n      <th>121213</th>\n      <td>Bauch-Goldner</td>\n      <td>7274 Marissa Common</td>\n      <td>Shanahanchester</td>\n      <td>California</td>\n      <td>49681</td>\n      <td>162000</td>\n      <td>120000</td>\n      <td>35000</td>\n    </tr>\n  </tbody>\n</table>\n</div>"
     },
     "execution_count": 10,
     "metadata": {},
     "output_type": "execute_result"
    }
   ],
   "source": [
    "df.index = df[\"account\"]  # index값을 account열로 설정\n",
    "del df[\"account\"]  # 인덱스를 제외한 account열 삭제\n",
    "df.head()"
   ]
  },
  {
   "cell_type": "code",
   "execution_count": 11,
   "metadata": {
    "pycharm": {
     "name": "#%%\n"
    }
   },
   "outputs": [
    {
     "data": {
      "text/plain": "                name\naccount             \n231907    Hahn-Moore\n268755   Walsh-Haley",
      "text/html": "<div>\n<style scoped>\n    .dataframe tbody tr th:only-of-type {\n        vertical-align: middle;\n    }\n\n    .dataframe tbody tr th {\n        vertical-align: top;\n    }\n\n    .dataframe thead th {\n        text-align: right;\n    }\n</style>\n<table border=\"1\" class=\"dataframe\">\n  <thead>\n    <tr style=\"text-align: right;\">\n      <th></th>\n      <th>name</th>\n    </tr>\n    <tr>\n      <th>account</th>\n      <th></th>\n    </tr>\n  </thead>\n  <tbody>\n    <tr>\n      <th>231907</th>\n      <td>Hahn-Moore</td>\n    </tr>\n    <tr>\n      <th>268755</th>\n      <td>Walsh-Haley</td>\n    </tr>\n  </tbody>\n</table>\n</div>"
     },
     "execution_count": 11,
     "metadata": {},
     "output_type": "execute_result"
    }
   ],
   "source": [
    "df.loc[[231907, 268755], [\"name\"]]  # 인덱스 이름 231907, 268755의 이름 열 출력"
   ]
  },
  {
   "cell_type": "code",
   "execution_count": 12,
   "metadata": {
    "pycharm": {
     "name": "#%%\n"
    }
   },
   "outputs": [
    {
     "data": {
      "text/plain": "                                 name\naccount                              \n214098    Goodwin, Homenick and Jerde\n231907                     Hahn-Moore\n242368   Frami, Anderson and Donnelly\n268755                    Walsh-Haley\n273274                  McDermott PLC",
      "text/html": "<div>\n<style scoped>\n    .dataframe tbody tr th:only-of-type {\n        vertical-align: middle;\n    }\n\n    .dataframe tbody tr th {\n        vertical-align: top;\n    }\n\n    .dataframe thead th {\n        text-align: right;\n    }\n</style>\n<table border=\"1\" class=\"dataframe\">\n  <thead>\n    <tr style=\"text-align: right;\">\n      <th></th>\n      <th>name</th>\n    </tr>\n    <tr>\n      <th>account</th>\n      <th></th>\n    </tr>\n  </thead>\n  <tbody>\n    <tr>\n      <th>214098</th>\n      <td>Goodwin, Homenick and Jerde</td>\n    </tr>\n    <tr>\n      <th>231907</th>\n      <td>Hahn-Moore</td>\n    </tr>\n    <tr>\n      <th>242368</th>\n      <td>Frami, Anderson and Donnelly</td>\n    </tr>\n    <tr>\n      <th>268755</th>\n      <td>Walsh-Haley</td>\n    </tr>\n    <tr>\n      <th>273274</th>\n      <td>McDermott PLC</td>\n    </tr>\n  </tbody>\n</table>\n</div>"
     },
     "execution_count": 12,
     "metadata": {},
     "output_type": "execute_result"
    }
   ],
   "source": [
    "df.loc[214098:, [\"name\"]]  # 인덱스 이름 648336부터 끝까지의 이름 열 출력"
   ]
  },
  {
   "cell_type": "markdown",
   "metadata": {
    "pycharm": {
     "name": "#%% md\n"
    }
   },
   "source": [
    "- iloc[] : 인덱스 번호로만 데이터 추출"
   ]
  },
  {
   "cell_type": "code",
   "execution_count": 13,
   "metadata": {
    "pycharm": {
     "name": "#%%\n"
    }
   },
   "outputs": [
    {
     "data": {
      "text/plain": "                                name                                street  \\\naccount                                                                      \n211829    Kerluke, Koepp and Hilpert                    34456 Sean Highway   \n320563                Walter-Trantow                     1311 Alvis Tunnel   \n648336    Bashirian, Kunde and Price  62184 Schamberger Underpass Apt. 231   \n109996   D'Amore, Gleichner and Bode           155 Fadel Crescent Apt. 144   \n\n                   city          state  postal-code  \naccount                                              \n211829       New Jaycob          Texas        28752  \n320563    Port Khadijah  NorthCarolina        38365  \n648336   New Lilianland           Iowa        76517  \n109996       Hyattburgh          Maine        46021  ",
      "text/html": "<div>\n<style scoped>\n    .dataframe tbody tr th:only-of-type {\n        vertical-align: middle;\n    }\n\n    .dataframe tbody tr th {\n        vertical-align: top;\n    }\n\n    .dataframe thead th {\n        text-align: right;\n    }\n</style>\n<table border=\"1\" class=\"dataframe\">\n  <thead>\n    <tr style=\"text-align: right;\">\n      <th></th>\n      <th>name</th>\n      <th>street</th>\n      <th>city</th>\n      <th>state</th>\n      <th>postal-code</th>\n    </tr>\n    <tr>\n      <th>account</th>\n      <th></th>\n      <th></th>\n      <th></th>\n      <th></th>\n      <th></th>\n    </tr>\n  </thead>\n  <tbody>\n    <tr>\n      <th>211829</th>\n      <td>Kerluke, Koepp and Hilpert</td>\n      <td>34456 Sean Highway</td>\n      <td>New Jaycob</td>\n      <td>Texas</td>\n      <td>28752</td>\n    </tr>\n    <tr>\n      <th>320563</th>\n      <td>Walter-Trantow</td>\n      <td>1311 Alvis Tunnel</td>\n      <td>Port Khadijah</td>\n      <td>NorthCarolina</td>\n      <td>38365</td>\n    </tr>\n    <tr>\n      <th>648336</th>\n      <td>Bashirian, Kunde and Price</td>\n      <td>62184 Schamberger Underpass Apt. 231</td>\n      <td>New Lilianland</td>\n      <td>Iowa</td>\n      <td>76517</td>\n    </tr>\n    <tr>\n      <th>109996</th>\n      <td>D'Amore, Gleichner and Bode</td>\n      <td>155 Fadel Crescent Apt. 144</td>\n      <td>Hyattburgh</td>\n      <td>Maine</td>\n      <td>46021</td>\n    </tr>\n  </tbody>\n</table>\n</div>"
     },
     "execution_count": 13,
     "metadata": {},
     "output_type": "execute_result"
    }
   ],
   "source": [
    "df.iloc[:4, :5]  # 처음부터 4개 행과 5개 열 추출"
   ]
  },
  {
   "cell_type": "code",
   "execution_count": 14,
   "metadata": {
    "pycharm": {
     "name": "#%%\n"
    }
   },
   "outputs": [
    {
     "data": {
      "text/plain": "   account                         name                                street  \\\n0   211829   Kerluke, Koepp and Hilpert                    34456 Sean Highway   \n1   320563               Walter-Trantow                     1311 Alvis Tunnel   \n2   648336   Bashirian, Kunde and Price  62184 Schamberger Underpass Apt. 231   \n3   109996  D'Amore, Gleichner and Bode           155 Fadel Crescent Apt. 144   \n4   121213                Bauch-Goldner                   7274 Marissa Common   \n\n              city          state  postal-code     Jan     Feb    Mar  \n0       New Jaycob          Texas        28752   10000   62000  35000  \n1    Port Khadijah  NorthCarolina        38365   95000   45000  35000  \n2   New Lilianland           Iowa        76517   91000  120000  35000  \n3       Hyattburgh          Maine        46021   45000  120000  10000  \n4  Shanahanchester     California        49681  162000  120000  35000  ",
      "text/html": "<div>\n<style scoped>\n    .dataframe tbody tr th:only-of-type {\n        vertical-align: middle;\n    }\n\n    .dataframe tbody tr th {\n        vertical-align: top;\n    }\n\n    .dataframe thead th {\n        text-align: right;\n    }\n</style>\n<table border=\"1\" class=\"dataframe\">\n  <thead>\n    <tr style=\"text-align: right;\">\n      <th></th>\n      <th>account</th>\n      <th>name</th>\n      <th>street</th>\n      <th>city</th>\n      <th>state</th>\n      <th>postal-code</th>\n      <th>Jan</th>\n      <th>Feb</th>\n      <th>Mar</th>\n    </tr>\n  </thead>\n  <tbody>\n    <tr>\n      <th>0</th>\n      <td>211829</td>\n      <td>Kerluke, Koepp and Hilpert</td>\n      <td>34456 Sean Highway</td>\n      <td>New Jaycob</td>\n      <td>Texas</td>\n      <td>28752</td>\n      <td>10000</td>\n      <td>62000</td>\n      <td>35000</td>\n    </tr>\n    <tr>\n      <th>1</th>\n      <td>320563</td>\n      <td>Walter-Trantow</td>\n      <td>1311 Alvis Tunnel</td>\n      <td>Port Khadijah</td>\n      <td>NorthCarolina</td>\n      <td>38365</td>\n      <td>95000</td>\n      <td>45000</td>\n      <td>35000</td>\n    </tr>\n    <tr>\n      <th>2</th>\n      <td>648336</td>\n      <td>Bashirian, Kunde and Price</td>\n      <td>62184 Schamberger Underpass Apt. 231</td>\n      <td>New Lilianland</td>\n      <td>Iowa</td>\n      <td>76517</td>\n      <td>91000</td>\n      <td>120000</td>\n      <td>35000</td>\n    </tr>\n    <tr>\n      <th>3</th>\n      <td>109996</td>\n      <td>D'Amore, Gleichner and Bode</td>\n      <td>155 Fadel Crescent Apt. 144</td>\n      <td>Hyattburgh</td>\n      <td>Maine</td>\n      <td>46021</td>\n      <td>45000</td>\n      <td>120000</td>\n      <td>10000</td>\n    </tr>\n    <tr>\n      <th>4</th>\n      <td>121213</td>\n      <td>Bauch-Goldner</td>\n      <td>7274 Marissa Common</td>\n      <td>Shanahanchester</td>\n      <td>California</td>\n      <td>49681</td>\n      <td>162000</td>\n      <td>120000</td>\n      <td>35000</td>\n    </tr>\n  </tbody>\n</table>\n</div>"
     },
     "execution_count": 14,
     "metadata": {},
     "output_type": "execute_result"
    }
   ],
   "source": [
    "df = df.reset_index()  # 인덱스 리셋\n",
    "df.head()  # 기존의 df으로 출력됨"
   ]
  },
  {
   "cell_type": "markdown",
   "metadata": {
    "pycharm": {
     "name": "#%% md\n"
    }
   },
   "source": [
    "- drop() : 특정 열이나 행을 삭제한 객체 반환"
   ]
  },
  {
   "cell_type": "code",
   "execution_count": 15,
   "metadata": {
    "pycharm": {
     "name": "#%%\n"
    }
   },
   "outputs": [
    {
     "data": {
      "text/plain": "    account                              name  \\\n1    320563                    Walter-Trantow   \n2    648336        Bashirian, Kunde and Price   \n3    109996       D'Amore, Gleichner and Bode   \n4    121213                     Bauch-Goldner   \n5    132971  Williamson, Schumm and Hettinger   \n6    145068                        Casper LLC   \n7    205217                  Kovacek-Johnston   \n8    209744                    Champlin-Morar   \n9    212303                    Gerhold-Maggio   \n10   214098       Goodwin, Homenick and Jerde   \n11   231907                        Hahn-Moore   \n12   242368      Frami, Anderson and Donnelly   \n13   268755                       Walsh-Haley   \n14   273274                     McDermott PLC   \n\n                                  street               city          state  \\\n1                      1311 Alvis Tunnel      Port Khadijah  NorthCarolina   \n2   62184 Schamberger Underpass Apt. 231     New Lilianland           Iowa   \n3            155 Fadel Crescent Apt. 144         Hyattburgh          Maine   \n4                    7274 Marissa Common    Shanahanchester     California   \n5                   89403 Casimer Spring       Jeremieburgh       Arkansas   \n6           340 Consuela Bridge Apt. 400  Lake Gabriellaton     Mississipi   \n7           91971 Cronin Vista Suite 601         Deronville    RhodeIsland   \n8                       26739 Grant Lock    Lake Juliannton   Pennsylvania   \n9              366 Maggio Grove Apt. 998          North Ras          Idaho   \n10             649 Cierra Forks Apt. 078           Rosaberg       Tenessee   \n11              18115 Olivine Throughway      Norbertomouth    NorthDakota   \n12                       182 Bertie Road        East Davian           Iowa   \n13                  2624 Beatty Parkways       Goodwinmouth    RhodeIsland   \n14                 8917 Bergstrom Meadow    Kathryneborough       Delaware   \n\n    postal-code     Jan     Feb     Mar  \n1         38365   95000   45000   35000  \n2         76517   91000  120000   35000  \n3         46021   45000  120000   10000  \n4         49681  162000  120000   35000  \n5         62785  150000  120000   35000  \n6         18008   62000  120000   70000  \n7         53461  145000   95000   35000  \n8         64415   70000   95000   35000  \n9         46308   70000  120000   35000  \n10        47743   45000  120000   55000  \n11        31415  150000   10000  162000  \n12        72686  162000  120000   35000  \n13        31919   55000  120000   35000  \n14        27933  150000  120000   70000  ",
      "text/html": "<div>\n<style scoped>\n    .dataframe tbody tr th:only-of-type {\n        vertical-align: middle;\n    }\n\n    .dataframe tbody tr th {\n        vertical-align: top;\n    }\n\n    .dataframe thead th {\n        text-align: right;\n    }\n</style>\n<table border=\"1\" class=\"dataframe\">\n  <thead>\n    <tr style=\"text-align: right;\">\n      <th></th>\n      <th>account</th>\n      <th>name</th>\n      <th>street</th>\n      <th>city</th>\n      <th>state</th>\n      <th>postal-code</th>\n      <th>Jan</th>\n      <th>Feb</th>\n      <th>Mar</th>\n    </tr>\n  </thead>\n  <tbody>\n    <tr>\n      <th>1</th>\n      <td>320563</td>\n      <td>Walter-Trantow</td>\n      <td>1311 Alvis Tunnel</td>\n      <td>Port Khadijah</td>\n      <td>NorthCarolina</td>\n      <td>38365</td>\n      <td>95000</td>\n      <td>45000</td>\n      <td>35000</td>\n    </tr>\n    <tr>\n      <th>2</th>\n      <td>648336</td>\n      <td>Bashirian, Kunde and Price</td>\n      <td>62184 Schamberger Underpass Apt. 231</td>\n      <td>New Lilianland</td>\n      <td>Iowa</td>\n      <td>76517</td>\n      <td>91000</td>\n      <td>120000</td>\n      <td>35000</td>\n    </tr>\n    <tr>\n      <th>3</th>\n      <td>109996</td>\n      <td>D'Amore, Gleichner and Bode</td>\n      <td>155 Fadel Crescent Apt. 144</td>\n      <td>Hyattburgh</td>\n      <td>Maine</td>\n      <td>46021</td>\n      <td>45000</td>\n      <td>120000</td>\n      <td>10000</td>\n    </tr>\n    <tr>\n      <th>4</th>\n      <td>121213</td>\n      <td>Bauch-Goldner</td>\n      <td>7274 Marissa Common</td>\n      <td>Shanahanchester</td>\n      <td>California</td>\n      <td>49681</td>\n      <td>162000</td>\n      <td>120000</td>\n      <td>35000</td>\n    </tr>\n    <tr>\n      <th>5</th>\n      <td>132971</td>\n      <td>Williamson, Schumm and Hettinger</td>\n      <td>89403 Casimer Spring</td>\n      <td>Jeremieburgh</td>\n      <td>Arkansas</td>\n      <td>62785</td>\n      <td>150000</td>\n      <td>120000</td>\n      <td>35000</td>\n    </tr>\n    <tr>\n      <th>6</th>\n      <td>145068</td>\n      <td>Casper LLC</td>\n      <td>340 Consuela Bridge Apt. 400</td>\n      <td>Lake Gabriellaton</td>\n      <td>Mississipi</td>\n      <td>18008</td>\n      <td>62000</td>\n      <td>120000</td>\n      <td>70000</td>\n    </tr>\n    <tr>\n      <th>7</th>\n      <td>205217</td>\n      <td>Kovacek-Johnston</td>\n      <td>91971 Cronin Vista Suite 601</td>\n      <td>Deronville</td>\n      <td>RhodeIsland</td>\n      <td>53461</td>\n      <td>145000</td>\n      <td>95000</td>\n      <td>35000</td>\n    </tr>\n    <tr>\n      <th>8</th>\n      <td>209744</td>\n      <td>Champlin-Morar</td>\n      <td>26739 Grant Lock</td>\n      <td>Lake Juliannton</td>\n      <td>Pennsylvania</td>\n      <td>64415</td>\n      <td>70000</td>\n      <td>95000</td>\n      <td>35000</td>\n    </tr>\n    <tr>\n      <th>9</th>\n      <td>212303</td>\n      <td>Gerhold-Maggio</td>\n      <td>366 Maggio Grove Apt. 998</td>\n      <td>North Ras</td>\n      <td>Idaho</td>\n      <td>46308</td>\n      <td>70000</td>\n      <td>120000</td>\n      <td>35000</td>\n    </tr>\n    <tr>\n      <th>10</th>\n      <td>214098</td>\n      <td>Goodwin, Homenick and Jerde</td>\n      <td>649 Cierra Forks Apt. 078</td>\n      <td>Rosaberg</td>\n      <td>Tenessee</td>\n      <td>47743</td>\n      <td>45000</td>\n      <td>120000</td>\n      <td>55000</td>\n    </tr>\n    <tr>\n      <th>11</th>\n      <td>231907</td>\n      <td>Hahn-Moore</td>\n      <td>18115 Olivine Throughway</td>\n      <td>Norbertomouth</td>\n      <td>NorthDakota</td>\n      <td>31415</td>\n      <td>150000</td>\n      <td>10000</td>\n      <td>162000</td>\n    </tr>\n    <tr>\n      <th>12</th>\n      <td>242368</td>\n      <td>Frami, Anderson and Donnelly</td>\n      <td>182 Bertie Road</td>\n      <td>East Davian</td>\n      <td>Iowa</td>\n      <td>72686</td>\n      <td>162000</td>\n      <td>120000</td>\n      <td>35000</td>\n    </tr>\n    <tr>\n      <th>13</th>\n      <td>268755</td>\n      <td>Walsh-Haley</td>\n      <td>2624 Beatty Parkways</td>\n      <td>Goodwinmouth</td>\n      <td>RhodeIsland</td>\n      <td>31919</td>\n      <td>55000</td>\n      <td>120000</td>\n      <td>35000</td>\n    </tr>\n    <tr>\n      <th>14</th>\n      <td>273274</td>\n      <td>McDermott PLC</td>\n      <td>8917 Bergstrom Meadow</td>\n      <td>Kathryneborough</td>\n      <td>Delaware</td>\n      <td>27933</td>\n      <td>150000</td>\n      <td>120000</td>\n      <td>70000</td>\n    </tr>\n  </tbody>\n</table>\n</div>"
     },
     "execution_count": 15,
     "metadata": {},
     "output_type": "execute_result"
    }
   ],
   "source": [
    "df.drop(0)  # index가 0인 행 삭제\n",
    "df.head()"
   ]
  },
  {
   "cell_type": "code",
   "execution_count": 16,
   "metadata": {
    "pycharm": {
     "name": "#%%\n"
    }
   },
   "outputs": [
    {
     "data": {
      "text/plain": "   account                         name                                street  \\\n0   211829   Kerluke, Koepp and Hilpert                    34456 Sean Highway   \n1   320563               Walter-Trantow                     1311 Alvis Tunnel   \n2   648336   Bashirian, Kunde and Price  62184 Schamberger Underpass Apt. 231   \n3   109996  D'Amore, Gleichner and Bode           155 Fadel Crescent Apt. 144   \n4   121213                Bauch-Goldner                   7274 Marissa Common   \n\n              city          state  postal-code     Jan     Feb    Mar  \n0       New Jaycob          Texas        28752   10000   62000  35000  \n1    Port Khadijah  NorthCarolina        38365   95000   45000  35000  \n2   New Lilianland           Iowa        76517   91000  120000  35000  \n3       Hyattburgh          Maine        46021   45000  120000  10000  \n4  Shanahanchester     California        49681  162000  120000  35000  ",
      "text/html": "<div>\n<style scoped>\n    .dataframe tbody tr th:only-of-type {\n        vertical-align: middle;\n    }\n\n    .dataframe tbody tr th {\n        vertical-align: top;\n    }\n\n    .dataframe thead th {\n        text-align: right;\n    }\n</style>\n<table border=\"1\" class=\"dataframe\">\n  <thead>\n    <tr style=\"text-align: right;\">\n      <th></th>\n      <th>account</th>\n      <th>name</th>\n      <th>street</th>\n      <th>city</th>\n      <th>state</th>\n      <th>postal-code</th>\n      <th>Jan</th>\n      <th>Feb</th>\n      <th>Mar</th>\n    </tr>\n  </thead>\n  <tbody>\n    <tr>\n      <th>0</th>\n      <td>211829</td>\n      <td>Kerluke, Koepp and Hilpert</td>\n      <td>34456 Sean Highway</td>\n      <td>New Jaycob</td>\n      <td>Texas</td>\n      <td>28752</td>\n      <td>10000</td>\n      <td>62000</td>\n      <td>35000</td>\n    </tr>\n    <tr>\n      <th>1</th>\n      <td>320563</td>\n      <td>Walter-Trantow</td>\n      <td>1311 Alvis Tunnel</td>\n      <td>Port Khadijah</td>\n      <td>NorthCarolina</td>\n      <td>38365</td>\n      <td>95000</td>\n      <td>45000</td>\n      <td>35000</td>\n    </tr>\n    <tr>\n      <th>2</th>\n      <td>648336</td>\n      <td>Bashirian, Kunde and Price</td>\n      <td>62184 Schamberger Underpass Apt. 231</td>\n      <td>New Lilianland</td>\n      <td>Iowa</td>\n      <td>76517</td>\n      <td>91000</td>\n      <td>120000</td>\n      <td>35000</td>\n    </tr>\n    <tr>\n      <th>3</th>\n      <td>109996</td>\n      <td>D'Amore, Gleichner and Bode</td>\n      <td>155 Fadel Crescent Apt. 144</td>\n      <td>Hyattburgh</td>\n      <td>Maine</td>\n      <td>46021</td>\n      <td>45000</td>\n      <td>120000</td>\n      <td>10000</td>\n    </tr>\n    <tr>\n      <th>4</th>\n      <td>121213</td>\n      <td>Bauch-Goldner</td>\n      <td>7274 Marissa Common</td>\n      <td>Shanahanchester</td>\n      <td>California</td>\n      <td>49681</td>\n      <td>162000</td>\n      <td>120000</td>\n      <td>35000</td>\n    </tr>\n  </tbody>\n</table>\n</div>"
     },
     "execution_count": 16,
     "metadata": {},
     "output_type": "execute_result"
    }
   ],
   "source": [
    "df.drop(\"name\", axis=1)  # name 열 삭제\n",
    "df.head()"
   ]
  },
  {
   "cell_type": "code",
   "execution_count": 17,
   "metadata": {
    "pycharm": {
     "name": "#%%\n"
    }
   },
   "outputs": [
    {
     "data": {
      "text/plain": "   account                              name  \\\n0   211829        Kerluke, Koepp and Hilpert   \n2   648336        Bashirian, Kunde and Price   \n3   109996       D'Amore, Gleichner and Bode   \n4   121213                     Bauch-Goldner   \n5   132971  Williamson, Schumm and Hettinger   \n\n                                 street             city       state  \\\n0                    34456 Sean Highway       New Jaycob       Texas   \n2  62184 Schamberger Underpass Apt. 231   New Lilianland        Iowa   \n3           155 Fadel Crescent Apt. 144       Hyattburgh       Maine   \n4                   7274 Marissa Common  Shanahanchester  California   \n5                  89403 Casimer Spring     Jeremieburgh    Arkansas   \n\n   postal-code     Jan     Feb    Mar  \n0        28752   10000   62000  35000  \n2        76517   91000  120000  35000  \n3        46021   45000  120000  10000  \n4        49681  162000  120000  35000  \n5        62785  150000  120000  35000  ",
      "text/html": "<div>\n<style scoped>\n    .dataframe tbody tr th:only-of-type {\n        vertical-align: middle;\n    }\n\n    .dataframe tbody tr th {\n        vertical-align: top;\n    }\n\n    .dataframe thead th {\n        text-align: right;\n    }\n</style>\n<table border=\"1\" class=\"dataframe\">\n  <thead>\n    <tr style=\"text-align: right;\">\n      <th></th>\n      <th>account</th>\n      <th>name</th>\n      <th>street</th>\n      <th>city</th>\n      <th>state</th>\n      <th>postal-code</th>\n      <th>Jan</th>\n      <th>Feb</th>\n      <th>Mar</th>\n    </tr>\n  </thead>\n  <tbody>\n    <tr>\n      <th>0</th>\n      <td>211829</td>\n      <td>Kerluke, Koepp and Hilpert</td>\n      <td>34456 Sean Highway</td>\n      <td>New Jaycob</td>\n      <td>Texas</td>\n      <td>28752</td>\n      <td>10000</td>\n      <td>62000</td>\n      <td>35000</td>\n    </tr>\n    <tr>\n      <th>2</th>\n      <td>648336</td>\n      <td>Bashirian, Kunde and Price</td>\n      <td>62184 Schamberger Underpass Apt. 231</td>\n      <td>New Lilianland</td>\n      <td>Iowa</td>\n      <td>76517</td>\n      <td>91000</td>\n      <td>120000</td>\n      <td>35000</td>\n    </tr>\n    <tr>\n      <th>3</th>\n      <td>109996</td>\n      <td>D'Amore, Gleichner and Bode</td>\n      <td>155 Fadel Crescent Apt. 144</td>\n      <td>Hyattburgh</td>\n      <td>Maine</td>\n      <td>46021</td>\n      <td>45000</td>\n      <td>120000</td>\n      <td>10000</td>\n    </tr>\n    <tr>\n      <th>4</th>\n      <td>121213</td>\n      <td>Bauch-Goldner</td>\n      <td>7274 Marissa Common</td>\n      <td>Shanahanchester</td>\n      <td>California</td>\n      <td>49681</td>\n      <td>162000</td>\n      <td>120000</td>\n      <td>35000</td>\n    </tr>\n    <tr>\n      <th>5</th>\n      <td>132971</td>\n      <td>Williamson, Schumm and Hettinger</td>\n      <td>89403 Casimer Spring</td>\n      <td>Jeremieburgh</td>\n      <td>Arkansas</td>\n      <td>62785</td>\n      <td>150000</td>\n      <td>120000</td>\n      <td>35000</td>\n    </tr>\n  </tbody>\n</table>\n</div>"
     },
     "execution_count": 17,
     "metadata": {},
     "output_type": "execute_result"
    }
   ],
   "source": [
    "df.drop(1, inplace=True)  # 삭제한 상태로 df에 반환\n",
    "df.head()"
   ]
  },
  {
   "cell_type": "markdown",
   "metadata": {
    "pycharm": {
     "name": "#%% md\n"
    }
   },
   "source": [
    "## 그룹별 집계\n",
    "- 그룹별 집계(groupby) : 데이터로부터 동일한 객체를 가진 데이터만 따로 뽑아 기술통계 데이터를 추출\n",
    "    - 그룹별 집계는 분할->적용->결합 과정을 거치는 함수\n",
    "    - 분할(split) : 같은 종류 데이터끼리 나누는 기능(groupby('Team'))\n",
    "    - 적용(apply) : 데이터 블록마다 sum, count, mean 등 연산 적용(sum(), mean())\n",
    "    - 결합(combine) : 연산 함수가 적용된 각 블록들을 합침(groupby('Team')['Points'].sum())\n",
    "### 단일 인덱스"
   ]
  },
  {
   "cell_type": "code",
   "execution_count": 18,
   "metadata": {
    "pycharm": {
     "name": "#%%\n"
    }
   },
   "outputs": [
    {
     "data": {
      "text/plain": "      Team  Rank  Year  Points\n0   Riders     1  2014     876\n1   Riders     2  2015     789\n2   Devils     2  2014     863\n3   Devils     3  2015     673\n4    Kings     3  2014     741\n5    kings     4  2015     812\n6    Kings     1  2016     756\n7    Kings     1  2017     788\n8   Riders     2  2016     694\n9   Royals     4  2014     701\n10  Royals     1  2015     804\n11  Riders     2  2017     690",
      "text/html": "<div>\n<style scoped>\n    .dataframe tbody tr th:only-of-type {\n        vertical-align: middle;\n    }\n\n    .dataframe tbody tr th {\n        vertical-align: top;\n    }\n\n    .dataframe thead th {\n        text-align: right;\n    }\n</style>\n<table border=\"1\" class=\"dataframe\">\n  <thead>\n    <tr style=\"text-align: right;\">\n      <th></th>\n      <th>Team</th>\n      <th>Rank</th>\n      <th>Year</th>\n      <th>Points</th>\n    </tr>\n  </thead>\n  <tbody>\n    <tr>\n      <th>0</th>\n      <td>Riders</td>\n      <td>1</td>\n      <td>2014</td>\n      <td>876</td>\n    </tr>\n    <tr>\n      <th>1</th>\n      <td>Riders</td>\n      <td>2</td>\n      <td>2015</td>\n      <td>789</td>\n    </tr>\n    <tr>\n      <th>2</th>\n      <td>Devils</td>\n      <td>2</td>\n      <td>2014</td>\n      <td>863</td>\n    </tr>\n    <tr>\n      <th>3</th>\n      <td>Devils</td>\n      <td>3</td>\n      <td>2015</td>\n      <td>673</td>\n    </tr>\n    <tr>\n      <th>4</th>\n      <td>Kings</td>\n      <td>3</td>\n      <td>2014</td>\n      <td>741</td>\n    </tr>\n    <tr>\n      <th>5</th>\n      <td>kings</td>\n      <td>4</td>\n      <td>2015</td>\n      <td>812</td>\n    </tr>\n    <tr>\n      <th>6</th>\n      <td>Kings</td>\n      <td>1</td>\n      <td>2016</td>\n      <td>756</td>\n    </tr>\n    <tr>\n      <th>7</th>\n      <td>Kings</td>\n      <td>1</td>\n      <td>2017</td>\n      <td>788</td>\n    </tr>\n    <tr>\n      <th>8</th>\n      <td>Riders</td>\n      <td>2</td>\n      <td>2016</td>\n      <td>694</td>\n    </tr>\n    <tr>\n      <th>9</th>\n      <td>Royals</td>\n      <td>4</td>\n      <td>2014</td>\n      <td>701</td>\n    </tr>\n    <tr>\n      <th>10</th>\n      <td>Royals</td>\n      <td>1</td>\n      <td>2015</td>\n      <td>804</td>\n    </tr>\n    <tr>\n      <th>11</th>\n      <td>Riders</td>\n      <td>2</td>\n      <td>2017</td>\n      <td>690</td>\n    </tr>\n  </tbody>\n</table>\n</div>"
     },
     "execution_count": 18,
     "metadata": {},
     "output_type": "execute_result"
    }
   ],
   "source": [
    "# DataFrame 생성\n",
    "ipl_data = {\n",
    "    'Team': ['Riders', 'Riders', 'Devils', 'Devils', 'Kings', 'kings', 'Kings', 'Kings', 'Riders', 'Royals', 'Royals',\n",
    "             'Riders'],\n",
    "    'Rank': [1, 2, 2, 3, 3, 4, 1, 1, 2, 4, 1, 2],\n",
    "    'Year': [2014, 2015, 2014, 2015, 2014, 2015, 2016, 2017, 2016, 2014, 2015, 2017],\n",
    "    'Points': [876, 789, 863, 673, 741, 812, 756, 788, 694, 701, 804, 690]}\n",
    "\n",
    "df = pd.DataFrame(ipl_data)\n",
    "df"
   ]
  },
  {
   "cell_type": "code",
   "execution_count": 19,
   "metadata": {
    "pycharm": {
     "name": "#%%\n"
    }
   },
   "outputs": [
    {
     "data": {
      "text/plain": "Team\nDevils    1536\nKings     2285\nRiders    3049\nRoyals    1505\nkings      812\nName: Points, dtype: int64"
     },
     "execution_count": 19,
     "metadata": {},
     "output_type": "execute_result"
    }
   ],
   "source": [
    "# df.groupby(묶음 기준 열)[묶는 열].적용받는 연산\n",
    "df.groupby(\"Team\")[\"Points\"].sum()"
   ]
  },
  {
   "cell_type": "markdown",
   "metadata": {
    "pycharm": {
     "name": "#%% md\n"
    }
   },
   "source": [
    "### 멀티 인덱스\n",
    "- 멀티 인덱스 : 한 개 이상의 열\n",
    "- 한 개 이상의 열을 기준으로 그룹별 집계를 실행\n",
    "    - 계층적 인덱스(hierarchical index) 형태로, 리스트를 사용하여 여러 개의 열 이름을 기준으로 넣으면 여러 열이 키 값이 되어 결과 출력"
   ]
  },
  {
   "cell_type": "code",
   "execution_count": 20,
   "metadata": {
    "pycharm": {
     "name": "#%%\n"
    }
   },
   "outputs": [
    {
     "data": {
      "text/plain": "Team    Year\nDevils  2014    863\n        2015    673\nKings   2014    741\n        2016    756\n        2017    788\nRiders  2014    876\n        2015    789\n        2016    694\n        2017    690\nRoyals  2014    701\n        2015    804\nkings   2015    812\nName: Points, dtype: int64"
     },
     "execution_count": 20,
     "metadata": {},
     "output_type": "execute_result"
    }
   ],
   "source": [
    "multi_groupby = df.groupby([\"Team\", \"Year\"])[\"Points\"].sum()\n",
    "multi_groupby"
   ]
  },
  {
   "cell_type": "code",
   "execution_count": 21,
   "metadata": {
    "pycharm": {
     "name": "#%%\n"
    }
   },
   "outputs": [
    {
     "data": {
      "text/plain": "MultiIndex([('Devils', 2014),\n            ('Devils', 2015),\n            ( 'Kings', 2014),\n            ( 'Kings', 2016),\n            ( 'Kings', 2017),\n            ('Riders', 2014),\n            ('Riders', 2015),\n            ('Riders', 2016),\n            ('Riders', 2017),\n            ('Royals', 2014),\n            ('Royals', 2015),\n            ( 'kings', 2015)],\n           names=['Team', 'Year'])"
     },
     "execution_count": 21,
     "metadata": {},
     "output_type": "execute_result"
    }
   ],
   "source": [
    "# 멀티 인덱스의 인덱스 열은 두 개\n",
    "multi_groupby.index"
   ]
  },
  {
   "cell_type": "code",
   "execution_count": 22,
   "metadata": {
    "pycharm": {
     "name": "#%%\n"
    }
   },
   "outputs": [
    {
     "data": {
      "text/plain": "Team    Year\nDevils  2014    863\n        2015    673\nKings   2014    741\n        2016    756\n        2017    788\nName: Points, dtype: int64"
     },
     "execution_count": 22,
     "metadata": {},
     "output_type": "execute_result"
    }
   ],
   "source": [
    "# 인덱스 Devil에서 Kings까지 출력\n",
    "multi_groupby[\"Devils\":\"Kings\"]"
   ]
  },
  {
   "cell_type": "markdown",
   "source": [
    "- unstack() : 기존 인덱스를 기준으로 묶인 데이터에서 두 번째 인덱스를 열로 변화"
   ],
   "metadata": {
    "collapsed": false,
    "pycharm": {
     "name": "#%% md\n"
    }
   }
  },
  {
   "cell_type": "code",
   "execution_count": 23,
   "metadata": {
    "pycharm": {
     "name": "#%%\n"
    }
   },
   "outputs": [
    {
     "data": {
      "text/plain": "Year     2014   2015   2016   2017\nTeam                              \nDevils  863.0  673.0    NaN    NaN\nKings   741.0    NaN  756.0  788.0\nRiders  876.0  789.0  694.0  690.0\nRoyals  701.0  804.0    NaN    NaN\nkings     NaN  812.0    NaN    NaN",
      "text/html": "<div>\n<style scoped>\n    .dataframe tbody tr th:only-of-type {\n        vertical-align: middle;\n    }\n\n    .dataframe tbody tr th {\n        vertical-align: top;\n    }\n\n    .dataframe thead th {\n        text-align: right;\n    }\n</style>\n<table border=\"1\" class=\"dataframe\">\n  <thead>\n    <tr style=\"text-align: right;\">\n      <th>Year</th>\n      <th>2014</th>\n      <th>2015</th>\n      <th>2016</th>\n      <th>2017</th>\n    </tr>\n    <tr>\n      <th>Team</th>\n      <th></th>\n      <th></th>\n      <th></th>\n      <th></th>\n    </tr>\n  </thead>\n  <tbody>\n    <tr>\n      <th>Devils</th>\n      <td>863.0</td>\n      <td>673.0</td>\n      <td>NaN</td>\n      <td>NaN</td>\n    </tr>\n    <tr>\n      <th>Kings</th>\n      <td>741.0</td>\n      <td>NaN</td>\n      <td>756.0</td>\n      <td>788.0</td>\n    </tr>\n    <tr>\n      <th>Riders</th>\n      <td>876.0</td>\n      <td>789.0</td>\n      <td>694.0</td>\n      <td>690.0</td>\n    </tr>\n    <tr>\n      <th>Royals</th>\n      <td>701.0</td>\n      <td>804.0</td>\n      <td>NaN</td>\n      <td>NaN</td>\n    </tr>\n    <tr>\n      <th>kings</th>\n      <td>NaN</td>\n      <td>812.0</td>\n      <td>NaN</td>\n      <td>NaN</td>\n    </tr>\n  </tbody>\n</table>\n</div>"
     },
     "execution_count": 23,
     "metadata": {},
     "output_type": "execute_result"
    }
   ],
   "source": [
    "multi_groupby.unstack()"
   ]
  },
  {
   "cell_type": "markdown",
   "source": [
    "- swaplevel() : 인덱스 간 레벨을 변경(Team <-> Year)\n",
    "- sort_index() : 첫 번째 인덱스를 기준으로 데이터 재정렬"
   ],
   "metadata": {
    "collapsed": false,
    "pycharm": {
     "name": "#%% md\n"
    }
   }
  },
  {
   "cell_type": "code",
   "execution_count": 24,
   "metadata": {
    "pycharm": {
     "name": "#%%\n"
    }
   },
   "outputs": [
    {
     "data": {
      "text/plain": "Year  Team  \n2014  Devils    863\n      Kings     741\n      Riders    876\n      Royals    701\n2015  Devils    673\n      Riders    789\n      Royals    804\n      kings     812\n2016  Kings     756\n      Riders    694\n2017  Kings     788\n      Riders    690\nName: Points, dtype: int64"
     },
     "execution_count": 24,
     "metadata": {},
     "output_type": "execute_result"
    }
   ],
   "source": [
    "multi_groupby.swaplevel().sort_index()"
   ]
  },
  {
   "cell_type": "markdown",
   "metadata": {
    "pycharm": {
     "name": "#%% md\n"
    }
   },
   "source": [
    "### 그룹화된 상태\n",
    "- 그룹화된(grouped) 상태 : 분할->적용->결합 중 분할까지만 이루어진 상태\n",
    "- 그룹화된 상태에서 적용 단계 함수 : 집계(aggregation), 변환(transformation), 필터(filter)\n",
    "- get_group() : 해당 키 값을 기준으로 분할된 데이터프레임 객체를 확인하는 함수"
   ]
  },
  {
   "cell_type": "code",
   "execution_count": 25,
   "metadata": {
    "pycharm": {
     "name": "#%%\n"
    }
   },
   "outputs": [
    {
     "data": {
      "text/plain": "      Team  Rank  Year  Points\n0   Riders     1  2014     876\n1   Riders     2  2015     789\n8   Riders     2  2016     694\n11  Riders     2  2017     690",
      "text/html": "<div>\n<style scoped>\n    .dataframe tbody tr th:only-of-type {\n        vertical-align: middle;\n    }\n\n    .dataframe tbody tr th {\n        vertical-align: top;\n    }\n\n    .dataframe thead th {\n        text-align: right;\n    }\n</style>\n<table border=\"1\" class=\"dataframe\">\n  <thead>\n    <tr style=\"text-align: right;\">\n      <th></th>\n      <th>Team</th>\n      <th>Rank</th>\n      <th>Year</th>\n      <th>Points</th>\n    </tr>\n  </thead>\n  <tbody>\n    <tr>\n      <th>0</th>\n      <td>Riders</td>\n      <td>1</td>\n      <td>2014</td>\n      <td>876</td>\n    </tr>\n    <tr>\n      <th>1</th>\n      <td>Riders</td>\n      <td>2</td>\n      <td>2015</td>\n      <td>789</td>\n    </tr>\n    <tr>\n      <th>8</th>\n      <td>Riders</td>\n      <td>2</td>\n      <td>2016</td>\n      <td>694</td>\n    </tr>\n    <tr>\n      <th>11</th>\n      <td>Riders</td>\n      <td>2</td>\n      <td>2017</td>\n      <td>690</td>\n    </tr>\n  </tbody>\n</table>\n</div>"
     },
     "execution_count": 25,
     "metadata": {},
     "output_type": "execute_result"
    }
   ],
   "source": [
    "# 키 값을 기준으로 분할된 데이터프레임 객체 확인\n",
    "grouped = df.groupby(\"Team\")\n",
    "grouped.get_group(\"Riders\")"
   ]
  },
  {
   "cell_type": "code",
   "execution_count": 26,
   "metadata": {
    "pycharm": {
     "name": "#%%\n"
    }
   },
   "outputs": [
    {
     "data": {
      "text/plain": "    Team  Rank  Year  Points\n4  Kings     3  2014     741\n6  Kings     1  2016     756\n7  Kings     1  2017     788",
      "text/html": "<div>\n<style scoped>\n    .dataframe tbody tr th:only-of-type {\n        vertical-align: middle;\n    }\n\n    .dataframe tbody tr th {\n        vertical-align: top;\n    }\n\n    .dataframe thead th {\n        text-align: right;\n    }\n</style>\n<table border=\"1\" class=\"dataframe\">\n  <thead>\n    <tr style=\"text-align: right;\">\n      <th></th>\n      <th>Team</th>\n      <th>Rank</th>\n      <th>Year</th>\n      <th>Points</th>\n    </tr>\n  </thead>\n  <tbody>\n    <tr>\n      <th>4</th>\n      <td>Kings</td>\n      <td>3</td>\n      <td>2014</td>\n      <td>741</td>\n    </tr>\n    <tr>\n      <th>6</th>\n      <td>Kings</td>\n      <td>1</td>\n      <td>2016</td>\n      <td>756</td>\n    </tr>\n    <tr>\n      <th>7</th>\n      <td>Kings</td>\n      <td>1</td>\n      <td>2017</td>\n      <td>788</td>\n    </tr>\n  </tbody>\n</table>\n</div>"
     },
     "execution_count": 26,
     "metadata": {},
     "output_type": "execute_result"
    }
   ],
   "source": [
    "grouped.get_group(\"Kings\")"
   ]
  },
  {
   "cell_type": "code",
   "execution_count": 27,
   "metadata": {
    "pycharm": {
     "name": "#%%\n"
    }
   },
   "outputs": [
    {
     "data": {
      "text/plain": "     Team  Rank  Year  Points\n2  Devils     2  2014     863\n3  Devils     3  2015     673",
      "text/html": "<div>\n<style scoped>\n    .dataframe tbody tr th:only-of-type {\n        vertical-align: middle;\n    }\n\n    .dataframe tbody tr th {\n        vertical-align: top;\n    }\n\n    .dataframe thead th {\n        text-align: right;\n    }\n</style>\n<table border=\"1\" class=\"dataframe\">\n  <thead>\n    <tr style=\"text-align: right;\">\n      <th></th>\n      <th>Team</th>\n      <th>Rank</th>\n      <th>Year</th>\n      <th>Points</th>\n    </tr>\n  </thead>\n  <tbody>\n    <tr>\n      <th>2</th>\n      <td>Devils</td>\n      <td>2</td>\n      <td>2014</td>\n      <td>863</td>\n    </tr>\n    <tr>\n      <th>3</th>\n      <td>Devils</td>\n      <td>3</td>\n      <td>2015</td>\n      <td>673</td>\n    </tr>\n  </tbody>\n</table>\n</div>"
     },
     "execution_count": 27,
     "metadata": {},
     "output_type": "execute_result"
    }
   ],
   "source": [
    "grouped.get_group(\"Devils\")"
   ]
  },
  {
   "cell_type": "code",
   "execution_count": 28,
   "metadata": {
    "pycharm": {
     "name": "#%%\n"
    }
   },
   "outputs": [
    {
     "data": {
      "text/plain": "      Team  Rank  Year  Points\n9   Royals     4  2014     701\n10  Royals     1  2015     804",
      "text/html": "<div>\n<style scoped>\n    .dataframe tbody tr th:only-of-type {\n        vertical-align: middle;\n    }\n\n    .dataframe tbody tr th {\n        vertical-align: top;\n    }\n\n    .dataframe thead th {\n        text-align: right;\n    }\n</style>\n<table border=\"1\" class=\"dataframe\">\n  <thead>\n    <tr style=\"text-align: right;\">\n      <th></th>\n      <th>Team</th>\n      <th>Rank</th>\n      <th>Year</th>\n      <th>Points</th>\n    </tr>\n  </thead>\n  <tbody>\n    <tr>\n      <th>9</th>\n      <td>Royals</td>\n      <td>4</td>\n      <td>2014</td>\n      <td>701</td>\n    </tr>\n    <tr>\n      <th>10</th>\n      <td>Royals</td>\n      <td>1</td>\n      <td>2015</td>\n      <td>804</td>\n    </tr>\n  </tbody>\n</table>\n</div>"
     },
     "execution_count": 28,
     "metadata": {},
     "output_type": "execute_result"
    }
   ],
   "source": [
    "grouped.get_group(\"Royals\")"
   ]
  },
  {
   "cell_type": "code",
   "execution_count": 29,
   "metadata": {
    "pycharm": {
     "name": "#%%\n"
    }
   },
   "outputs": [
    {
     "data": {
      "text/plain": "    Team  Rank  Year  Points\n5  kings     4  2015     812",
      "text/html": "<div>\n<style scoped>\n    .dataframe tbody tr th:only-of-type {\n        vertical-align: middle;\n    }\n\n    .dataframe tbody tr th {\n        vertical-align: top;\n    }\n\n    .dataframe thead th {\n        text-align: right;\n    }\n</style>\n<table border=\"1\" class=\"dataframe\">\n  <thead>\n    <tr style=\"text-align: right;\">\n      <th></th>\n      <th>Team</th>\n      <th>Rank</th>\n      <th>Year</th>\n      <th>Points</th>\n    </tr>\n  </thead>\n  <tbody>\n    <tr>\n      <th>5</th>\n      <td>kings</td>\n      <td>4</td>\n      <td>2015</td>\n      <td>812</td>\n    </tr>\n  </tbody>\n</table>\n</div>"
     },
     "execution_count": 29,
     "metadata": {},
     "output_type": "execute_result"
    }
   ],
   "source": [
    "grouped.get_group(\"kings\")"
   ]
  },
  {
   "cell_type": "markdown",
   "source": [
    "- agg() : 집계, 요약된 통계 정보를 추출"
   ],
   "metadata": {
    "collapsed": false,
    "pycharm": {
     "name": "#%% md\n"
    }
   }
  },
  {
   "cell_type": "code",
   "execution_count": 30,
   "metadata": {
    "pycharm": {
     "name": "#%%\n"
    }
   },
   "outputs": [
    {
     "data": {
      "text/plain": "        Rank  Year  Points\nTeam                      \nDevils     2  2014     673\nKings      1  2014     741\nRiders     1  2014     690\nRoyals     1  2014     701\nkings      4  2015     812",
      "text/html": "<div>\n<style scoped>\n    .dataframe tbody tr th:only-of-type {\n        vertical-align: middle;\n    }\n\n    .dataframe tbody tr th {\n        vertical-align: top;\n    }\n\n    .dataframe thead th {\n        text-align: right;\n    }\n</style>\n<table border=\"1\" class=\"dataframe\">\n  <thead>\n    <tr style=\"text-align: right;\">\n      <th></th>\n      <th>Rank</th>\n      <th>Year</th>\n      <th>Points</th>\n    </tr>\n    <tr>\n      <th>Team</th>\n      <th></th>\n      <th></th>\n      <th></th>\n    </tr>\n  </thead>\n  <tbody>\n    <tr>\n      <th>Devils</th>\n      <td>2</td>\n      <td>2014</td>\n      <td>673</td>\n    </tr>\n    <tr>\n      <th>Kings</th>\n      <td>1</td>\n      <td>2014</td>\n      <td>741</td>\n    </tr>\n    <tr>\n      <th>Riders</th>\n      <td>1</td>\n      <td>2014</td>\n      <td>690</td>\n    </tr>\n    <tr>\n      <th>Royals</th>\n      <td>1</td>\n      <td>2014</td>\n      <td>701</td>\n    </tr>\n    <tr>\n      <th>kings</th>\n      <td>4</td>\n      <td>2015</td>\n      <td>812</td>\n    </tr>\n  </tbody>\n</table>\n</div>"
     },
     "execution_count": 30,
     "metadata": {},
     "output_type": "execute_result"
    }
   ],
   "source": [
    "# agg(연산 함수) : 집계 함수\n",
    "grouped.agg(min)  # 최솟값으로 집계"
   ]
  },
  {
   "cell_type": "code",
   "execution_count": 31,
   "metadata": {
    "pycharm": {
     "name": "#%%\n"
    }
   },
   "outputs": [
    {
     "data": {
      "text/plain": "            Rank         Year      Points\nTeam                                     \nDevils  2.500000  2014.500000  768.000000\nKings   1.666667  2015.666667  761.666667\nRiders  1.750000  2015.500000  762.250000\nRoyals  2.500000  2014.500000  752.500000\nkings   4.000000  2015.000000  812.000000",
      "text/html": "<div>\n<style scoped>\n    .dataframe tbody tr th:only-of-type {\n        vertical-align: middle;\n    }\n\n    .dataframe tbody tr th {\n        vertical-align: top;\n    }\n\n    .dataframe thead th {\n        text-align: right;\n    }\n</style>\n<table border=\"1\" class=\"dataframe\">\n  <thead>\n    <tr style=\"text-align: right;\">\n      <th></th>\n      <th>Rank</th>\n      <th>Year</th>\n      <th>Points</th>\n    </tr>\n    <tr>\n      <th>Team</th>\n      <th></th>\n      <th></th>\n      <th></th>\n    </tr>\n  </thead>\n  <tbody>\n    <tr>\n      <th>Devils</th>\n      <td>2.500000</td>\n      <td>2014.500000</td>\n      <td>768.000000</td>\n    </tr>\n    <tr>\n      <th>Kings</th>\n      <td>1.666667</td>\n      <td>2015.666667</td>\n      <td>761.666667</td>\n    </tr>\n    <tr>\n      <th>Riders</th>\n      <td>1.750000</td>\n      <td>2015.500000</td>\n      <td>762.250000</td>\n    </tr>\n    <tr>\n      <th>Royals</th>\n      <td>2.500000</td>\n      <td>2014.500000</td>\n      <td>752.500000</td>\n    </tr>\n    <tr>\n      <th>kings</th>\n      <td>4.000000</td>\n      <td>2015.000000</td>\n      <td>812.000000</td>\n    </tr>\n  </tbody>\n</table>\n</div>"
     },
     "execution_count": 31,
     "metadata": {},
     "output_type": "execute_result"
    }
   ],
   "source": [
    "grouped.agg(np.mean)  # 평균으로 집계"
   ]
  },
  {
   "cell_type": "markdown",
   "source": [
    "- transform() : 변환, 개별 데이터 변환 지원하며, 그룹화된 상태 값으로 적용"
   ],
   "metadata": {
    "collapsed": false,
    "pycharm": {
     "name": "#%% md\n"
    }
   }
  },
  {
   "cell_type": "code",
   "execution_count": 32,
   "metadata": {
    "pycharm": {
     "name": "#%%\n"
    }
   },
   "outputs": [
    {
     "data": {
      "text/plain": "    Rank  Year  Points\n0      2  2017     876\n1      2  2017     876\n2      3  2015     863\n3      3  2015     863\n4      3  2017     788\n5      4  2015     812\n6      3  2017     788\n7      3  2017     788\n8      2  2017     876\n9      4  2015     804\n10     4  2015     804\n11     2  2017     876",
      "text/html": "<div>\n<style scoped>\n    .dataframe tbody tr th:only-of-type {\n        vertical-align: middle;\n    }\n\n    .dataframe tbody tr th {\n        vertical-align: top;\n    }\n\n    .dataframe thead th {\n        text-align: right;\n    }\n</style>\n<table border=\"1\" class=\"dataframe\">\n  <thead>\n    <tr style=\"text-align: right;\">\n      <th></th>\n      <th>Rank</th>\n      <th>Year</th>\n      <th>Points</th>\n    </tr>\n  </thead>\n  <tbody>\n    <tr>\n      <th>0</th>\n      <td>2</td>\n      <td>2017</td>\n      <td>876</td>\n    </tr>\n    <tr>\n      <th>1</th>\n      <td>2</td>\n      <td>2017</td>\n      <td>876</td>\n    </tr>\n    <tr>\n      <th>2</th>\n      <td>3</td>\n      <td>2015</td>\n      <td>863</td>\n    </tr>\n    <tr>\n      <th>3</th>\n      <td>3</td>\n      <td>2015</td>\n      <td>863</td>\n    </tr>\n    <tr>\n      <th>4</th>\n      <td>3</td>\n      <td>2017</td>\n      <td>788</td>\n    </tr>\n    <tr>\n      <th>5</th>\n      <td>4</td>\n      <td>2015</td>\n      <td>812</td>\n    </tr>\n    <tr>\n      <th>6</th>\n      <td>3</td>\n      <td>2017</td>\n      <td>788</td>\n    </tr>\n    <tr>\n      <th>7</th>\n      <td>3</td>\n      <td>2017</td>\n      <td>788</td>\n    </tr>\n    <tr>\n      <th>8</th>\n      <td>2</td>\n      <td>2017</td>\n      <td>876</td>\n    </tr>\n    <tr>\n      <th>9</th>\n      <td>4</td>\n      <td>2015</td>\n      <td>804</td>\n    </tr>\n    <tr>\n      <th>10</th>\n      <td>4</td>\n      <td>2015</td>\n      <td>804</td>\n    </tr>\n    <tr>\n      <th>11</th>\n      <td>2</td>\n      <td>2017</td>\n      <td>876</td>\n    </tr>\n  </tbody>\n</table>\n</div>"
     },
     "execution_count": 32,
     "metadata": {},
     "output_type": "execute_result"
    }
   ],
   "source": [
    "grouped.transform(max)  # 각 데이터를 최댓값으로 변환"
   ]
  },
  {
   "cell_type": "code",
   "execution_count": 33,
   "metadata": {
    "pycharm": {
     "name": "#%%\n"
    }
   },
   "outputs": [
    {
     "data": {
      "text/plain": "        Rank      Year    Points\n0  -1.500000 -1.161895  1.284327\n1   0.500000 -0.387298  0.302029\n2  -0.707107 -0.707107  0.707107\n3   0.707107  0.707107 -0.707107\n4   1.154701 -1.091089 -0.860862\n5        NaN       NaN       NaN\n6  -0.577350  0.218218 -0.236043\n7  -0.577350  0.872872  1.096905\n8   0.500000  0.387298 -0.770596\n9   0.707107 -0.707107 -0.707107\n10 -0.707107  0.707107  0.707107\n11  0.500000  1.161895 -0.815759",
      "text/html": "<div>\n<style scoped>\n    .dataframe tbody tr th:only-of-type {\n        vertical-align: middle;\n    }\n\n    .dataframe tbody tr th {\n        vertical-align: top;\n    }\n\n    .dataframe thead th {\n        text-align: right;\n    }\n</style>\n<table border=\"1\" class=\"dataframe\">\n  <thead>\n    <tr style=\"text-align: right;\">\n      <th></th>\n      <th>Rank</th>\n      <th>Year</th>\n      <th>Points</th>\n    </tr>\n  </thead>\n  <tbody>\n    <tr>\n      <th>0</th>\n      <td>-1.500000</td>\n      <td>-1.161895</td>\n      <td>1.284327</td>\n    </tr>\n    <tr>\n      <th>1</th>\n      <td>0.500000</td>\n      <td>-0.387298</td>\n      <td>0.302029</td>\n    </tr>\n    <tr>\n      <th>2</th>\n      <td>-0.707107</td>\n      <td>-0.707107</td>\n      <td>0.707107</td>\n    </tr>\n    <tr>\n      <th>3</th>\n      <td>0.707107</td>\n      <td>0.707107</td>\n      <td>-0.707107</td>\n    </tr>\n    <tr>\n      <th>4</th>\n      <td>1.154701</td>\n      <td>-1.091089</td>\n      <td>-0.860862</td>\n    </tr>\n    <tr>\n      <th>5</th>\n      <td>NaN</td>\n      <td>NaN</td>\n      <td>NaN</td>\n    </tr>\n    <tr>\n      <th>6</th>\n      <td>-0.577350</td>\n      <td>0.218218</td>\n      <td>-0.236043</td>\n    </tr>\n    <tr>\n      <th>7</th>\n      <td>-0.577350</td>\n      <td>0.872872</td>\n      <td>1.096905</td>\n    </tr>\n    <tr>\n      <th>8</th>\n      <td>0.500000</td>\n      <td>0.387298</td>\n      <td>-0.770596</td>\n    </tr>\n    <tr>\n      <th>9</th>\n      <td>0.707107</td>\n      <td>-0.707107</td>\n      <td>-0.707107</td>\n    </tr>\n    <tr>\n      <th>10</th>\n      <td>-0.707107</td>\n      <td>0.707107</td>\n      <td>0.707107</td>\n    </tr>\n    <tr>\n      <th>11</th>\n      <td>0.500000</td>\n      <td>1.161895</td>\n      <td>-0.815759</td>\n    </tr>\n  </tbody>\n</table>\n</div>"
     },
     "execution_count": 33,
     "metadata": {},
     "output_type": "execute_result"
    }
   ],
   "source": [
    "# std() : 표준편차\n",
    "score = lambda x: (x - x.mean()) / x.std()\n",
    "grouped.transform(score)"
   ]
  },
  {
   "cell_type": "markdown",
   "source": [
    "- filter() : 필터, 특정 조건으로 데이터를 검색"
   ],
   "metadata": {
    "collapsed": false,
    "pycharm": {
     "name": "#%% md\n"
    }
   }
  },
  {
   "cell_type": "code",
   "execution_count": 34,
   "metadata": {
    "pycharm": {
     "name": "#%%\n"
    }
   },
   "outputs": [
    {
     "data": {
      "text/plain": "      Team  Rank  Year  Points\n0   Riders     1  2014     876\n1   Riders     2  2015     789\n4    Kings     3  2014     741\n6    Kings     1  2016     756\n7    Kings     1  2017     788\n8   Riders     2  2016     694\n11  Riders     2  2017     690",
      "text/html": "<div>\n<style scoped>\n    .dataframe tbody tr th:only-of-type {\n        vertical-align: middle;\n    }\n\n    .dataframe tbody tr th {\n        vertical-align: top;\n    }\n\n    .dataframe thead th {\n        text-align: right;\n    }\n</style>\n<table border=\"1\" class=\"dataframe\">\n  <thead>\n    <tr style=\"text-align: right;\">\n      <th></th>\n      <th>Team</th>\n      <th>Rank</th>\n      <th>Year</th>\n      <th>Points</th>\n    </tr>\n  </thead>\n  <tbody>\n    <tr>\n      <th>0</th>\n      <td>Riders</td>\n      <td>1</td>\n      <td>2014</td>\n      <td>876</td>\n    </tr>\n    <tr>\n      <th>1</th>\n      <td>Riders</td>\n      <td>2</td>\n      <td>2015</td>\n      <td>789</td>\n    </tr>\n    <tr>\n      <th>4</th>\n      <td>Kings</td>\n      <td>3</td>\n      <td>2014</td>\n      <td>741</td>\n    </tr>\n    <tr>\n      <th>6</th>\n      <td>Kings</td>\n      <td>1</td>\n      <td>2016</td>\n      <td>756</td>\n    </tr>\n    <tr>\n      <th>7</th>\n      <td>Kings</td>\n      <td>1</td>\n      <td>2017</td>\n      <td>788</td>\n    </tr>\n    <tr>\n      <th>8</th>\n      <td>Riders</td>\n      <td>2</td>\n      <td>2016</td>\n      <td>694</td>\n    </tr>\n    <tr>\n      <th>11</th>\n      <td>Riders</td>\n      <td>2</td>\n      <td>2017</td>\n      <td>690</td>\n    </tr>\n  </tbody>\n</table>\n</div>"
     },
     "execution_count": 34,
     "metadata": {},
     "output_type": "execute_result"
    }
   ],
   "source": [
    "df.groupby('Team').filter(lambda x: len(x) >= 3)  # 같은 Team 값을 가진 행이 3개 이상"
   ]
  },
  {
   "cell_type": "code",
   "execution_count": 35,
   "metadata": {
    "pycharm": {
     "name": "#%%\n"
    }
   },
   "outputs": [
    {
     "data": {
      "text/plain": "      Team  Rank  Year  Points\n0   Riders     1  2014     876\n1   Riders     2  2015     789\n2   Devils     2  2014     863\n3   Devils     3  2015     673\n5    kings     4  2015     812\n8   Riders     2  2016     694\n9   Royals     4  2014     701\n10  Royals     1  2015     804\n11  Riders     2  2017     690",
      "text/html": "<div>\n<style scoped>\n    .dataframe tbody tr th:only-of-type {\n        vertical-align: middle;\n    }\n\n    .dataframe tbody tr th {\n        vertical-align: top;\n    }\n\n    .dataframe thead th {\n        text-align: right;\n    }\n</style>\n<table border=\"1\" class=\"dataframe\">\n  <thead>\n    <tr style=\"text-align: right;\">\n      <th></th>\n      <th>Team</th>\n      <th>Rank</th>\n      <th>Year</th>\n      <th>Points</th>\n    </tr>\n  </thead>\n  <tbody>\n    <tr>\n      <th>0</th>\n      <td>Riders</td>\n      <td>1</td>\n      <td>2014</td>\n      <td>876</td>\n    </tr>\n    <tr>\n      <th>1</th>\n      <td>Riders</td>\n      <td>2</td>\n      <td>2015</td>\n      <td>789</td>\n    </tr>\n    <tr>\n      <th>2</th>\n      <td>Devils</td>\n      <td>2</td>\n      <td>2014</td>\n      <td>863</td>\n    </tr>\n    <tr>\n      <th>3</th>\n      <td>Devils</td>\n      <td>3</td>\n      <td>2015</td>\n      <td>673</td>\n    </tr>\n    <tr>\n      <th>5</th>\n      <td>kings</td>\n      <td>4</td>\n      <td>2015</td>\n      <td>812</td>\n    </tr>\n    <tr>\n      <th>8</th>\n      <td>Riders</td>\n      <td>2</td>\n      <td>2016</td>\n      <td>694</td>\n    </tr>\n    <tr>\n      <th>9</th>\n      <td>Royals</td>\n      <td>4</td>\n      <td>2014</td>\n      <td>701</td>\n    </tr>\n    <tr>\n      <th>10</th>\n      <td>Royals</td>\n      <td>1</td>\n      <td>2015</td>\n      <td>804</td>\n    </tr>\n    <tr>\n      <th>11</th>\n      <td>Riders</td>\n      <td>2</td>\n      <td>2017</td>\n      <td>690</td>\n    </tr>\n  </tbody>\n</table>\n</div>"
     },
     "execution_count": 35,
     "metadata": {},
     "output_type": "execute_result"
    }
   ],
   "source": [
    "# 최대값이 800 이하인 Kings를 제외한 내용 출력\n",
    "df.groupby('Team').filter(lambda x: x[\"Points\"].max() > 800)"
   ]
  },
  {
   "cell_type": "markdown",
   "metadata": {
    "pycharm": {
     "name": "#%% md\n"
    }
   },
   "source": [
    "## 병합\n",
    "- merge() : 두 개의 데이터를 특정 기준으로 병합"
   ]
  },
  {
   "cell_type": "code",
   "execution_count": 36,
   "metadata": {
    "pycharm": {
     "name": "#%%\n"
    }
   },
   "outputs": [
    {
     "data": {
      "text/plain": "  subject_id  test_score\n0          1          51\n1          2          15\n2          3          15\n3          4          61\n4          5          16\n5          7          14\n6          8          15\n7          9           1\n8         10          61\n9         11          16",
      "text/html": "<div>\n<style scoped>\n    .dataframe tbody tr th:only-of-type {\n        vertical-align: middle;\n    }\n\n    .dataframe tbody tr th {\n        vertical-align: top;\n    }\n\n    .dataframe thead th {\n        text-align: right;\n    }\n</style>\n<table border=\"1\" class=\"dataframe\">\n  <thead>\n    <tr style=\"text-align: right;\">\n      <th></th>\n      <th>subject_id</th>\n      <th>test_score</th>\n    </tr>\n  </thead>\n  <tbody>\n    <tr>\n      <th>0</th>\n      <td>1</td>\n      <td>51</td>\n    </tr>\n    <tr>\n      <th>1</th>\n      <td>2</td>\n      <td>15</td>\n    </tr>\n    <tr>\n      <th>2</th>\n      <td>3</td>\n      <td>15</td>\n    </tr>\n    <tr>\n      <th>3</th>\n      <td>4</td>\n      <td>61</td>\n    </tr>\n    <tr>\n      <th>4</th>\n      <td>5</td>\n      <td>16</td>\n    </tr>\n    <tr>\n      <th>5</th>\n      <td>7</td>\n      <td>14</td>\n    </tr>\n    <tr>\n      <th>6</th>\n      <td>8</td>\n      <td>15</td>\n    </tr>\n    <tr>\n      <th>7</th>\n      <td>9</td>\n      <td>1</td>\n    </tr>\n    <tr>\n      <th>8</th>\n      <td>10</td>\n      <td>61</td>\n    </tr>\n    <tr>\n      <th>9</th>\n      <td>11</td>\n      <td>16</td>\n    </tr>\n  </tbody>\n</table>\n</div>"
     },
     "execution_count": 36,
     "metadata": {},
     "output_type": "execute_result"
    }
   ],
   "source": [
    "raw_data = {\n",
    "    'subject_id': ['1', '2', '3', '4', '5', '7', '8', '9', '10', '11'],\n",
    "    'test_score': [51, 15, 15, 61, 16, 14, 15, 1, 61, 16]}\n",
    "\n",
    "df_left = pd.DataFrame(raw_data, columns=['subject_id', 'test_score'])\n",
    "df_left"
   ]
  },
  {
   "cell_type": "code",
   "execution_count": 37,
   "metadata": {
    "pycharm": {
     "name": "#%%\n"
    }
   },
   "outputs": [
    {
     "data": {
      "text/plain": "  subject_id first_name last_name\n0          4      Billy    Bonder\n1          5      Brian     Black\n2          6       Bran   Balwner\n3          7      Bryce     Brice\n4          8      Betty    Btisan",
      "text/html": "<div>\n<style scoped>\n    .dataframe tbody tr th:only-of-type {\n        vertical-align: middle;\n    }\n\n    .dataframe tbody tr th {\n        vertical-align: top;\n    }\n\n    .dataframe thead th {\n        text-align: right;\n    }\n</style>\n<table border=\"1\" class=\"dataframe\">\n  <thead>\n    <tr style=\"text-align: right;\">\n      <th></th>\n      <th>subject_id</th>\n      <th>first_name</th>\n      <th>last_name</th>\n    </tr>\n  </thead>\n  <tbody>\n    <tr>\n      <th>0</th>\n      <td>4</td>\n      <td>Billy</td>\n      <td>Bonder</td>\n    </tr>\n    <tr>\n      <th>1</th>\n      <td>5</td>\n      <td>Brian</td>\n      <td>Black</td>\n    </tr>\n    <tr>\n      <th>2</th>\n      <td>6</td>\n      <td>Bran</td>\n      <td>Balwner</td>\n    </tr>\n    <tr>\n      <th>3</th>\n      <td>7</td>\n      <td>Bryce</td>\n      <td>Brice</td>\n    </tr>\n    <tr>\n      <th>4</th>\n      <td>8</td>\n      <td>Betty</td>\n      <td>Btisan</td>\n    </tr>\n  </tbody>\n</table>\n</div>"
     },
     "execution_count": 37,
     "metadata": {},
     "output_type": "execute_result"
    }
   ],
   "source": [
    "raw_data = {\n",
    "    'subject_id': ['4', '5', '6', '7', '8'],\n",
    "    'first_name': ['Billy', 'Brian', 'Bran', 'Bryce', 'Betty'],\n",
    "    'last_name': ['Bonder', 'Black', 'Balwner', 'Brice', 'Btisan']}\n",
    "\n",
    "df_right = pd.DataFrame(\n",
    "    raw_data, columns=['subject_id', 'first_name', 'last_name'])\n",
    "df_right"
   ]
  },
  {
   "cell_type": "markdown",
   "source": [
    "- 내부 조인(inner join) : 키 값을 기준으로 두 테이블에 모두 존재하는 키 값의 행끼리 병합(how=\"inner\")"
   ],
   "metadata": {
    "collapsed": false,
    "pycharm": {
     "name": "#%% md\n"
    }
   }
  },
  {
   "cell_type": "code",
   "execution_count": 38,
   "metadata": {
    "pycharm": {
     "name": "#%%\n"
    }
   },
   "outputs": [
    {
     "data": {
      "text/plain": "  subject_id  test_score first_name last_name\n0          4          61      Billy    Bonder\n1          5          16      Brian     Black\n2          7          14      Bryce     Brice\n3          8          15      Betty    Btisan",
      "text/html": "<div>\n<style scoped>\n    .dataframe tbody tr th:only-of-type {\n        vertical-align: middle;\n    }\n\n    .dataframe tbody tr th {\n        vertical-align: top;\n    }\n\n    .dataframe thead th {\n        text-align: right;\n    }\n</style>\n<table border=\"1\" class=\"dataframe\">\n  <thead>\n    <tr style=\"text-align: right;\">\n      <th></th>\n      <th>subject_id</th>\n      <th>test_score</th>\n      <th>first_name</th>\n      <th>last_name</th>\n    </tr>\n  </thead>\n  <tbody>\n    <tr>\n      <th>0</th>\n      <td>4</td>\n      <td>61</td>\n      <td>Billy</td>\n      <td>Bonder</td>\n    </tr>\n    <tr>\n      <th>1</th>\n      <td>5</td>\n      <td>16</td>\n      <td>Brian</td>\n      <td>Black</td>\n    </tr>\n    <tr>\n      <th>2</th>\n      <td>7</td>\n      <td>14</td>\n      <td>Bryce</td>\n      <td>Brice</td>\n    </tr>\n    <tr>\n      <th>3</th>\n      <td>8</td>\n      <td>15</td>\n      <td>Betty</td>\n      <td>Btisan</td>\n    </tr>\n  </tbody>\n</table>\n</div>"
     },
     "execution_count": 38,
     "metadata": {},
     "output_type": "execute_result"
    }
   ],
   "source": [
    "pd.merge(left=df_left, right=df_right,\n",
    "         how=\"inner\", on='subject_id')"
   ]
  },
  {
   "cell_type": "code",
   "execution_count": 39,
   "metadata": {
    "pycharm": {
     "name": "#%%\n"
    }
   },
   "outputs": [
    {
     "data": {
      "text/plain": "  subject_id  test_score first_name last_name\n0          4          61      Billy    Bonder\n1          5          16      Brian     Black\n2          7          14      Bryce     Brice\n3          8          15      Betty    Btisan",
      "text/html": "<div>\n<style scoped>\n    .dataframe tbody tr th:only-of-type {\n        vertical-align: middle;\n    }\n\n    .dataframe tbody tr th {\n        vertical-align: top;\n    }\n\n    .dataframe thead th {\n        text-align: right;\n    }\n</style>\n<table border=\"1\" class=\"dataframe\">\n  <thead>\n    <tr style=\"text-align: right;\">\n      <th></th>\n      <th>subject_id</th>\n      <th>test_score</th>\n      <th>first_name</th>\n      <th>last_name</th>\n    </tr>\n  </thead>\n  <tbody>\n    <tr>\n      <th>0</th>\n      <td>4</td>\n      <td>61</td>\n      <td>Billy</td>\n      <td>Bonder</td>\n    </tr>\n    <tr>\n      <th>1</th>\n      <td>5</td>\n      <td>16</td>\n      <td>Brian</td>\n      <td>Black</td>\n    </tr>\n    <tr>\n      <th>2</th>\n      <td>7</td>\n      <td>14</td>\n      <td>Bryce</td>\n      <td>Brice</td>\n    </tr>\n    <tr>\n      <th>3</th>\n      <td>8</td>\n      <td>15</td>\n      <td>Betty</td>\n      <td>Btisan</td>\n    </tr>\n  </tbody>\n</table>\n</div>"
     },
     "execution_count": 39,
     "metadata": {},
     "output_type": "execute_result"
    }
   ],
   "source": [
    "# 왼쪽 테이블과 오른쪽 테이블의 키 값이 다른 경우 left_on과 right_on 매개변수를 사용\n",
    "pd.merge(left=df_left, right=df_right,\n",
    "         left_on='subject_id', right_on='subject_id')"
   ]
  },
  {
   "cell_type": "markdown",
   "source": [
    "- 왼쪽 조인(left join) : 왼쪽 테이블 값 기준으로 같은 키 값을 갖고 있는 행끼리 병합"
   ],
   "metadata": {
    "collapsed": false,
    "pycharm": {
     "name": "#%% md\n"
    }
   }
  },
  {
   "cell_type": "code",
   "execution_count": 40,
   "metadata": {
    "pycharm": {
     "name": "#%%\n"
    }
   },
   "outputs": [
    {
     "data": {
      "text/plain": "  subject_id  test_score first_name last_name\n0          1          51        NaN       NaN\n1          2          15        NaN       NaN\n2          3          15        NaN       NaN\n3          4          61      Billy    Bonder\n4          5          16      Brian     Black\n5          7          14      Bryce     Brice\n6          8          15      Betty    Btisan\n7          9           1        NaN       NaN\n8         10          61        NaN       NaN\n9         11          16        NaN       NaN",
      "text/html": "<div>\n<style scoped>\n    .dataframe tbody tr th:only-of-type {\n        vertical-align: middle;\n    }\n\n    .dataframe tbody tr th {\n        vertical-align: top;\n    }\n\n    .dataframe thead th {\n        text-align: right;\n    }\n</style>\n<table border=\"1\" class=\"dataframe\">\n  <thead>\n    <tr style=\"text-align: right;\">\n      <th></th>\n      <th>subject_id</th>\n      <th>test_score</th>\n      <th>first_name</th>\n      <th>last_name</th>\n    </tr>\n  </thead>\n  <tbody>\n    <tr>\n      <th>0</th>\n      <td>1</td>\n      <td>51</td>\n      <td>NaN</td>\n      <td>NaN</td>\n    </tr>\n    <tr>\n      <th>1</th>\n      <td>2</td>\n      <td>15</td>\n      <td>NaN</td>\n      <td>NaN</td>\n    </tr>\n    <tr>\n      <th>2</th>\n      <td>3</td>\n      <td>15</td>\n      <td>NaN</td>\n      <td>NaN</td>\n    </tr>\n    <tr>\n      <th>3</th>\n      <td>4</td>\n      <td>61</td>\n      <td>Billy</td>\n      <td>Bonder</td>\n    </tr>\n    <tr>\n      <th>4</th>\n      <td>5</td>\n      <td>16</td>\n      <td>Brian</td>\n      <td>Black</td>\n    </tr>\n    <tr>\n      <th>5</th>\n      <td>7</td>\n      <td>14</td>\n      <td>Bryce</td>\n      <td>Brice</td>\n    </tr>\n    <tr>\n      <th>6</th>\n      <td>8</td>\n      <td>15</td>\n      <td>Betty</td>\n      <td>Btisan</td>\n    </tr>\n    <tr>\n      <th>7</th>\n      <td>9</td>\n      <td>1</td>\n      <td>NaN</td>\n      <td>NaN</td>\n    </tr>\n    <tr>\n      <th>8</th>\n      <td>10</td>\n      <td>61</td>\n      <td>NaN</td>\n      <td>NaN</td>\n    </tr>\n    <tr>\n      <th>9</th>\n      <td>11</td>\n      <td>16</td>\n      <td>NaN</td>\n      <td>NaN</td>\n    </tr>\n  </tbody>\n</table>\n</div>"
     },
     "execution_count": 40,
     "metadata": {},
     "output_type": "execute_result"
    }
   ],
   "source": [
    "# 왼쪽 조인(how=\"left\")\n",
    "pd.merge(df_left, df_right,\n",
    "         how='left', on='subject_id')"
   ]
  },
  {
   "cell_type": "markdown",
   "source": [
    "- 오른쪽 조인(right join) : 오른쪽 테이블 값 기준으로 같은 키 값을 갖고 있는 행끼리 병합"
   ],
   "metadata": {
    "collapsed": false,
    "pycharm": {
     "name": "#%% md\n"
    }
   }
  },
  {
   "cell_type": "code",
   "execution_count": 41,
   "metadata": {
    "pycharm": {
     "name": "#%%\n"
    }
   },
   "outputs": [
    {
     "data": {
      "text/plain": "  subject_id  test_score first_name last_name\n0          4        61.0      Billy    Bonder\n1          5        16.0      Brian     Black\n2          6         NaN       Bran   Balwner\n3          7        14.0      Bryce     Brice\n4          8        15.0      Betty    Btisan",
      "text/html": "<div>\n<style scoped>\n    .dataframe tbody tr th:only-of-type {\n        vertical-align: middle;\n    }\n\n    .dataframe tbody tr th {\n        vertical-align: top;\n    }\n\n    .dataframe thead th {\n        text-align: right;\n    }\n</style>\n<table border=\"1\" class=\"dataframe\">\n  <thead>\n    <tr style=\"text-align: right;\">\n      <th></th>\n      <th>subject_id</th>\n      <th>test_score</th>\n      <th>first_name</th>\n      <th>last_name</th>\n    </tr>\n  </thead>\n  <tbody>\n    <tr>\n      <th>0</th>\n      <td>4</td>\n      <td>61.0</td>\n      <td>Billy</td>\n      <td>Bonder</td>\n    </tr>\n    <tr>\n      <th>1</th>\n      <td>5</td>\n      <td>16.0</td>\n      <td>Brian</td>\n      <td>Black</td>\n    </tr>\n    <tr>\n      <th>2</th>\n      <td>6</td>\n      <td>NaN</td>\n      <td>Bran</td>\n      <td>Balwner</td>\n    </tr>\n    <tr>\n      <th>3</th>\n      <td>7</td>\n      <td>14.0</td>\n      <td>Bryce</td>\n      <td>Brice</td>\n    </tr>\n    <tr>\n      <th>4</th>\n      <td>8</td>\n      <td>15.0</td>\n      <td>Betty</td>\n      <td>Btisan</td>\n    </tr>\n  </tbody>\n</table>\n</div>"
     },
     "execution_count": 41,
     "metadata": {},
     "output_type": "execute_result"
    }
   ],
   "source": [
    "# 오른쪽 조인(how=\"right\")\n",
    "pd.merge(df_left, df_right,\n",
    "         how='right', on='subject_id')"
   ]
  },
  {
   "cell_type": "markdown",
   "source": [
    "- 완전 조인(outer join) : 두 테이블의 모든 행 병합(how=\"outer\")"
   ],
   "metadata": {
    "collapsed": false,
    "pycharm": {
     "name": "#%% md\n"
    }
   }
  },
  {
   "cell_type": "code",
   "execution_count": 42,
   "metadata": {
    "pycharm": {
     "name": "#%%\n"
    }
   },
   "outputs": [
    {
     "data": {
      "text/plain": "   subject_id  test_score first_name last_name\n0           1        51.0        NaN       NaN\n1           2        15.0        NaN       NaN\n2           3        15.0        NaN       NaN\n3           4        61.0      Billy    Bonder\n4           5        16.0      Brian     Black\n5           7        14.0      Bryce     Brice\n6           8        15.0      Betty    Btisan\n7           9         1.0        NaN       NaN\n8          10        61.0        NaN       NaN\n9          11        16.0        NaN       NaN\n10          6         NaN       Bran   Balwner",
      "text/html": "<div>\n<style scoped>\n    .dataframe tbody tr th:only-of-type {\n        vertical-align: middle;\n    }\n\n    .dataframe tbody tr th {\n        vertical-align: top;\n    }\n\n    .dataframe thead th {\n        text-align: right;\n    }\n</style>\n<table border=\"1\" class=\"dataframe\">\n  <thead>\n    <tr style=\"text-align: right;\">\n      <th></th>\n      <th>subject_id</th>\n      <th>test_score</th>\n      <th>first_name</th>\n      <th>last_name</th>\n    </tr>\n  </thead>\n  <tbody>\n    <tr>\n      <th>0</th>\n      <td>1</td>\n      <td>51.0</td>\n      <td>NaN</td>\n      <td>NaN</td>\n    </tr>\n    <tr>\n      <th>1</th>\n      <td>2</td>\n      <td>15.0</td>\n      <td>NaN</td>\n      <td>NaN</td>\n    </tr>\n    <tr>\n      <th>2</th>\n      <td>3</td>\n      <td>15.0</td>\n      <td>NaN</td>\n      <td>NaN</td>\n    </tr>\n    <tr>\n      <th>3</th>\n      <td>4</td>\n      <td>61.0</td>\n      <td>Billy</td>\n      <td>Bonder</td>\n    </tr>\n    <tr>\n      <th>4</th>\n      <td>5</td>\n      <td>16.0</td>\n      <td>Brian</td>\n      <td>Black</td>\n    </tr>\n    <tr>\n      <th>5</th>\n      <td>7</td>\n      <td>14.0</td>\n      <td>Bryce</td>\n      <td>Brice</td>\n    </tr>\n    <tr>\n      <th>6</th>\n      <td>8</td>\n      <td>15.0</td>\n      <td>Betty</td>\n      <td>Btisan</td>\n    </tr>\n    <tr>\n      <th>7</th>\n      <td>9</td>\n      <td>1.0</td>\n      <td>NaN</td>\n      <td>NaN</td>\n    </tr>\n    <tr>\n      <th>8</th>\n      <td>10</td>\n      <td>61.0</td>\n      <td>NaN</td>\n      <td>NaN</td>\n    </tr>\n    <tr>\n      <th>9</th>\n      <td>11</td>\n      <td>16.0</td>\n      <td>NaN</td>\n      <td>NaN</td>\n    </tr>\n    <tr>\n      <th>10</th>\n      <td>6</td>\n      <td>NaN</td>\n      <td>Bran</td>\n      <td>Balwner</td>\n    </tr>\n  </tbody>\n</table>\n</div>"
     },
     "execution_count": 42,
     "metadata": {},
     "output_type": "execute_result"
    }
   ],
   "source": [
    "# 완전 조인(how=\"outer\")\n",
    "pd.merge(df_left, df_right,\n",
    "         on='subject_id', how='outer')"
   ]
  },
  {
   "cell_type": "code",
   "execution_count": 43,
   "metadata": {
    "pycharm": {
     "name": "#%%\n"
    }
   },
   "outputs": [
    {
     "data": {
      "text/plain": "            test_score first_name last_name\nsubject_id                                 \n4                   61      Billy    Bonder\n5                   16      Brian     Black\n7                   14      Bryce     Brice\n8                   15      Betty    Btisan",
      "text/html": "<div>\n<style scoped>\n    .dataframe tbody tr th:only-of-type {\n        vertical-align: middle;\n    }\n\n    .dataframe tbody tr th {\n        vertical-align: top;\n    }\n\n    .dataframe thead th {\n        text-align: right;\n    }\n</style>\n<table border=\"1\" class=\"dataframe\">\n  <thead>\n    <tr style=\"text-align: right;\">\n      <th></th>\n      <th>test_score</th>\n      <th>first_name</th>\n      <th>last_name</th>\n    </tr>\n    <tr>\n      <th>subject_id</th>\n      <th></th>\n      <th></th>\n      <th></th>\n    </tr>\n  </thead>\n  <tbody>\n    <tr>\n      <th>4</th>\n      <td>61</td>\n      <td>Billy</td>\n      <td>Bonder</td>\n    </tr>\n    <tr>\n      <th>5</th>\n      <td>16</td>\n      <td>Brian</td>\n      <td>Black</td>\n    </tr>\n    <tr>\n      <th>7</th>\n      <td>14</td>\n      <td>Bryce</td>\n      <td>Brice</td>\n    </tr>\n    <tr>\n      <th>8</th>\n      <td>15</td>\n      <td>Betty</td>\n      <td>Btisan</td>\n    </tr>\n  </tbody>\n</table>\n</div>"
     },
     "execution_count": 43,
     "metadata": {},
     "output_type": "execute_result"
    }
   ],
   "source": [
    "# 인덱스 값을 키 값으로 병합\n",
    "df_left.index = df_left.subject_id\n",
    "del df_left[\"subject_id\"]  # 왼쪽 테이블 인덱스 지정\n",
    "df_right.index = df_right.subject_id\n",
    "del df_right[\"subject_id\"]  # 오른쪽 테이블 인덱스 지정\n",
    "\n",
    "pd.merge(df_left, df_right, on='subject_id', how='inner')  # 인덱스 값에 대한 내부 조인"
   ]
  },
  {
   "cell_type": "markdown",
   "metadata": {
    "pycharm": {
     "name": "#%% md\n"
    }
   },
   "source": [
    "## 연결 \n",
    "- 연결(concatenate) : 두 테이블을 그대로 붙임\n",
    "- 데이터의 스키마가 동일할 때 그대로 연결하며, 주로 세로로 데이터를 연결\n",
    "    - concat() : 두 개의 서로 다른 테이블을 하나로 합치며, 두 개 이상 데이터프레임을 합칠 때 좋음"
   ]
  },
  {
   "cell_type": "code",
   "execution_count": 44,
   "metadata": {
    "pycharm": {
     "name": "#%%\n"
    }
   },
   "outputs": [
    {
     "name": "stdout",
     "output_type": "stream",
     "text": [
      "['../Data/ch04\\\\sales-feb-2014.xlsx', '../Data/ch04\\\\sales-jan-2014.xlsx', '../Data/ch04\\\\sales-mar-2014.xlsx']\n"
     ]
    }
   ],
   "source": [
    "import os\n",
    "\n",
    "filenames = [os.path.join(\"../Data/ch04\", filename)\n",
    "             for filename in os.listdir(\"../Data/ch04\") if \"sales\" in filename]\n",
    "print(filenames)"
   ]
  },
  {
   "cell_type": "code",
   "execution_count": 45,
   "metadata": {
    "pycharm": {
     "name": "#%%\n"
    }
   },
   "outputs": [
    {
     "name": "stdout",
     "output_type": "stream",
     "text": [
      "<class 'pandas.core.frame.DataFrame'> 108\n",
      "<class 'pandas.core.frame.DataFrame'> 134\n",
      "<class 'pandas.core.frame.DataFrame'> 142\n"
     ]
    }
   ],
   "source": [
    "# 3개의 엑셀을 df_list로 만듦\n",
    "df_list = [pd.read_excel(filename, engine=\"openpyxl\")\n",
    "           for filename in filenames]\n",
    "\n",
    "for df in df_list:\n",
    "    print(type(df), len(df))"
   ]
  },
  {
   "cell_type": "code",
   "execution_count": 46,
   "metadata": {
    "pycharm": {
     "name": "#%%\n"
    }
   },
   "outputs": [
    {
     "data": {
      "text/plain": "   account number             name       sku  quantity  unit price  ext price  \\\n0          383080         Will LLC  B1-20000         7       33.69     235.83   \n1          412290    Jerde-Hilpert  S1-27722        11       21.12     232.32   \n2          412290    Jerde-Hilpert  B1-86481         3       35.99     107.97   \n3          412290    Jerde-Hilpert  B1-20000        23       78.90    1814.70   \n4          672390  Kuhn-Gusikowski  S1-06532        48       55.82    2679.36   \n\n                  date  \n0  2014-02-01 09:04:59  \n1  2014-02-01 11:51:46  \n2  2014-02-01 17:24:32  \n3  2014-02-01 19:56:48  \n4  2014-02-02 03:45:20  ",
      "text/html": "<div>\n<style scoped>\n    .dataframe tbody tr th:only-of-type {\n        vertical-align: middle;\n    }\n\n    .dataframe tbody tr th {\n        vertical-align: top;\n    }\n\n    .dataframe thead th {\n        text-align: right;\n    }\n</style>\n<table border=\"1\" class=\"dataframe\">\n  <thead>\n    <tr style=\"text-align: right;\">\n      <th></th>\n      <th>account number</th>\n      <th>name</th>\n      <th>sku</th>\n      <th>quantity</th>\n      <th>unit price</th>\n      <th>ext price</th>\n      <th>date</th>\n    </tr>\n  </thead>\n  <tbody>\n    <tr>\n      <th>0</th>\n      <td>383080</td>\n      <td>Will LLC</td>\n      <td>B1-20000</td>\n      <td>7</td>\n      <td>33.69</td>\n      <td>235.83</td>\n      <td>2014-02-01 09:04:59</td>\n    </tr>\n    <tr>\n      <th>1</th>\n      <td>412290</td>\n      <td>Jerde-Hilpert</td>\n      <td>S1-27722</td>\n      <td>11</td>\n      <td>21.12</td>\n      <td>232.32</td>\n      <td>2014-02-01 11:51:46</td>\n    </tr>\n    <tr>\n      <th>2</th>\n      <td>412290</td>\n      <td>Jerde-Hilpert</td>\n      <td>B1-86481</td>\n      <td>3</td>\n      <td>35.99</td>\n      <td>107.97</td>\n      <td>2014-02-01 17:24:32</td>\n    </tr>\n    <tr>\n      <th>3</th>\n      <td>412290</td>\n      <td>Jerde-Hilpert</td>\n      <td>B1-20000</td>\n      <td>23</td>\n      <td>78.90</td>\n      <td>1814.70</td>\n      <td>2014-02-01 19:56:48</td>\n    </tr>\n    <tr>\n      <th>4</th>\n      <td>672390</td>\n      <td>Kuhn-Gusikowski</td>\n      <td>S1-06532</td>\n      <td>48</td>\n      <td>55.82</td>\n      <td>2679.36</td>\n      <td>2014-02-02 03:45:20</td>\n    </tr>\n  </tbody>\n</table>\n</div>"
     },
     "execution_count": 46,
     "metadata": {},
     "output_type": "execute_result"
    }
   ],
   "source": [
    "# concat을 통한 리스트 연결\n",
    "df = pd.concat(df_list, axis=0)\n",
    "df.reset_index(drop=True)  # 중복된 인덱스 제거\n",
    "df.head()"
   ]
  }
 ],
 "metadata": {
  "interpreter": {
   "hash": "25ec6942201208e8e8076aa64a03c62c3f52897d25bc5a5e27202a9980ef8dc4"
  },
  "kernelspec": {
   "display_name": "Python 3 (ipykernel)",
   "language": "python",
   "name": "python3"
  },
  "language_info": {
   "codemirror_mode": {
    "name": "ipython",
    "version": 3
   },
   "file_extension": ".py",
   "mimetype": "text/x-python",
   "name": "python",
   "nbconvert_exporter": "python",
   "pygments_lexer": "ipython3",
   "version": "3.9.12"
  }
 },
 "nbformat": 4,
 "nbformat_minor": 2
}