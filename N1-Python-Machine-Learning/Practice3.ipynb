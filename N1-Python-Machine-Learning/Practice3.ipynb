{
 "cells": [
  {
   "cell_type": "code",
   "execution_count": 1,
   "id": "108cf889",
   "metadata": {
    "pycharm": {
     "name": "#%%\n"
    }
   },
   "outputs": [
    {
     "name": "stdout",
     "output_type": "stream",
     "text": [
      "[[16 64]\n",
      " [ 4 81]]\n"
     ]
    }
   ],
   "source": [
    "import numpy as np\n",
    "\n",
    "test_a = np.array([[4, 8], [2, 9]])\n",
    "print(test_a * test_a)"
   ]
  },
  {
   "cell_type": "markdown",
   "id": "2bb8076c",
   "metadata": {
    "pycharm": {
     "name": "#%% md\n"
    }
   },
   "source": [
    "__2. 다음 코드를 실행할 경우 예상되는 결과값은 무엇인가?__\n",
    "\n",
    "```\n",
    "1. [[5 5 5]\n",
    "    [3 3 3]]\n",
    "2. [[25 25 25]\n",
    "    [ 9  9  9]]\n",
    "3. [[10 10 10]\n",
    "    [ 6  6  6]]\n",
    "4. [[75 45]\n",
    "    [45 27]]\n",
    "```\n",
    "> 답 : 2"
   ]
  },
  {
   "cell_type": "code",
   "execution_count": 2,
   "id": "081c4fc0",
   "metadata": {
    "pycharm": {
     "name": "#%%\n"
    }
   },
   "outputs": [
    {
     "name": "stdout",
     "output_type": "stream",
     "text": [
      "[[25 25 25]\n",
      " [ 9  9  9]]\n"
     ]
    }
   ],
   "source": [
    "test_a = np.array([[5, 5, 5], [3, 3, 3]])\n",
    "print(test_a ** 2)"
   ]
  },
  {
   "cell_type": "markdown",
   "id": "33806921",
   "metadata": {
    "pycharm": {
     "name": "#%% md\n"
    }
   },
   "source": [
    "__3. A = np.array([[3,22,2],[3,1,5]]), B = np.array([[6,7,9],[2,1,3]])일 때, 다음 중 연산이 실행되지 않고 오류가 발생하는 것은?__\n",
    "1. A * B\n",
    "2. A.dot(B)\n",
    "3. A.T.dot(B)\n",
    "4. A.dot(B.T)\n",
    "\n",
    "> 답 : 2  \n",
    "> 행, 열이 같은 행렬끼리는 계산이 되지 않음"
   ]
  },
  {
   "cell_type": "code",
   "execution_count": 3,
   "id": "70ee3d28",
   "metadata": {
    "pycharm": {
     "name": "#%%\n"
    }
   },
   "outputs": [
    {
     "name": "stdout",
     "output_type": "stream",
     "text": [
      "[[ 18 154  18]\n",
      " [  6   1  15]]\n",
      "[[ 24  24  36]\n",
      " [134 155 201]\n",
      " [ 22  19  33]]\n",
      "[[190  34]\n",
      " [ 70  22]]\n"
     ]
    }
   ],
   "source": [
    "A = np.array([[3, 22, 2], [3, 1, 5]])\n",
    "B = np.array([[6, 7, 9], [2, 1, 3]])\n",
    "\n",
    "print(A * B)\n",
    "print(A.T.dot(B))\n",
    "print(A.dot(B.T))"
   ]
  },
  {
   "cell_type": "markdown",
   "id": "e05262cb",
   "metadata": {
    "pycharm": {
     "name": "#%% md\n"
    }
   },
   "source": [
    "__4. 다음 수식을 나타내는 넘파이 코드를 작성하고자 한다. 다음 코드 중 결과가 다른 것을 하나 찾으시오.__\n",
    "$$y=\\sqrt {\\frac{1}{N}\\sum_{i=1}^N (y_i-\\hat y)}$$"
   ]
  },
  {
   "cell_type": "code",
   "execution_count": 4,
   "id": "3176b3a9",
   "metadata": {
    "pycharm": {
     "name": "#%%\n"
    }
   },
   "outputs": [],
   "source": [
    "Y_true = np.array([1, 1, 0, 1, 1])\n",
    "Y_pred = np.array([0.23, 0.5, 0.99, 0.69, 0.4])"
   ]
  },
  {
   "cell_type": "markdown",
   "id": "d34cd48a",
   "metadata": {
    "pycharm": {
     "name": "#%% md\n"
    }
   },
   "source": [
    "```python\n",
    "1. np.sqrt(np.sum((Y_true - Y_pred)**2) / len(Y_true))\n",
    "2. diff = (Y_true - Y_pred)\n",
    "   np.sqrt(diff ** 2 / len(Y_true))\n",
    "3. np.sqrt(np.sum(np.square((Y_true - Y_pred)))/len(Y_true))\n",
    "4. diff = (Y_true - Y_pred)\n",
    "   np.sqrt(diff.T.dot(diff) / len(Y_true))\n",
    "```\n",
    "> 답 : 2"
   ]
  },
  {
   "cell_type": "code",
   "execution_count": 5,
   "id": "a1136009",
   "metadata": {
    "pycharm": {
     "name": "#%%\n"
    }
   },
   "outputs": [
    {
     "name": "stdout",
     "output_type": "stream",
     "text": [
      "0.6751444289927897\n",
      "[0.34435447 0.2236068  0.44274146 0.13863621 0.26832816]\n",
      "0.6751444289927897\n",
      "0.6751444289927897\n"
     ]
    }
   ],
   "source": [
    "print(np.sqrt(np.sum((Y_true - Y_pred) ** 2) / len(Y_true)))\n",
    "\n",
    "diff = (Y_true - Y_pred)\n",
    "print(np.sqrt(diff ** 2 / len(Y_true)))\n",
    "\n",
    "print(np.sqrt(np.sum(np.square((Y_true - Y_pred))) / len(Y_true)))\n",
    "\n",
    "print(np.sqrt(diff.T.dot(diff) / len(Y_true)))"
   ]
  },
  {
   "cell_type": "markdown",
   "id": "15d9b5ef",
   "metadata": {
    "pycharm": {
     "name": "#%% md\n"
    }
   },
   "source": [
    "__5. 다음 코드는 ndarray A의 각 원소들을 평균과 표준편차를 이용하여 정규분포로 정규화시키는 벡터 연산 코드이다. 빈칸에 알맞은 것을 고르시오.__\n",
    "$$\\frac{X_i-E(x)}{\\sigma}$$\n",
    "\n",
    "1. sum(axis=1), mean(axis=1)\n",
    "2. mean(axis=0), std(axis=0)\n",
    "3. mean, std\n",
    "4. sum, mean\n",
    "\n",
    "답 : 3"
   ]
  },
  {
   "cell_type": "code",
   "execution_count": 6,
   "id": "f1152c7a",
   "metadata": {
    "pycharm": {
     "name": "#%%\n"
    }
   },
   "outputs": [
    {
     "name": "stdout",
     "output_type": "stream",
     "text": [
      "[ 6.12828654 -0.87171346  0.12828654  0.12828654  1.12828654  2.12828654\n",
      "  3.12828654  4.12828654  5.12828654  6.12828654]\n"
     ]
    }
   ],
   "source": [
    "A = np.array([8, 1, 2, 2, 3, 4, 5, 6, 7, 8])\n",
    "Z = (A - A.mean(axis=0) / A.std(axis=0))\n",
    "print(Z)"
   ]
  },
  {
   "cell_type": "markdown",
   "id": "db5e2ba4",
   "metadata": {
    "pycharm": {
     "name": "#%% md\n"
    }
   },
   "source": [
    "__6. 다음 수식을 넘파이로 구현하고자 한다. 벡터를 입력하여 정규화된 벡터로 나타낼 때, 수식을 올바른 넘파이 코드로 표현한 것이 아닌 것은 무엇인가?__\n",
    "\n",
    "$$y_k=exp(a_k)/\\sum_{i=1}^n (exp(a_i))$$\n",
    "\n",
    "```python\n",
    "1. def softmax(x):\n",
    "       f_x = x.exp / np.sum(x.exp)\n",
    "       return f_x\n",
    "2. def softmax(a) :\n",
    "       exp_a = np.exp(a)\n",
    "       sum_exp_a = np.sum(exp_a)\n",
    "       y = exp_a / sum_exp_a\n",
    "\n",
    "       return y\n",
    "3. def softmax(x):\n",
    "       return np.exp(x) / np.sum(np.exp(x))\n",
    "4. def softmax(x):\n",
    "       exponentials = np.exp(x)\n",
    "       sum_exponentials = sum(exponentials)\n",
    "       result = exponentials/sum_exponentials\n",
    "       return result\n",
    "```\n",
    "\n",
    "> 답 : 1  \n",
    "> 1번은 에러 발생"
   ]
  },
  {
   "cell_type": "code",
   "execution_count": 7,
   "id": "1e2adab5",
   "metadata": {
    "pycharm": {
     "name": "#%%\n"
    }
   },
   "outputs": [
    {
     "name": "stdout",
     "output_type": "stream",
     "text": [
      "[0.48028779 0.03942442 0.48028779]\n",
      "[0.48028779 0.03942442 0.48028779]\n",
      "[0.48028779 0.03942442 0.48028779]\n",
      "[0.48028779 0.03942442 0.48028779]\n"
     ]
    }
   ],
   "source": [
    "def softmax(x):\n",
    "    # 1번은 아래와 같이 수정\n",
    "    f_x = np.exp(x) / np.sum(np.exp(x))\n",
    "    print(f_x)\n",
    "\n",
    "    exp_x = np.exp(x)\n",
    "    sum_exp_x = np.sum(exp_x)\n",
    "    y = exp_x / sum_exp_x\n",
    "    print(y)\n",
    "\n",
    "    print(np.exp(x) / np.sum(np.exp(x)))\n",
    "\n",
    "    exponentials = np.exp(x)\n",
    "    sum_exponentials = sum(exponentials)\n",
    "    result = exponentials / sum_exponentials\n",
    "    print(result)\n",
    "\n",
    "\n",
    "softmax([5.0, 2.5, 5.0])"
   ]
  },
  {
   "cell_type": "markdown",
   "id": "2a09f14a",
   "metadata": {
    "pycharm": {
     "name": "#%% md\n"
    }
   },
   "source": [
    "__7. 다음 코드를 실행할 경우 예상되는 결과값은 무엇인가?__\n",
    "\n",
    "\n",
    "1. array([[ 30,  36,  42],\n",
    "          [ 66,  81,  96],\n",
    "          [102, 126, 150]])\n",
    "2. array([[ 5, 14],\n",
    "          [14, 50]])\n",
    "3. array([[18, 21, 24],\n",
    "          [54, 66, 78]])\n",
    "4. array([[ 8, 26],\n",
    "          [17, 62],\n",
    "          [26, 98]])\n",
    "\n",
    "> 답 : 4"
   ]
  },
  {
   "cell_type": "code",
   "execution_count": 8,
   "id": "467394fd",
   "metadata": {
    "pycharm": {
     "name": "#%%\n"
    }
   },
   "outputs": [
    {
     "data": {
      "text/plain": "array([[ 8, 26],\n       [17, 62],\n       [26, 98]])"
     },
     "execution_count": 8,
     "metadata": {},
     "output_type": "execute_result"
    }
   ],
   "source": [
    "test_a = np.arange(1, 10).reshape(3, 3)\n",
    "test_b = np.arange(6).reshape(2, 3)\n",
    "\n",
    "test_a.dot(test_b.T)"
   ]
  },
  {
   "cell_type": "markdown",
   "id": "9ad9a5db",
   "metadata": {
    "pycharm": {
     "name": "#%% md\n"
    }
   },
   "source": [
    "__8. 다음 중 넘파이 배열의 특징으로 적합한 것을 모두 고르시오.__\n",
    "1. C의 데이터 타입을 기본으로 배열이 생성된다.\n",
    "2. 동적 타이핑이 지원된다\n",
    "3. 하나의 데이터 타입만으로 배열이 생성된다.\n",
    "4. 새로운 데이터를 할당할 때 메모리를 유연하게 사용하여 할당 속도가 빠르다.\n",
    "\n",
    "> 답 : 1, 3\n",
    "> 2번 : 배열 연산에 있어 매우 큰 성능적 우위 확보를 위해 동적 타이핑을 포기했다."
   ]
  },
  {
   "cell_type": "markdown",
   "id": "9d02a67e",
   "metadata": {
    "pycharm": {
     "name": "#%% md\n"
    }
   },
   "source": [
    "__9. 다음 코드를 실행할 경우 예상되는 결과값은 무엇인가?__\n",
    "\n",
    "1. 4\n",
    "2. 오류 발생\n",
    "3. 8\n",
    "4. 16\n",
    "\n",
    "> 답 : 3"
   ]
  },
  {
   "cell_type": "code",
   "execution_count": 9,
   "id": "3e4891fd",
   "metadata": {
    "pycharm": {
     "name": "#%%\n"
    }
   },
   "outputs": [
    {
     "name": "stdout",
     "output_type": "stream",
     "text": [
      "8\n"
     ]
    }
   ],
   "source": [
    "arr = np.arange(16).reshape(4, 4)\n",
    "print(arr.size - arr.shape[0] * arr.ndim)"
   ]
  },
  {
   "cell_type": "markdown",
   "id": "c97f1765",
   "metadata": {
    "pycharm": {
     "name": "#%% md\n"
    }
   },
   "source": [
    "__10. 다음 코드를 실행할 경우 예상되는 결과값은 무엇인가?__\n",
    "\n",
    "1. (10, 2)\n",
    "2. (2, 10)\n",
    "3. (5, 4)\n",
    "4. 오류 발생\n",
    "\n",
    "> 답 : 2"
   ]
  },
  {
   "cell_type": "code",
   "execution_count": 10,
   "id": "58bd65fe",
   "metadata": {
    "pycharm": {
     "name": "#%%\n"
    }
   },
   "outputs": [
    {
     "name": "stdout",
     "output_type": "stream",
     "text": [
      "(2, 10)\n"
     ]
    }
   ],
   "source": [
    "arr = np.arange(20).reshape(10, 2)\n",
    "x, y = arr.shape\n",
    "\n",
    "print(arr.reshape(y, x).shape)"
   ]
  },
  {
   "cell_type": "markdown",
   "id": "413e8559",
   "metadata": {
    "pycharm": {
     "name": "#%% md\n"
    }
   },
   "source": [
    "__11. 다음 배열은 벡터이다. 이 배열을 4×6의 행렬로 바꾸려고 할 때 빈칸에 알맞은 것을 고르시오.__\n",
    "\n",
    "1. reshape(4, 6) \n",
    "2. reshape(-1, 4)\n",
    "3. flatten(6, 4)\n",
    "4. flatten( )\n",
    "\n",
    "> 답 : 1"
   ]
  },
  {
   "cell_type": "code",
   "execution_count": 11,
   "id": "1dc95019",
   "metadata": {
    "pycharm": {
     "name": "#%%\n"
    }
   },
   "outputs": [
    {
     "name": "stdout",
     "output_type": "stream",
     "text": [
      "[[ 0  1  2  3  4  5]\n",
      " [ 6  7  8  9 10 11]\n",
      " [12 13 14 15 16 17]\n",
      " [18 19 20 21 22 23]]\n"
     ]
    }
   ],
   "source": [
    "arr = np.arange(24)\n",
    "arr = arr.reshape(4, 6)\n",
    "print(arr)"
   ]
  },
  {
   "cell_type": "markdown",
   "id": "538de579",
   "metadata": {
    "pycharm": {
     "name": "#%% md\n"
    }
   },
   "source": [
    "__12. 다음 코드를 실행했을 때 결과값이 다른 하나를 고르시오.__"
   ]
  },
  {
   "cell_type": "code",
   "execution_count": 12,
   "id": "ba460e1c",
   "metadata": {
    "pycharm": {
     "name": "#%%\n"
    }
   },
   "outputs": [
    {
     "data": {
      "text/plain": "array([0, 1, 2, 3, 4, 5, 6, 7])"
     },
     "execution_count": 12,
     "metadata": {},
     "output_type": "execute_result"
    }
   ],
   "source": [
    "arr = np.arange(8)\n",
    "arr"
   ]
  },
  {
   "cell_type": "markdown",
   "id": "a87b925a",
   "metadata": {
    "pycharm": {
     "name": "#%% md\n"
    }
   },
   "source": [
    "1. arr.flatten()\n",
    "2. arr.reshape(2, -2)\n",
    "3. arr.reshape(arr ize)\n",
    "4. arr\n",
    "\n",
    "> 답 : 2"
   ]
  },
  {
   "cell_type": "code",
   "execution_count": 13,
   "id": "104cb8c4",
   "metadata": {
    "pycharm": {
     "name": "#%%\n"
    }
   },
   "outputs": [
    {
     "name": "stdout",
     "output_type": "stream",
     "text": [
      "[0 1 2 3 4 5 6 7]\n",
      "[[0 1 2 3]\n",
      " [4 5 6 7]]\n",
      "[0 1 2 3 4 5 6 7]\n",
      "[0 1 2 3 4 5 6 7]\n"
     ]
    }
   ],
   "source": [
    "print(arr.flatten())\n",
    "print(arr.reshape(2, -2))\n",
    "print(arr.reshape(arr.size))\n",
    "print(arr)"
   ]
  },
  {
   "cell_type": "markdown",
   "id": "cf02353f",
   "metadata": {
    "pycharm": {
     "name": "#%% md\n"
    }
   },
   "source": [
    "__13. 다음 코드를 실행할 경우 예상되는 결과값은 무엇인가?__\n",
    "\n",
    "1. False\n",
    "2. True\n",
    "3. array([ True, True, False, False])\n",
    "4. array([0, 1, 2, 3])\n",
    "\n",
    "> 답 : 2"
   ]
  },
  {
   "cell_type": "code",
   "execution_count": 14,
   "id": "3d096c19",
   "metadata": {
    "pycharm": {
     "name": "#%%\n"
    }
   },
   "outputs": [
    {
     "data": {
      "text/plain": "True"
     },
     "execution_count": 14,
     "metadata": {},
     "output_type": "execute_result"
    }
   ],
   "source": [
    "arr_1 = np.arange(4)\n",
    "arr_2 = np.arange(4, 0, -1)\n",
    "\n",
    "np.any(arr_1 < arr_2)"
   ]
  },
  {
   "cell_type": "markdown",
   "id": "0c1da7ec",
   "metadata": {
    "pycharm": {
     "name": "#%% md\n"
    }
   },
   "source": [
    "__14. 다음 코드를 실행할 경우 예상되는 결과값은 무엇인가?__\n",
    "\n",
    "1. array([5])\n",
    "2. array([0, 1, 2])\n",
    "3. array([[False, False, False], [False, False, True]])\n",
    "4. array([3, 4, 5])\n",
    "\n",
    "답 : 1"
   ]
  },
  {
   "cell_type": "code",
   "execution_count": 15,
   "id": "7be5b9fd",
   "metadata": {
    "pycharm": {
     "name": "#%%\n"
    }
   },
   "outputs": [
    {
     "data": {
      "text/plain": "array([5])"
     },
     "execution_count": 15,
     "metadata": {},
     "output_type": "execute_result"
    }
   ],
   "source": [
    "a = np.arange(6).reshape(2, 3)\n",
    "b = a > 4\n",
    "a[b]"
   ]
  },
  {
   "cell_type": "markdown",
   "id": "4a30f934",
   "metadata": {
    "pycharm": {
     "name": "#%% md\n"
    }
   },
   "source": [
    "__15. 다음 find_nearest_value 함수는 벡터와 어떤 값을 입력하면 해당 벡터 값 중 입력된 값과 차이가 가장 작은 값이 반환된다.__  \n",
    "__해당 함수로 가장 적합한 코드를 찾으시오.__\n",
    "\n",
    "```python\n",
    "1. def find_nearest_value(X, target_value):\n",
    "       result = X[np.argmax(np.abs(X - target_value))]\n",
    "       return result\n",
    "2. def find_nearest_value(X, target_value):\n",
    "       result = X[np.abs(X - target_value)]\n",
    "       return result\n",
    "3. def find_nearest_value(X, target_value):\n",
    "       result = X[np.argmin(np.abs(X - target_value))]\n",
    "       return result\n",
    "4. def find_nearest_value(X, target_value):\n",
    "       result = X[np.argmax((X - target_value))]\n",
    "       return result\n",
    "```\n",
    "\n",
    "> 답 : 3"
   ]
  },
  {
   "cell_type": "code",
   "execution_count": 16,
   "id": "f2eafd26",
   "metadata": {
    "pycharm": {
     "name": "#%%\n"
    }
   },
   "outputs": [
    {
     "name": "stdout",
     "output_type": "stream",
     "text": [
      "1\n",
      "4\n",
      "7\n"
     ]
    }
   ],
   "source": [
    "def find_nearest_value(X, target_value):\n",
    "    print(X[np.argmax(np.abs(X - target_value))])\n",
    "    # print(X[np.abs(X - target_value)]), 값이 정수형이 아니여서 발생\n",
    "    print(X[np.argmin(np.abs(X - target_value))])\n",
    "    print(X[np.argmax((X - target_value))])\n",
    "\n",
    "\n",
    "X = np.array([1, 2, 3, 4, 5, 6, 7])\n",
    "target_value = 4.3\n",
    "find_nearest_value(X, target_value)"
   ]
  },
  {
   "cell_type": "markdown",
   "id": "8f446802",
   "metadata": {
    "pycharm": {
     "name": "#%% md\n"
    }
   },
   "source": [
    "__16. 다음 코드를 실행할 경우 예상되는 결과값은 무엇인가?__\n",
    "\n",
    "1. array([6, 6, 6, 4, 7, 9, 1, 8, 8, 4])\n",
    "2. array([6, 6, 6, 4, 7])\n",
    "3. array([6, 3, 9, 0, 1])\n",
    "4. [0 0 6 0 7 9 0 8 8 0]\n",
    "\n",
    "> 답 : 4"
   ]
  },
  {
   "cell_type": "code",
   "execution_count": 17,
   "id": "979e62fb",
   "metadata": {
    "pycharm": {
     "name": "#%%\n"
    }
   },
   "outputs": [
    {
     "name": "stdout",
     "output_type": "stream",
     "text": [
      "[0 0 6 0 7 9 0 8 8 0]\n"
     ]
    }
   ],
   "source": [
    "Z = np.array([6, 6, 6, 4, 7, 9, 1, 8, 8, 4])\n",
    "Z[Z.argsort()[:5]] = 0\n",
    "print(Z)"
   ]
  },
  {
   "cell_type": "markdown",
   "id": "46442349",
   "metadata": {
    "pycharm": {
     "name": "#%% md\n"
    }
   },
   "source": [
    "__17. 다음 코드를 실행할 경우 예상되는 결과값은 무엇인가?__\n",
    "\n",
    "```\n",
    "1. [[17 27 14 11]\n",
    "    [11 26 26 23]\n",
    "    [ 8 24 25 26]]\n",
    "2. [[17 11  8]\n",
    "    [27 26 24]\n",
    "    [14 26 25]\n",
    "    [11 23 26]]\n",
    "3. [0, 2, 1] \n",
    "4. [[17 27 14 11]\n",
    "    [ 8 24 25 26]\n",
    "    [11 26 26 23]]\n",
    "\n",
    "```\n",
    "\n",
    "> 답 : 1"
   ]
  },
  {
   "cell_type": "code",
   "execution_count": 18,
   "id": "adac0a66",
   "metadata": {
    "pycharm": {
     "name": "#%%\n"
    }
   },
   "outputs": [
    {
     "name": "stdout",
     "output_type": "stream",
     "text": [
      "[[17 27 14 11]\n",
      " [11 26 26 23]\n",
      " [ 8 24 25 26]]\n"
     ]
    }
   ],
   "source": [
    "arr = np.array([[17, 27, 14, 11],\n",
    "                [8, 24, 25, 26],\n",
    "                [11, 26, 26, 23],\n",
    "                [22, 18, 24, 11]])\n",
    "print(arr[[0, 2, 1]])"
   ]
  }
 ],
 "metadata": {
  "interpreter": {
   "hash": "25ec6942201208e8e8076aa64a03c62c3f52897d25bc5a5e27202a9980ef8dc4"
  },
  "kernelspec": {
   "display_name": "Python 3 (ipykernel)",
   "language": "python",
   "name": "python3"
  },
  "language_info": {
   "codemirror_mode": {
    "name": "ipython",
    "version": 3
   },
   "file_extension": ".py",
   "mimetype": "text/x-python",
   "name": "python",
   "nbconvert_exporter": "python",
   "pygments_lexer": "ipython3",
   "version": "3.9.13"
  }
 },
 "nbformat": 4,
 "nbformat_minor": 5
}