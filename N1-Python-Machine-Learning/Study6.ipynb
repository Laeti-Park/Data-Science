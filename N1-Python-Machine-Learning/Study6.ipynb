{
 "cells": [
  {
   "cell_type": "markdown",
   "metadata": {
    "pycharm": {
     "name": "#%% md\n"
    }
   },
   "source": [
    "## 데이터 전처리 개념과 유형\n",
    "\n",
    "- 데이터 전처리(data preprocessing) : 머신러닝 모델에 훈련 데이터를 입력하기 전에 데이터를 가공\n",
    "- 머신러닝 기초 수식 : $y=f(X)$\n",
    "  - 데이터 X는 훈련 데이터(train data)와 테스트 데이터(test data)가 모두 같은 구조를 갖는 피쳐(feature)이고, $X$값을 넣으면 $y$값이 나옴\n",
    "- 연속형 데이터 : 최댓값과 최솟값 차이가 피쳐보다 더 많이 나는 경우, 학습에 영향을 최소화 하기 위해 데이터의 스케일(scale)을 맞춰줌\n",
    "- 기수형 데이터와 서수형 데이터 : 일반적으로 숫자로 표현되지 않기 때문에 컴퓨터가 이해할 수 있는 숫자 형태의 정보로 변형\n",
    "- 결측치(missing data) : 실제로 존재하지만 데이터베이스 등에 기록되지 않는 데이터\n",
    "  - 해당 데이터를 빼고 모델을 돌릴 수 없기 때문에 결측치 처리 전략을 세워 데이터를 채워 넣음\n",
    "- 이상치(outlier) : 극단적으로 크거나 작은 값\n",
    "  - 단순히 데이터 분포의 차이와는 다르며, 데이터 오기입이나 특이 현상 때문에 나타남"
   ]
  },
  {
   "cell_type": "markdown",
   "metadata": {
    "pycharm": {
     "name": "#%% md\n"
    }
   },
   "source": [
    "## 데이터 전처리 전략"
   ]
  },
  {
   "cell_type": "code",
   "execution_count": null,
   "metadata": {
    "pycharm": {
     "name": "#%%\n"
    }
   },
   "outputs": [
    {
     "data": {
      "text/plain": "  first_name last_name   age  sex  preTestScore  postTestScore\n0      Jason    Miller  42.0    m           4.0           25.0\n1        NaN       NaN   NaN  NaN           NaN            NaN\n2       Tina       Ali  36.0    f           NaN            NaN\n3       Jake    Milner  24.0    m           2.0           62.0\n4        Amy     Cooze  73.0    f           3.0           70.0",
      "text/html": "<div>\n<style scoped>\n    .dataframe tbody tr th:only-of-type {\n        vertical-align: middle;\n    }\n\n    .dataframe tbody tr th {\n        vertical-align: top;\n    }\n\n    .dataframe thead th {\n        text-align: right;\n    }\n</style>\n<table border=\"1\" class=\"dataframe\">\n  <thead>\n    <tr style=\"text-align: right;\">\n      <th></th>\n      <th>first_name</th>\n      <th>last_name</th>\n      <th>age</th>\n      <th>sex</th>\n      <th>preTestScore</th>\n      <th>postTestScore</th>\n    </tr>\n  </thead>\n  <tbody>\n    <tr>\n      <th>0</th>\n      <td>Jason</td>\n      <td>Miller</td>\n      <td>42.0</td>\n      <td>m</td>\n      <td>4.0</td>\n      <td>25.0</td>\n    </tr>\n    <tr>\n      <th>1</th>\n      <td>NaN</td>\n      <td>NaN</td>\n      <td>NaN</td>\n      <td>NaN</td>\n      <td>NaN</td>\n      <td>NaN</td>\n    </tr>\n    <tr>\n      <th>2</th>\n      <td>Tina</td>\n      <td>Ali</td>\n      <td>36.0</td>\n      <td>f</td>\n      <td>NaN</td>\n      <td>NaN</td>\n    </tr>\n    <tr>\n      <th>3</th>\n      <td>Jake</td>\n      <td>Milner</td>\n      <td>24.0</td>\n      <td>m</td>\n      <td>2.0</td>\n      <td>62.0</td>\n    </tr>\n    <tr>\n      <th>4</th>\n      <td>Amy</td>\n      <td>Cooze</td>\n      <td>73.0</td>\n      <td>f</td>\n      <td>3.0</td>\n      <td>70.0</td>\n    </tr>\n  </tbody>\n</table>\n</div>"
     },
     "execution_count": 1,
     "metadata": {},
     "output_type": "execute_result"
    }
   ],
   "source": [
    "import pandas as pd\n",
    "import numpy as np\n",
    "\n",
    "raw_data = {'first_name': ['Jason', np.nan, 'Tina', 'Jake', 'Amy'],\n",
    "            'last_name': ['Miller', np.nan, 'Ali', 'Milner', 'Cooze'],\n",
    "            'age': [42, np.nan, 36, 24, 73],\n",
    "            'sex': ['m', np.nan, 'f', 'm', 'f'],\n",
    "            'preTestScore': [4, np.nan, np.nan, 2, 3],\n",
    "            'postTestScore': [25, np.nan, np.nan, 62, 70]}\n",
    "\n",
    "df = pd.DataFrame(raw_data, columns=['first_name', 'last_name', 'age',\n",
    "                                     'sex', 'preTestScore', 'postTestScore'])\n",
    "df"
   ]
  },
  {
   "cell_type": "code",
   "execution_count": null,
   "metadata": {
    "pycharm": {
     "name": "#%%\n"
    }
   },
   "outputs": [
    {
     "data": {
      "text/plain": "first_name       0.2\nlast_name        0.2\nage              0.2\nsex              0.2\npreTestScore     0.4\npostTestScore    0.4\ndtype: float64"
     },
     "execution_count": 2,
     "metadata": {},
     "output_type": "execute_result"
    }
   ],
   "source": [
    "# NaN 값이 존재할 경우 True, 그렇지 않을 경우 False 출력\n",
    "df.isnull().sum() / len(df)  # 열별 True 데이터 결측치 비율을 구함"
   ]
  },
  {
   "cell_type": "markdown",
   "metadata": {
    "pycharm": {
     "name": "#%% md\n"
    }
   },
   "source": [
    "### 결측치 처리하기 : 드롭\n",
    "- 드롭(drop) : 결측치, NaN이 나온 열이나 행을 삭제\n",
    "- 매개변수 inplace=True를 사용하거나 다른 변수에 재할당하는 것이 좋음"
   ]
  },
  {
   "cell_type": "code",
   "execution_count": null,
   "metadata": {
    "pycharm": {
     "name": "#%%\n"
    }
   },
   "outputs": [
    {
     "data": {
      "text/plain": "  first_name last_name   age sex  preTestScore  postTestScore\n0      Jason    Miller  42.0   m           4.0           25.0\n3       Jake    Milner  24.0   m           2.0           62.0\n4        Amy     Cooze  73.0   f           3.0           70.0",
      "text/html": "<div>\n<style scoped>\n    .dataframe tbody tr th:only-of-type {\n        vertical-align: middle;\n    }\n\n    .dataframe tbody tr th {\n        vertical-align: top;\n    }\n\n    .dataframe thead th {\n        text-align: right;\n    }\n</style>\n<table border=\"1\" class=\"dataframe\">\n  <thead>\n    <tr style=\"text-align: right;\">\n      <th></th>\n      <th>first_name</th>\n      <th>last_name</th>\n      <th>age</th>\n      <th>sex</th>\n      <th>preTestScore</th>\n      <th>postTestScore</th>\n    </tr>\n  </thead>\n  <tbody>\n    <tr>\n      <th>0</th>\n      <td>Jason</td>\n      <td>Miller</td>\n      <td>42.0</td>\n      <td>m</td>\n      <td>4.0</td>\n      <td>25.0</td>\n    </tr>\n    <tr>\n      <th>3</th>\n      <td>Jake</td>\n      <td>Milner</td>\n      <td>24.0</td>\n      <td>m</td>\n      <td>2.0</td>\n      <td>62.0</td>\n    </tr>\n    <tr>\n      <th>4</th>\n      <td>Amy</td>\n      <td>Cooze</td>\n      <td>73.0</td>\n      <td>f</td>\n      <td>3.0</td>\n      <td>70.0</td>\n    </tr>\n  </tbody>\n</table>\n</div>"
     },
     "execution_count": 3,
     "metadata": {},
     "output_type": "execute_result"
    }
   ],
   "source": [
    "# dropna : NaN이 있는 열이나 행을 삭제\n",
    "df_no_missing = df.dropna()\n",
    "df_no_missing"
   ]
  },
  {
   "cell_type": "markdown",
   "metadata": {
    "pycharm": {
     "name": "#%% md\n"
    }
   },
   "source": [
    "- 매개변수 how로 조건에 따라 결측치를 지움\n",
    "    - ‘all’은 행에 있는 모든 값이 NaN일 때 해당 행을 삭제\n",
    "    - ‘any’는 하나의 NaN만 있어도 삭제"
   ]
  },
  {
   "cell_type": "code",
   "execution_count": null,
   "metadata": {
    "pycharm": {
     "name": "#%%\n"
    }
   },
   "outputs": [
    {
     "data": {
      "text/plain": "  first_name last_name   age sex  preTestScore  postTestScore\n0      Jason    Miller  42.0   m           4.0           25.0\n2       Tina       Ali  36.0   f           NaN            NaN\n3       Jake    Milner  24.0   m           2.0           62.0\n4        Amy     Cooze  73.0   f           3.0           70.0",
      "text/html": "<div>\n<style scoped>\n    .dataframe tbody tr th:only-of-type {\n        vertical-align: middle;\n    }\n\n    .dataframe tbody tr th {\n        vertical-align: top;\n    }\n\n    .dataframe thead th {\n        text-align: right;\n    }\n</style>\n<table border=\"1\" class=\"dataframe\">\n  <thead>\n    <tr style=\"text-align: right;\">\n      <th></th>\n      <th>first_name</th>\n      <th>last_name</th>\n      <th>age</th>\n      <th>sex</th>\n      <th>preTestScore</th>\n      <th>postTestScore</th>\n    </tr>\n  </thead>\n  <tbody>\n    <tr>\n      <th>0</th>\n      <td>Jason</td>\n      <td>Miller</td>\n      <td>42.0</td>\n      <td>m</td>\n      <td>4.0</td>\n      <td>25.0</td>\n    </tr>\n    <tr>\n      <th>2</th>\n      <td>Tina</td>\n      <td>Ali</td>\n      <td>36.0</td>\n      <td>f</td>\n      <td>NaN</td>\n      <td>NaN</td>\n    </tr>\n    <tr>\n      <th>3</th>\n      <td>Jake</td>\n      <td>Milner</td>\n      <td>24.0</td>\n      <td>m</td>\n      <td>2.0</td>\n      <td>62.0</td>\n    </tr>\n    <tr>\n      <th>4</th>\n      <td>Amy</td>\n      <td>Cooze</td>\n      <td>73.0</td>\n      <td>f</td>\n      <td>3.0</td>\n      <td>70.0</td>\n    </tr>\n  </tbody>\n</table>\n</div>"
     },
     "execution_count": 4,
     "metadata": {},
     "output_type": "execute_result"
    }
   ],
   "source": [
    "df_cleaned = df.dropna(how='all')\n",
    "df_cleaned"
   ]
  },
  {
   "cell_type": "code",
   "execution_count": null,
   "metadata": {
    "pycharm": {
     "name": "#%%\n"
    }
   },
   "outputs": [
    {
     "data": {
      "text/plain": "  first_name last_name   age sex  preTestScore  postTestScore\n0      Jason    Miller  42.0   m           4.0           25.0\n2       Tina       Ali  36.0   f           NaN            NaN\n3       Jake    Milner  24.0   m           2.0           62.0\n4        Amy     Cooze  73.0   f           3.0           70.0",
      "text/html": "<div>\n<style scoped>\n    .dataframe tbody tr th:only-of-type {\n        vertical-align: middle;\n    }\n\n    .dataframe tbody tr th {\n        vertical-align: top;\n    }\n\n    .dataframe thead th {\n        text-align: right;\n    }\n</style>\n<table border=\"1\" class=\"dataframe\">\n  <thead>\n    <tr style=\"text-align: right;\">\n      <th></th>\n      <th>first_name</th>\n      <th>last_name</th>\n      <th>age</th>\n      <th>sex</th>\n      <th>preTestScore</th>\n      <th>postTestScore</th>\n    </tr>\n  </thead>\n  <tbody>\n    <tr>\n      <th>0</th>\n      <td>Jason</td>\n      <td>Miller</td>\n      <td>42.0</td>\n      <td>m</td>\n      <td>4.0</td>\n      <td>25.0</td>\n    </tr>\n    <tr>\n      <th>2</th>\n      <td>Tina</td>\n      <td>Ali</td>\n      <td>36.0</td>\n      <td>f</td>\n      <td>NaN</td>\n      <td>NaN</td>\n    </tr>\n    <tr>\n      <th>3</th>\n      <td>Jake</td>\n      <td>Milner</td>\n      <td>24.0</td>\n      <td>m</td>\n      <td>2.0</td>\n      <td>62.0</td>\n    </tr>\n    <tr>\n      <th>4</th>\n      <td>Amy</td>\n      <td>Cooze</td>\n      <td>73.0</td>\n      <td>f</td>\n      <td>3.0</td>\n      <td>70.0</td>\n    </tr>\n  </tbody>\n</table>\n</div>"
     },
     "execution_count": 5,
     "metadata": {},
     "output_type": "execute_result"
    }
   ],
   "source": [
    "# thresh : 데이터의 개수를 기준으로 삭제\n",
    "df.dropna(axis=0, thresh=1)"
   ]
  },
  {
   "cell_type": "markdown",
   "metadata": {
    "pycharm": {
     "name": "#%% md\n"
    }
   },
   "source": [
    "### 결측치 처리하기 : 채우기\n",
    "- 채우기(fill) : 비어있는 값을 채움\n",
    "- 일반적으로  드롭한 후에 남은 값들을 채우기 처리\n",
    "- 평균, 최빈값 등 데이터의 분포를 고려해서 채움"
   ]
  },
  {
   "cell_type": "code",
   "execution_count": null,
   "metadata": {
    "pycharm": {
     "name": "#%%\n"
    }
   },
   "outputs": [
    {
     "data": {
      "text/plain": "  first_name last_name   age sex  preTestScore  postTestScore\n0      Jason    Miller  42.0   m           4.0           25.0\n1          0         0   0.0   0           0.0            0.0\n2       Tina       Ali  36.0   f           0.0            0.0\n3       Jake    Milner  24.0   m           2.0           62.0\n4        Amy     Cooze  73.0   f           3.0           70.0",
      "text/html": "<div>\n<style scoped>\n    .dataframe tbody tr th:only-of-type {\n        vertical-align: middle;\n    }\n\n    .dataframe tbody tr th {\n        vertical-align: top;\n    }\n\n    .dataframe thead th {\n        text-align: right;\n    }\n</style>\n<table border=\"1\" class=\"dataframe\">\n  <thead>\n    <tr style=\"text-align: right;\">\n      <th></th>\n      <th>first_name</th>\n      <th>last_name</th>\n      <th>age</th>\n      <th>sex</th>\n      <th>preTestScore</th>\n      <th>postTestScore</th>\n    </tr>\n  </thead>\n  <tbody>\n    <tr>\n      <th>0</th>\n      <td>Jason</td>\n      <td>Miller</td>\n      <td>42.0</td>\n      <td>m</td>\n      <td>4.0</td>\n      <td>25.0</td>\n    </tr>\n    <tr>\n      <th>1</th>\n      <td>0</td>\n      <td>0</td>\n      <td>0.0</td>\n      <td>0</td>\n      <td>0.0</td>\n      <td>0.0</td>\n    </tr>\n    <tr>\n      <th>2</th>\n      <td>Tina</td>\n      <td>Ali</td>\n      <td>36.0</td>\n      <td>f</td>\n      <td>0.0</td>\n      <td>0.0</td>\n    </tr>\n    <tr>\n      <th>3</th>\n      <td>Jake</td>\n      <td>Milner</td>\n      <td>24.0</td>\n      <td>m</td>\n      <td>2.0</td>\n      <td>62.0</td>\n    </tr>\n    <tr>\n      <th>4</th>\n      <td>Amy</td>\n      <td>Cooze</td>\n      <td>73.0</td>\n      <td>f</td>\n      <td>3.0</td>\n      <td>70.0</td>\n    </tr>\n  </tbody>\n</table>\n</div>"
     },
     "execution_count": 6,
     "metadata": {},
     "output_type": "execute_result"
    }
   ],
   "source": [
    "# fillna : 비어있는 값을 채움\n",
    "df.fillna(0)"
   ]
  },
  {
   "cell_type": "code",
   "execution_count": null,
   "metadata": {
    "pycharm": {
     "name": "#%%\n"
    }
   },
   "outputs": [
    {
     "data": {
      "text/plain": "  first_name last_name   age  sex  preTestScore  postTestScore\n0      Jason    Miller  42.0    m           4.0           25.0\n1        NaN       NaN   NaN  NaN           3.0            NaN\n2       Tina       Ali  36.0    f           3.0            NaN\n3       Jake    Milner  24.0    m           2.0           62.0\n4        Amy     Cooze  73.0    f           3.0           70.0",
      "text/html": "<div>\n<style scoped>\n    .dataframe tbody tr th:only-of-type {\n        vertical-align: middle;\n    }\n\n    .dataframe tbody tr th {\n        vertical-align: top;\n    }\n\n    .dataframe thead th {\n        text-align: right;\n    }\n</style>\n<table border=\"1\" class=\"dataframe\">\n  <thead>\n    <tr style=\"text-align: right;\">\n      <th></th>\n      <th>first_name</th>\n      <th>last_name</th>\n      <th>age</th>\n      <th>sex</th>\n      <th>preTestScore</th>\n      <th>postTestScore</th>\n    </tr>\n  </thead>\n  <tbody>\n    <tr>\n      <th>0</th>\n      <td>Jason</td>\n      <td>Miller</td>\n      <td>42.0</td>\n      <td>m</td>\n      <td>4.0</td>\n      <td>25.0</td>\n    </tr>\n    <tr>\n      <th>1</th>\n      <td>NaN</td>\n      <td>NaN</td>\n      <td>NaN</td>\n      <td>NaN</td>\n      <td>3.0</td>\n      <td>NaN</td>\n    </tr>\n    <tr>\n      <th>2</th>\n      <td>Tina</td>\n      <td>Ali</td>\n      <td>36.0</td>\n      <td>f</td>\n      <td>3.0</td>\n      <td>NaN</td>\n    </tr>\n    <tr>\n      <th>3</th>\n      <td>Jake</td>\n      <td>Milner</td>\n      <td>24.0</td>\n      <td>m</td>\n      <td>2.0</td>\n      <td>62.0</td>\n    </tr>\n    <tr>\n      <th>4</th>\n      <td>Amy</td>\n      <td>Cooze</td>\n      <td>73.0</td>\n      <td>f</td>\n      <td>3.0</td>\n      <td>70.0</td>\n    </tr>\n  </tbody>\n</table>\n</div>"
     },
     "execution_count": 7,
     "metadata": {},
     "output_type": "execute_result"
    }
   ],
   "source": [
    "# 열 단위 평균값을 계산해 해당 열에만 결측값에 채우는 방식\n",
    "df[\"preTestScore\"].fillna(df[\"preTestScore\"].mean(), inplace=True)\n",
    "df"
   ]
  },
  {
   "cell_type": "code",
   "execution_count": null,
   "metadata": {
    "pycharm": {
     "name": "#%%\n"
    }
   },
   "outputs": [
    {
     "data": {
      "text/plain": "0    43.5\n1     NaN\n2    70.0\n3    43.5\n4    70.0\nName: postTestScore, dtype: float64"
     },
     "execution_count": 8,
     "metadata": {},
     "output_type": "execute_result"
    }
   ],
   "source": [
    "# 성별에 따라 빈칸을 채우는 방식\n",
    "df.groupby(\"sex\")[\"postTestScore\"].transform(\"mean\")"
   ]
  },
  {
   "cell_type": "code",
   "execution_count": null,
   "metadata": {
    "pycharm": {
     "name": "#%%\n"
    }
   },
   "outputs": [
    {
     "data": {
      "text/plain": "  first_name last_name   age  sex  preTestScore  postTestScore\n0      Jason    Miller  42.0    m           4.0           25.0\n1        NaN       NaN   NaN  NaN           3.0            NaN\n2       Tina       Ali  36.0    f           3.0           70.0\n3       Jake    Milner  24.0    m           2.0           62.0\n4        Amy     Cooze  73.0    f           3.0           70.0",
      "text/html": "<div>\n<style scoped>\n    .dataframe tbody tr th:only-of-type {\n        vertical-align: middle;\n    }\n\n    .dataframe tbody tr th {\n        vertical-align: top;\n    }\n\n    .dataframe thead th {\n        text-align: right;\n    }\n</style>\n<table border=\"1\" class=\"dataframe\">\n  <thead>\n    <tr style=\"text-align: right;\">\n      <th></th>\n      <th>first_name</th>\n      <th>last_name</th>\n      <th>age</th>\n      <th>sex</th>\n      <th>preTestScore</th>\n      <th>postTestScore</th>\n    </tr>\n  </thead>\n  <tbody>\n    <tr>\n      <th>0</th>\n      <td>Jason</td>\n      <td>Miller</td>\n      <td>42.0</td>\n      <td>m</td>\n      <td>4.0</td>\n      <td>25.0</td>\n    </tr>\n    <tr>\n      <th>1</th>\n      <td>NaN</td>\n      <td>NaN</td>\n      <td>NaN</td>\n      <td>NaN</td>\n      <td>3.0</td>\n      <td>NaN</td>\n    </tr>\n    <tr>\n      <th>2</th>\n      <td>Tina</td>\n      <td>Ali</td>\n      <td>36.0</td>\n      <td>f</td>\n      <td>3.0</td>\n      <td>70.0</td>\n    </tr>\n    <tr>\n      <th>3</th>\n      <td>Jake</td>\n      <td>Milner</td>\n      <td>24.0</td>\n      <td>m</td>\n      <td>2.0</td>\n      <td>62.0</td>\n    </tr>\n    <tr>\n      <th>4</th>\n      <td>Amy</td>\n      <td>Cooze</td>\n      <td>73.0</td>\n      <td>f</td>\n      <td>3.0</td>\n      <td>70.0</td>\n    </tr>\n  </tbody>\n</table>\n</div>"
     },
     "execution_count": 9,
     "metadata": {},
     "output_type": "execute_result"
    }
   ],
   "source": [
    "df[\"postTestScore\"].fillna(\n",
    "    df.groupby(\"sex\")[\"postTestScore\"].transform(\"mean\"),\n",
    "    inplace=True)\n",
    "df"
   ]
  },
  {
   "cell_type": "markdown",
   "metadata": {
    "pycharm": {
     "name": "#%% md\n"
    }
   },
   "source": [
    "### 범주형 데이터 처리 : 원핫인코딩\n",
    "- 원핫인코딩(one-hot encoding) : 범주형 데이터의 개수만큼 가변수(dummy variable)를 생성하여 존재 유무를 1 또는 0으로 표현"
   ]
  },
  {
   "cell_type": "code",
   "execution_count": null,
   "metadata": {
    "pycharm": {
     "name": "#%%\n"
    }
   },
   "outputs": [
    {
     "data": {
      "text/plain": "   source  target  weight color\n0       0       2       3   red\n1       1       2       4  blue\n2       2       3       5  blue",
      "text/html": "<div>\n<style scoped>\n    .dataframe tbody tr th:only-of-type {\n        vertical-align: middle;\n    }\n\n    .dataframe tbody tr th {\n        vertical-align: top;\n    }\n\n    .dataframe thead th {\n        text-align: right;\n    }\n</style>\n<table border=\"1\" class=\"dataframe\">\n  <thead>\n    <tr style=\"text-align: right;\">\n      <th></th>\n      <th>source</th>\n      <th>target</th>\n      <th>weight</th>\n      <th>color</th>\n    </tr>\n  </thead>\n  <tbody>\n    <tr>\n      <th>0</th>\n      <td>0</td>\n      <td>2</td>\n      <td>3</td>\n      <td>red</td>\n    </tr>\n    <tr>\n      <th>1</th>\n      <td>1</td>\n      <td>2</td>\n      <td>4</td>\n      <td>blue</td>\n    </tr>\n    <tr>\n      <th>2</th>\n      <td>2</td>\n      <td>3</td>\n      <td>5</td>\n      <td>blue</td>\n    </tr>\n  </tbody>\n</table>\n</div>"
     },
     "execution_count": 10,
     "metadata": {},
     "output_type": "execute_result"
    }
   ],
   "source": [
    "edges = pd.DataFrame({'source': [0, 1, 2],\n",
    "                      'target': [2, 2, 3],\n",
    "                      'weight': [3, 4, 5],\n",
    "                      'color': ['red', 'blue', 'blue']})\n",
    "edges"
   ]
  },
  {
   "cell_type": "code",
   "execution_count": null,
   "metadata": {
    "pycharm": {
     "name": "#%%\n"
    }
   },
   "outputs": [
    {
     "data": {
      "text/plain": "source     int64\ntarget     int64\nweight     int64\ncolor     object\ndtype: object"
     },
     "execution_count": 11,
     "metadata": {},
     "output_type": "execute_result"
    }
   ],
   "source": [
    "edges.dtypes"
   ]
  },
  {
   "cell_type": "code",
   "execution_count": null,
   "metadata": {
    "pycharm": {
     "name": "#%%\n"
    }
   },
   "outputs": [
    {
     "data": {
      "text/plain": "   source  target  weight  color_blue  color_red\n0       0       2       3           0          1\n1       1       2       4           1          0\n2       2       3       5           1          0",
      "text/html": "<div>\n<style scoped>\n    .dataframe tbody tr th:only-of-type {\n        vertical-align: middle;\n    }\n\n    .dataframe tbody tr th {\n        vertical-align: top;\n    }\n\n    .dataframe thead th {\n        text-align: right;\n    }\n</style>\n<table border=\"1\" class=\"dataframe\">\n  <thead>\n    <tr style=\"text-align: right;\">\n      <th></th>\n      <th>source</th>\n      <th>target</th>\n      <th>weight</th>\n      <th>color_blue</th>\n      <th>color_red</th>\n    </tr>\n  </thead>\n  <tbody>\n    <tr>\n      <th>0</th>\n      <td>0</td>\n      <td>2</td>\n      <td>3</td>\n      <td>0</td>\n      <td>1</td>\n    </tr>\n    <tr>\n      <th>1</th>\n      <td>1</td>\n      <td>2</td>\n      <td>4</td>\n      <td>1</td>\n      <td>0</td>\n    </tr>\n    <tr>\n      <th>2</th>\n      <td>2</td>\n      <td>3</td>\n      <td>5</td>\n      <td>1</td>\n      <td>0</td>\n    </tr>\n  </tbody>\n</table>\n</div>"
     },
     "execution_count": 12,
     "metadata": {},
     "output_type": "execute_result"
    }
   ],
   "source": [
    "# get_dummies를 이용해 범주형 데이트 color에 가변수 추가\n",
    "pd.get_dummies(edges)"
   ]
  },
  {
   "cell_type": "code",
   "execution_count": null,
   "metadata": {
    "pycharm": {
     "name": "#%%\n"
    }
   },
   "outputs": [
    {
     "data": {
      "text/plain": "   blue  red\n0     0    1\n1     1    0\n2     1    0",
      "text/html": "<div>\n<style scoped>\n    .dataframe tbody tr th:only-of-type {\n        vertical-align: middle;\n    }\n\n    .dataframe tbody tr th {\n        vertical-align: top;\n    }\n\n    .dataframe thead th {\n        text-align: right;\n    }\n</style>\n<table border=\"1\" class=\"dataframe\">\n  <thead>\n    <tr style=\"text-align: right;\">\n      <th></th>\n      <th>blue</th>\n      <th>red</th>\n    </tr>\n  </thead>\n  <tbody>\n    <tr>\n      <th>0</th>\n      <td>0</td>\n      <td>1</td>\n    </tr>\n    <tr>\n      <th>1</th>\n      <td>1</td>\n      <td>0</td>\n    </tr>\n    <tr>\n      <th>2</th>\n      <td>1</td>\n      <td>0</td>\n    </tr>\n  </tbody>\n</table>\n</div>"
     },
     "execution_count": 13,
     "metadata": {},
     "output_type": "execute_result"
    }
   ],
   "source": [
    "pd.get_dummies(edges[\"color\"])"
   ]
  },
  {
   "cell_type": "code",
   "execution_count": null,
   "metadata": {
    "pycharm": {
     "name": "#%%\n"
    }
   },
   "outputs": [
    {
     "data": {
      "text/plain": "   color_blue  color_red\n0           0          1\n1           1          0\n2           1          0",
      "text/html": "<div>\n<style scoped>\n    .dataframe tbody tr th:only-of-type {\n        vertical-align: middle;\n    }\n\n    .dataframe tbody tr th {\n        vertical-align: top;\n    }\n\n    .dataframe thead th {\n        text-align: right;\n    }\n</style>\n<table border=\"1\" class=\"dataframe\">\n  <thead>\n    <tr style=\"text-align: right;\">\n      <th></th>\n      <th>color_blue</th>\n      <th>color_red</th>\n    </tr>\n  </thead>\n  <tbody>\n    <tr>\n      <th>0</th>\n      <td>0</td>\n      <td>1</td>\n    </tr>\n    <tr>\n      <th>1</th>\n      <td>1</td>\n      <td>0</td>\n    </tr>\n    <tr>\n      <th>2</th>\n      <td>1</td>\n      <td>0</td>\n    </tr>\n  </tbody>\n</table>\n</div>"
     },
     "execution_count": 14,
     "metadata": {},
     "output_type": "execute_result"
    }
   ],
   "source": [
    "pd.get_dummies(edges[[\"color\"]])"
   ]
  },
  {
   "cell_type": "markdown",
   "metadata": {
    "pycharm": {
     "name": "#%% md\n"
    }
   },
   "source": [
    "- 필요에 따라 정수형을 객체로 변경해서 처리"
   ]
  },
  {
   "cell_type": "code",
   "execution_count": null,
   "metadata": {
    "pycharm": {
     "name": "#%%\n"
    }
   },
   "outputs": [
    {
     "data": {
      "text/plain": "   L  M  XL\n0  0  1   0\n1  1  0   0\n2  0  0   1",
      "text/html": "<div>\n<style scoped>\n    .dataframe tbody tr th:only-of-type {\n        vertical-align: middle;\n    }\n\n    .dataframe tbody tr th {\n        vertical-align: top;\n    }\n\n    .dataframe thead th {\n        text-align: right;\n    }\n</style>\n<table border=\"1\" class=\"dataframe\">\n  <thead>\n    <tr style=\"text-align: right;\">\n      <th></th>\n      <th>L</th>\n      <th>M</th>\n      <th>XL</th>\n    </tr>\n  </thead>\n  <tbody>\n    <tr>\n      <th>0</th>\n      <td>0</td>\n      <td>1</td>\n      <td>0</td>\n    </tr>\n    <tr>\n      <th>1</th>\n      <td>1</td>\n      <td>0</td>\n      <td>0</td>\n    </tr>\n    <tr>\n      <th>2</th>\n      <td>0</td>\n      <td>0</td>\n      <td>1</td>\n    </tr>\n  </tbody>\n</table>\n</div>"
     },
     "execution_count": 15,
     "metadata": {},
     "output_type": "execute_result"
    }
   ],
   "source": [
    "weight_dict = {3: \"M\", 4: \"L\", 5: \"XL\"}\n",
    "edges[\"weight_sign\"] = edges[\"weight\"].map(weight_dict)\n",
    "weight_sign = pd.get_dummies(edges[\"weight_sign\"])\n",
    "weight_sign"
   ]
  },
  {
   "cell_type": "code",
   "execution_count": null,
   "metadata": {
    "pycharm": {
     "name": "#%%\n"
    }
   },
   "outputs": [
    {
     "data": {
      "text/plain": "   source  target  weight color weight_sign  L  M  XL\n0       0       2       3   red           M  0  1   0\n1       1       2       4  blue           L  1  0   0\n2       2       3       5  blue          XL  0  0   1",
      "text/html": "<div>\n<style scoped>\n    .dataframe tbody tr th:only-of-type {\n        vertical-align: middle;\n    }\n\n    .dataframe tbody tr th {\n        vertical-align: top;\n    }\n\n    .dataframe thead th {\n        text-align: right;\n    }\n</style>\n<table border=\"1\" class=\"dataframe\">\n  <thead>\n    <tr style=\"text-align: right;\">\n      <th></th>\n      <th>source</th>\n      <th>target</th>\n      <th>weight</th>\n      <th>color</th>\n      <th>weight_sign</th>\n      <th>L</th>\n      <th>M</th>\n      <th>XL</th>\n    </tr>\n  </thead>\n  <tbody>\n    <tr>\n      <th>0</th>\n      <td>0</td>\n      <td>2</td>\n      <td>3</td>\n      <td>red</td>\n      <td>M</td>\n      <td>0</td>\n      <td>1</td>\n      <td>0</td>\n    </tr>\n    <tr>\n      <th>1</th>\n      <td>1</td>\n      <td>2</td>\n      <td>4</td>\n      <td>blue</td>\n      <td>L</td>\n      <td>1</td>\n      <td>0</td>\n      <td>0</td>\n    </tr>\n    <tr>\n      <th>2</th>\n      <td>2</td>\n      <td>3</td>\n      <td>5</td>\n      <td>blue</td>\n      <td>XL</td>\n      <td>0</td>\n      <td>0</td>\n      <td>1</td>\n    </tr>\n  </tbody>\n</table>\n</div>"
     },
     "execution_count": 16,
     "metadata": {},
     "output_type": "execute_result"
    }
   ],
   "source": [
    "pd.concat([edges, weight_sign], axis=1)"
   ]
  },
  {
   "cell_type": "markdown",
   "metadata": {
    "pycharm": {
     "name": "#%% md\n"
    }
   },
   "source": [
    "### 범주형 데이터로 변환 : 바인딩\n",
    "- 바인딩(binding) : 연속형 데이터를 범주형 데이터로 변환"
   ]
  },
  {
   "cell_type": "code",
   "execution_count": null,
   "metadata": {
    "pycharm": {
     "name": "#%%\n"
    }
   },
   "outputs": [
    {
     "data": {
      "text/plain": "      regiment company      name  preTestScore  postTestScore\n0   Nighthawks     1st    Miller             4             25\n1   Nighthawks     1st  Jacobson            24             94\n2   Nighthawks     2nd       Ali            31             57\n3   Nighthawks     2nd    Milner             2             62\n4     Dragoons     1st     Cooze             3             70\n5     Dragoons     1st     Jacon             4             25\n6     Dragoons     2nd    Ryaner            24             94\n7     Dragoons     2nd      Sone            31             57\n8       Scouts     1st     Sloan             2             62\n9       Scouts     1st     Piger             3             70\n10      Scouts     2nd     Riani             2             62\n11      Scouts     2nd       Ali             3             70",
      "text/html": "<div>\n<style scoped>\n    .dataframe tbody tr th:only-of-type {\n        vertical-align: middle;\n    }\n\n    .dataframe tbody tr th {\n        vertical-align: top;\n    }\n\n    .dataframe thead th {\n        text-align: right;\n    }\n</style>\n<table border=\"1\" class=\"dataframe\">\n  <thead>\n    <tr style=\"text-align: right;\">\n      <th></th>\n      <th>regiment</th>\n      <th>company</th>\n      <th>name</th>\n      <th>preTestScore</th>\n      <th>postTestScore</th>\n    </tr>\n  </thead>\n  <tbody>\n    <tr>\n      <th>0</th>\n      <td>Nighthawks</td>\n      <td>1st</td>\n      <td>Miller</td>\n      <td>4</td>\n      <td>25</td>\n    </tr>\n    <tr>\n      <th>1</th>\n      <td>Nighthawks</td>\n      <td>1st</td>\n      <td>Jacobson</td>\n      <td>24</td>\n      <td>94</td>\n    </tr>\n    <tr>\n      <th>2</th>\n      <td>Nighthawks</td>\n      <td>2nd</td>\n      <td>Ali</td>\n      <td>31</td>\n      <td>57</td>\n    </tr>\n    <tr>\n      <th>3</th>\n      <td>Nighthawks</td>\n      <td>2nd</td>\n      <td>Milner</td>\n      <td>2</td>\n      <td>62</td>\n    </tr>\n    <tr>\n      <th>4</th>\n      <td>Dragoons</td>\n      <td>1st</td>\n      <td>Cooze</td>\n      <td>3</td>\n      <td>70</td>\n    </tr>\n    <tr>\n      <th>5</th>\n      <td>Dragoons</td>\n      <td>1st</td>\n      <td>Jacon</td>\n      <td>4</td>\n      <td>25</td>\n    </tr>\n    <tr>\n      <th>6</th>\n      <td>Dragoons</td>\n      <td>2nd</td>\n      <td>Ryaner</td>\n      <td>24</td>\n      <td>94</td>\n    </tr>\n    <tr>\n      <th>7</th>\n      <td>Dragoons</td>\n      <td>2nd</td>\n      <td>Sone</td>\n      <td>31</td>\n      <td>57</td>\n    </tr>\n    <tr>\n      <th>8</th>\n      <td>Scouts</td>\n      <td>1st</td>\n      <td>Sloan</td>\n      <td>2</td>\n      <td>62</td>\n    </tr>\n    <tr>\n      <th>9</th>\n      <td>Scouts</td>\n      <td>1st</td>\n      <td>Piger</td>\n      <td>3</td>\n      <td>70</td>\n    </tr>\n    <tr>\n      <th>10</th>\n      <td>Scouts</td>\n      <td>2nd</td>\n      <td>Riani</td>\n      <td>2</td>\n      <td>62</td>\n    </tr>\n    <tr>\n      <th>11</th>\n      <td>Scouts</td>\n      <td>2nd</td>\n      <td>Ali</td>\n      <td>3</td>\n      <td>70</td>\n    </tr>\n  </tbody>\n</table>\n</div>"
     },
     "execution_count": 17,
     "metadata": {},
     "output_type": "execute_result"
    }
   ],
   "source": [
    "raw_data = {\n",
    "    'regiment': ['Nighthawks', 'Nighthawks', 'Nighthawks', 'Nighthawks',\n",
    "                 'Dragoons', 'Dragoons', 'Dragoons', 'Dragoons',\n",
    "                 'Scouts', 'Scouts', 'Scouts', 'Scouts'],\n",
    "    'company': ['1st', '1st', '2nd', '2nd',\n",
    "                '1st', '1st', '2nd', '2nd',\n",
    "                '1st', '1st', '2nd', '2nd'],\n",
    "    'name': ['Miller', 'Jacobson', 'Ali', 'Milner',\n",
    "             'Cooze', 'Jacon', 'Ryaner', 'Sone',\n",
    "             'Sloan', 'Piger', 'Riani', 'Ali'],\n",
    "    'preTestScore': [4, 24, 31, 2, 3, 4, 24, 31, 2, 3, 2, 3],\n",
    "    'postTestScore': [25, 94, 57, 62, 70, 25, 94, 57, 62, 70, 62, 70]}\n",
    "\n",
    "df = pd.DataFrame(raw_data, columns=[\n",
    "    'regiment', 'company', 'name', 'preTestScore', 'postTestScore'])\n",
    "df"
   ]
  },
  {
   "cell_type": "code",
   "execution_count": null,
   "metadata": {
    "pycharm": {
     "name": "#%%\n"
    }
   },
   "outputs": [
    {
     "data": {
      "text/plain": "0       Low\n1     Great\n2      Good\n3      Good\n4      Good\n5       Low\n6     Great\n7      Good\n8      Good\n9      Good\n10     Good\n11     Good\nName: postTestScore, dtype: category\nCategories (4, object): ['Low' < 'Okay' < 'Good' < 'Great']"
     },
     "execution_count": 18,
     "metadata": {},
     "output_type": "execute_result"
    }
   ],
   "source": [
    "# postTestScore에 대한 학점을 측정하는 코드를 작성\n",
    "bins = [0, 25, 50, 75, 100]  # bins 정의(0-25, 25-50, 60-75, 75-100)\n",
    "group_names = ['Low', 'Okay', 'Good', 'Great']\n",
    "\n",
    "# cut : 나눌 시리즈 객체와 구간, 구간의 이름을 넣어주면 해당 값을 바인딩하여 표시해줌\n",
    "categories = pd.cut(df['postTestScore'], bins, labels=group_names)\n",
    "categories"
   ]
  },
  {
   "cell_type": "markdown",
   "metadata": {
    "pycharm": {
     "name": "#%% md\n"
    }
   },
   "source": [
    "### 피쳐 스케일링\n",
    "- 스케일링(scaling) : 데이터 간 범위를 맞춤\n",
    "- 최솟값-최댓값 정규화(min-max normalization) : 최솟값과 최댓값을 기준으로 0에서 1, 또는 0에서 지정 값까지로 값의 크기를 변화시킴\n",
    "  - $z_i=\\frac{x_i-min(x)}{max(x)-min(x)}(new_{max}-new_{min})+new_{min}$\n",
    "  - $x$는 처리하고자하는 열, $x_i$는 열 하나의 값\n",
    "  - $max(x)$는 해당 열의 최댓값, $min(x)$는 해당 열의 최솟값\n",
    "  - $new_{max}$와 $new_{min}$은 새롭게 지정되는 값의 최댓값 또는 최솟값\n",
    "- z-스코어 정규화(z-score normalization) : 기존 값을 표준 정규분포값으로 변환하여 처리\n",
    "  - $z=\\frac{x_i-\\mu}{\\sigma}$\n",
    "  - μ는 $x$열의 평균값이고 σ는 표준편차"
   ]
  },
  {
   "cell_type": "code",
   "execution_count": null,
   "metadata": {
    "pycharm": {
     "name": "#%%\n"
    }
   },
   "outputs": [
    {
     "data": {
      "text/plain": "       A       B      C\n0  14.00  103.02    big\n1  90.20  107.26  small\n2  90.95  110.35    big\n3  96.27  114.23  small\n4  91.21  114.68  small",
      "text/html": "<div>\n<style scoped>\n    .dataframe tbody tr th:only-of-type {\n        vertical-align: middle;\n    }\n\n    .dataframe tbody tr th {\n        vertical-align: top;\n    }\n\n    .dataframe thead th {\n        text-align: right;\n    }\n</style>\n<table border=\"1\" class=\"dataframe\">\n  <thead>\n    <tr style=\"text-align: right;\">\n      <th></th>\n      <th>A</th>\n      <th>B</th>\n      <th>C</th>\n    </tr>\n  </thead>\n  <tbody>\n    <tr>\n      <th>0</th>\n      <td>14.00</td>\n      <td>103.02</td>\n      <td>big</td>\n    </tr>\n    <tr>\n      <th>1</th>\n      <td>90.20</td>\n      <td>107.26</td>\n      <td>small</td>\n    </tr>\n    <tr>\n      <th>2</th>\n      <td>90.95</td>\n      <td>110.35</td>\n      <td>big</td>\n    </tr>\n    <tr>\n      <th>3</th>\n      <td>96.27</td>\n      <td>114.23</td>\n      <td>small</td>\n    </tr>\n    <tr>\n      <th>4</th>\n      <td>91.21</td>\n      <td>114.68</td>\n      <td>small</td>\n    </tr>\n  </tbody>\n</table>\n</div>"
     },
     "execution_count": 19,
     "metadata": {},
     "output_type": "execute_result"
    }
   ],
   "source": [
    "df = pd.DataFrame(\n",
    "    {'A': [14.00, 90.20, 90.95, 96.27, 91.21],\n",
    "     'B': [103.02, 107.26, 110.35, 114.23, 114.68],\n",
    "     'C': ['big', 'small', 'big', 'small', 'small']})\n",
    "\n",
    "df"
   ]
  },
  {
   "cell_type": "code",
   "execution_count": null,
   "metadata": {
    "pycharm": {
     "name": "#%%\n"
    }
   },
   "outputs": [
    {
     "data": {
      "text/plain": "0     0.00\n1    76.20\n2    76.95\n3    82.27\n4    77.21\nName: A, dtype: float64"
     },
     "execution_count": 20,
     "metadata": {},
     "output_type": "execute_result"
    }
   ],
   "source": [
    "# 스케일링은 브로드캐스팅 개념으로 스칼라 값(평균값, 최댓값, 최솟값)과 벡터(열) 값 간 연산\n",
    "df[\"A\"] - df[\"A\"].min()"
   ]
  },
  {
   "cell_type": "code",
   "execution_count": null,
   "metadata": {
    "pycharm": {
     "name": "#%%\n"
    }
   },
   "outputs": [
    {
     "data": {
      "text/plain": "0    0.000000\n1    0.926219\n2    0.935335\n3    1.000000\n4    0.938495\nName: A, dtype: float64"
     },
     "execution_count": 21,
     "metadata": {},
     "output_type": "execute_result"
    }
   ],
   "source": [
    "# 최솟값-최댓값 정규화 방법에서 최댓값과 최솟값을 따로 구하지 않고 코드로 수식을 나타낼 수 있음\n",
    "(df[\"A\"] - df[\"A\"].min()) / (df[\"A\"].max() - df[\"A\"].min())"
   ]
  },
  {
   "cell_type": "code",
   "execution_count": null,
   "metadata": {
    "pycharm": {
     "name": "#%%\n"
    }
   },
   "outputs": [
    {
     "data": {
      "text/plain": "0   -1.405250\n1   -0.540230\n2    0.090174\n3    0.881749\n4    0.973556\nName: B, dtype: float64"
     },
     "execution_count": 22,
     "metadata": {},
     "output_type": "execute_result"
    }
   ],
   "source": [
    "# z-스코어 정규화 수식 역시 코드로 나타낼 수 있음\n",
    "(df[\"B\"] - df[\"B\"].mean()) / (df[\"B\"].std())"
   ]
  },
  {
   "cell_type": "markdown",
   "metadata": {
    "pycharm": {
     "name": "#%% md\n"
    }
   },
   "source": [
    "## 머신러닝 프로세스와 데이터 전처리\n",
    "\n",
    "1. 데이터를 확보한 후 데이터를 정제 및 전처리\n",
    "2. 학습용과 테스트 데이터를 나눠 학습용 데이터로 학습을 실시\n",
    "3. 학습 결과를 평가 지표와 비교하여 하이퍼 매개변수 변환\n",
    "4. 최종적인 모델 생성하여 테스트 데이터셋으로 성능을 측정\n",
    "5. 모델을 시스템에 배치하여 모델을 작동시킴"
   ]
  },
  {
   "cell_type": "markdown",
   "id": "a0e9cc1f",
   "metadata": {
    "pycharm": {
     "name": "#%% md\n"
    }
   },
   "source": [
    "## 타이타닉 데이터 과학 솔루션\n",
    "Kaggle과 같은 사이트에서 데이터 과학 대회를 해결하기 위한 일반적인 진행 단계\n",
    "\n",
    "\n",
    "### 캐글 진행 단계(머신 러닝을 진행하는 단계)\n",
    "대회의 Workflow는 7단계로 구성되어있다.  \n",
    "1. 문제 정의  \n",
    "2. 훈련, 테스트 데이터 획득  \n",
    "3. 데이터 전처리(Wrangle, prepare, cleanse the data)  \n",
    "4. 데이터 분석(Analyze, identify patterns, and explore the data)  \n",
    "5. 문제 모델링 & 문제 예측 및 해결  \n",
    "6. 시각화 및 문제 해결 단계와 최종 해결책을 보고하고 제시  \n",
    "7. 결과 제출  \n",
    "\n",
    "이 순서를 기본으로 진행하지만, 아래와 같은 예외 사례가 있음\n",
    "1. 다중 Workflow 단계를 결합해 데이터 시각화를 통해 분석할 수 있음\n",
    "2. 순서가 바뀔 수 있습니다. 데이터 전처리 전후로 데이터 분석 진행할 수 있음\n",
    "3. 일부 과정이 중복되며, 시각화 단계를 여러 번 수행할 수 있음\n",
    "4. 대회에서 데이터를 제품화하거나 서비스하기 위해 공급 단계가 필요하지 않을 수 있음 (생략 가능)\n",
    "\n",
    "\n",
    "### Workflow 핵심 목표\n",
    "아래와 같은 7가지 목표 안에서 Workflow가 진행\n",
    "- Classifying(분류) : 샘플을 분류하고, 다양한 계층이 해결에 미치는 영향이나 상관관계를 이해하기 위해 사용\n",
    "- Correlating(상관관계) : 각 특성의 상관 관계를 추측하거나 검증하는 경우가 있기 때문에 알아야 함\n",
    "- Converting(변환) : 모델링 단계를 위해 일부 데이터는 범주형을 수치형으로 바꾸는 등 모델 알고리즘에 따라 변환해야할 수 있음\n",
    "- Completing(완성) : 결측값이 없어야 모델 알고리즘이 잘 작동하기 때문에, 데이터 준비를 위해 결측값이 있는지 확인 \n",
    "- Correcting(수정) : 데이터도 경우에 따라 오류가 있거나 노이즈가 섞일 가능성이 있다. 이런 경우 일부는 직접 수정해야 하는 경우도 있음\n",
    "- Creating(만들기) : 기존 특성을 통해 새로운 특성을 만들 수도 있음\n",
    "- Charting(차트) : 그래프와 차트와 같은 시각화를 통해 결과를 위한 과정을 더 직관적으로 볼 수 있으며, 필요한 작업을 알 수 있음\n",
    "\n",
    "## 문제 정의\n",
    "__승객 데이터(이름, 나이, 성별, 사회경제적 계층 등)로 를 이용한 머신러닝을 통해__  \n",
    "__\"타이타닉 사고에서 어떤 부류의 사람이 살아남을 가능성이 더 높은가\"의 예측 모델을 만들기__ \n",
    ">  1912년 4월 15일, 그녀의 처녀 항해를 나선 널리 타이타닉호는 빙산과 충돌한 후 가라앉았습니다.  \n",
    "구명보트가 탑승한 모든 사람을 태울 만큼 충분하지 않았고, 이로 인해 승객과 승무원 2224명 중 1502명이 사망했다.  \n",
    "기적적으로 살아남은 사람들이 있는 반면, '어떤 그룹'의 사람들은 다른 사람들보다 더 살아남을 가능성이 높았다.\n",
    "\n",
    "### 솔루션에서 제시한 문제 핵심\n",
    "- 1912년 4월 15일 처녀 항해를 나선 타이타닉은 빙산과 충돌해 가라앉았고, 승객과 승무원 2224명 중 1052명이 사망해 32% 생존율을 보임\n",
    "- 구명보트가 탑승한 모든 사람을 태울 만큼 충분하지 않았고, 이는 수많은 인명피해를 초래함\n",
    "- 기적적으로 살아남는 사람들이 있는 반면, 여성/어린이/상류충과 같은 몇몇 사람들은 다른 사람들보다 살아남을 가능성이 더 높음  \n",
    "    - 영화 '타이타닉'에서는 여성과 아이들을 중심으로 구조보트에 태우는 장면이 있음\n",
    "\n",
    "문제 정의에 따라 분류, 회귀 등의 목적을 알 수 있기 때문에 __필요한 라이브러리를 미리 호출__"
   ]
  },
  {
   "cell_type": "code",
   "execution_count": null,
   "id": "d2a23ee0",
   "metadata": {
    "pycharm": {
     "name": "#%%\n"
    }
   },
   "outputs": [
    {
     "name": "stderr",
     "output_type": "stream",
     "text": [
      "UsageError: Line magic function `%` not found.\n"
     ]
    }
   ],
   "source": [
    "# machine learning : 머신러닝을 위한 라이브러리\n",
    "from sklearn.tree import DecisionTreeClassifier\n",
    "from sklearn.linear_model import SGDClassifier\n",
    "from sklearn.linear_model import Perceptron\n",
    "from sklearn.naive_bayes import GaussianNB\n",
    "from sklearn.neighbors import KNeighborsClassifier\n",
    "from sklearn.ensemble import RandomForestClassifier\n",
    "from sklearn.svm import SVC, LinearSVC\n",
    "from sklearn.linear_model import LogisticRegression\n",
    "\n",
    "# data analysis and wrangling : 데이터 분석 및 전처리를 위한 라이브러리\n",
    "import pandas as pd\n",
    "import numpy as np\n",
    "import random as rnd\n",
    "\n",
    "# visualization : 데이터 시각화를 위한 라이브러리\n",
    "import seaborn as sns\n",
    "import matplotlib.pyplot as plt\n",
    "% matplotlib inline"
   ]
  },
  {
   "cell_type": "markdown",
   "id": "ee9a046f",
   "metadata": {
    "pycharm": {
     "name": "#%% md\n"
    }
   },
   "source": [
    "### 훈련, 테스트 데이터 획득\n",
    "데이터의 경우 Python의 Pandas 패키지를 사용하는 것이 좋음\n",
    "훈련과 테스트 데이터의 경우 전처리 과정이 필요한 경우가 있기 때문에 미리 묶어서 관리할 수 있음"
   ]
  },
  {
   "cell_type": "code",
   "execution_count": null,
   "id": "4b24f30c",
   "metadata": {
    "pycharm": {
     "name": "#%%\n"
    }
   },
   "outputs": [],
   "source": [
    "# train과 test는 똑같이 전처리 하기 때문에 하나로 묶어서 반복문을 통해 처리 하는 것이 유용\n",
    "train_df = pd.read_csv('../Data/titanic/train.csv')\n",
    "test_df = pd.read_csv('../Data/titanic/test.csv')\n",
    "combine = [train_df, test_df]"
   ]
  },
  {
   "cell_type": "markdown",
   "id": "c8662c56",
   "metadata": {
    "pycharm": {
     "name": "#%% md\n"
    }
   },
   "source": [
    "### 데이터 분석 : 기본 데이터"
   ]
  },
  {
   "cell_type": "code",
   "execution_count": null,
   "id": "0af7e3a3",
   "metadata": {
    "pycharm": {
     "name": "#%%\n"
    }
   },
   "outputs": [],
   "source": [
    "# 여러 특성들을 확인, 12가지 특성이 있음\n",
    "print(train_df.columns.values)"
   ]
  },
  {
   "cell_type": "markdown",
   "id": "dfc9e499",
   "metadata": {
    "pycharm": {
     "name": "#%% md\n"
    }
   },
   "source": [
    "__범주형 데이터 : 몇 개의 범주로 나누어진 데이터__\n",
    "- 명목형 : 성별, 혈액형, 등 단순한 분류 (Survived, Sex, Embarked(승선장))\n",
    "- 순서형 : 개개의 값들은 이산적이며 순서 관계가 존재하는 자료 (Pclass(좌석 등급))\n",
    " \n",
    "__수치형 데이터 : 연속적인 값을 가지는 데이터로 숫자로 표시__\n",
    "- 이산형 : 이산적인 값을 갖는 데이터 (SibSp(형제자매 또는 배우자), Parch(부모님) / 한 명, 두 명, 세 명)\n",
    "- 연속형 : 연속적인 값을 갖는 데이터 (Age, Fare(티켓 가격) / 나이 또는 키)\n",
    "\n",
    "__혼합형 데이터 : 숫자, 알파벳 등으로 이뤄진 데이터__\n",
    "- 특성을 찾기 어려우며, 수정을 통해 원하는 정보를 얻어야 한다. (Ticket, Cabin)"
   ]
  },
  {
   "cell_type": "code",
   "execution_count": null,
   "id": "ea230cad",
   "metadata": {
    "scrolled": false,
    "pycharm": {
     "name": "#%%\n"
    }
   },
   "outputs": [],
   "source": [
    "# preview the data\n",
    "train_df.head()"
   ]
  },
  {
   "cell_type": "markdown",
   "id": "b19f979c",
   "metadata": {
    "pycharm": {
     "name": "#%% md\n"
    }
   },
   "source": [
    "__문자열로 이루어진 데이터__\n",
    "매우 큰 데이터에서는 오타와 같이 사소한 정보는 발견하지 못할 수 있으나, 비교적 작은 데이터에서는 처리가 가능 (Name 등)\n",
    "\n",
    "__데이터 공백, Null, 빈 값__\n",
    "반드시 해결해야하는 부분으로, 머신러닝에 있어서 큰 오차가 생길 수 있어 정보를 점검해 찾아야 함  \n",
    "빈 값에 대한 추측은 다양할 수 있으며, 수치의 경우 최솟값, 중앙값, 평균 등으로 채우거나 범주의 경우 최빈값으로 채울 수 있음\n",
    "\n",
    "__데이터가 들어오는 형태__\n",
    "범주형 데이터도 수치로 들어올 수 있고, 머신러닝 함수들에 입력하기 전에 더 좋은 형태로 전처리를 통해 바꿔야하기 때문에 중요한 요소\n",
    ">7개의 integer of float  \n",
    "5개의 string (object)  "
   ]
  },
  {
   "cell_type": "code",
   "execution_count": null,
   "id": "e80d4322",
   "metadata": {
    "scrolled": true,
    "pycharm": {
     "name": "#%%\n"
    }
   },
   "outputs": [],
   "source": [
    "train_df.tail()\n",
    "train_df.info()  # info를 통해 데이터의 특성 확인\n",
    "print('_' * 40)\n",
    "test_df.info()\n",
    "\n",
    "# RangeIndex: 891 entries, 0 to 890 : 전체 데이터수 891개 (0 ~ 890)"
   ]
  },
  {
   "cell_type": "markdown",
   "id": "a11828b5",
   "metadata": {
    "pycharm": {
     "name": "#%% md\n"
    }
   },
   "source": [
    "__수치형 데이터 분포 : 분포를 살펴보는 것은 데이터에 대한 이해를 높임__\n",
    "- 데이터에 대한 분포를 살피는 것은 데이터에 대한 이해를 높일 수 있음\n",
    "- 891의 샘플은 총 인원의 40%\n",
    "- Survived는 0과 1로 이루어진 범주형 데이터\n",
    "- 대부분의 승객은 부모 또는 자식과 함께 타지 않음\n",
    "- 30%의 승객은 형제자매, 배우자와 함께 탑승\n",
    "- 요금(Fares)의 경우, 매우 적은 수의 승객이 512$보다 많이 지불\n",
    "- 나이가 많은 승객(65~80)의 수는 1% 미만"
   ]
  },
  {
   "cell_type": "code",
   "execution_count": null,
   "id": "ea2b7213",
   "metadata": {
    "pycharm": {
     "name": "#%%\n"
    }
   },
   "outputs": [],
   "source": [
    "train_df.describe()\n",
    "# Review survived rate using `percentiles=[.61, .62]` knowing our problem description mentions 38% survival rate.\n",
    "# Review Parch distribution using `percentiles=[.75, .8]`\n",
    "# SibSp distribution `[.68, .69]`\n",
    "# Age and Fare `[.1, .2, .3, .4, .5, .6, .7, .8, .9, .99]`"
   ]
  },
  {
   "cell_type": "markdown",
   "id": "2d6a6a58",
   "metadata": {
    "pycharm": {
     "name": "#%% md\n"
    }
   },
   "source": [
    "__범주형 데이터의 분포__\n",
    ".describe() 메서드를 통해 데이터에 대한 통계를 살피거나, 매개변수 세팅을 통해 범주형 데이터도 분석할 수 있음\n",
    "- Name 값은 모두 다름\n",
    "- Sex 값은 577/891로 약 65%를 차지\n",
    "- Cabin 값은 양도 적고 중복이 많은 것으로 보아, 일부 손님들이 호실을 공유한 것으로 보임\n",
    "- Ticket값은 681개가 unique인 것은 중복이 있다는 의미\n",
    "- Embarked(승선)값은 총 3개의 종류가 있고, S가 제일 많음"
   ]
  },
  {
   "cell_type": "code",
   "execution_count": null,
   "id": "31ea2712",
   "metadata": {
    "pycharm": {
     "name": "#%%\n"
    }
   },
   "outputs": [],
   "source": [
    "train_df.describe(include=['O'])  # include=['O'] : Object형의 Dtype를 읽는다."
   ]
  },
  {
   "cell_type": "markdown",
   "id": "1853a616",
   "metadata": {
    "pycharm": {
     "name": "#%% md\n"
    }
   },
   "source": [
    "### 데이터 분석에 기반한 가정\n",
    "지금까지의 데이터 분석을 바탕으로 다음과 같은 가정을 할 수 있음\n",
    "\n",
    "__Correlating__\n",
    "1. 각 특성이 생존 여부에 미치는 영향을 확인\n",
    "2. 초안과 모델링된 상관관계가 일치하는지 확인\n",
    "\n",
    "__Completing__\n",
    "1. Age는 분명 생존 여부와 관련한 특성이기 때문에 채워야 함\n",
    "2. Embarked도 생존 여부와 관계 있다고 보고, 다른 특성과 연관 있기 때문에 채워 넣음\n",
    "\n",
    "__Correcting__\n",
    "1. Ticket의 경우 22%나 중복되었고, 생존여부와 관계 없을 수 있으므로 특성에서 제거\n",
    "2. Cabin은 Null값이 많기 때문에 제외\n",
    "3. PassengerId는 훈련 데이터에서는 생존 여부와 관계없으니 제거\n",
    "4. Name은 형식이 다양하고, 생존 여부와 직결된 관계가 없으니 제거\n",
    "\n",
    "__Creating__\n",
    "1. Family라는 특성을 Parch와 SibSp 값을 합쳐 만듦\n",
    "2. name 특성을 수정해 Title(Mr, Mrs)이라는 특성을 만듦\n",
    "3. Age 특성을 수치형-연속형 데이터에서 Age bands, 즉 나이대라는 범주형 데이터 만듦\n",
    "4. Fare 범위로 새로운 특성을 만들어 분석\n",
    "\n",
    "__Classifying__\n",
    "이전에 서술된 내용들을 통해 다음과 같은 가정을 추가할 수 있음\n",
    "1. Women (Sex=female)이 더 많이 생존\n",
    "2. Children (Age<?)이 더 많이 생존\n",
    "3. The upper-class의 1등석(Pclass=1) 탄 승객이 더 많이 생존"
   ]
  },
  {
   "cell_type": "markdown",
   "id": "d5fce7d1",
   "metadata": {
    "pycharm": {
     "name": "#%% md\n"
    }
   },
   "source": [
    "__pivoting features로 분석하기__\n",
    "- 지금은 Null이나 NaN 등 빈 값이 없는 특성값 대해서만 할 수 있음\n",
    "- Pclass : Pclass=1인 승객에 대해서 생존 확률이 0.5보다 높다. 이는 모델에 특성에 넣으면 됨\n",
    "- Sex : 실제로 여성 승객이 생존 확률이 74%로 높은 수치\n",
    "- Sibsp and Parch : 다음 두 특성은 상관관계를 찾기 어렵기 때문에 특성을 합쳐 새로운 성질을 찾아야 함"
   ]
  },
  {
   "cell_type": "code",
   "execution_count": null,
   "id": "a7be06f2",
   "metadata": {
    "pycharm": {
     "name": "#%%\n"
    }
   },
   "outputs": [],
   "source": [
    "# Pclass와 Survived 특성을 Pclass로 묶어서(groupby), as_index=False 인덱스 지정 여부 확인, 평균을 낸 뒤 Survived로 생존율 정렬\n",
    "train_df[['Pclass', 'Survived']].groupby(\n",
    "    ['Pclass'], as_index=False).mean().sort_values(by='Survived', ascending=False)"
   ]
  },
  {
   "cell_type": "code",
   "execution_count": null,
   "id": "cefd9295",
   "metadata": {
    "pycharm": {
     "name": "#%%\n"
    }
   },
   "outputs": [],
   "source": [
    "train_df[[\"Sex\", \"Survived\"]].groupby(\n",
    "    ['Sex'], as_index=False).mean().sort_values(by='Survived', ascending=False)"
   ]
  },
  {
   "cell_type": "code",
   "execution_count": null,
   "id": "6b4fafc9",
   "metadata": {
    "scrolled": true,
    "pycharm": {
     "name": "#%%\n"
    }
   },
   "outputs": [],
   "source": [
    "train_df[[\"SibSp\", \"Survived\"]].groupby(\n",
    "    ['SibSp'], as_index=False).mean().sort_values(by='Survived', ascending=False)"
   ]
  },
  {
   "cell_type": "code",
   "execution_count": null,
   "id": "a77ed407",
   "metadata": {
    "pycharm": {
     "name": "#%%\n"
    }
   },
   "outputs": [],
   "source": [
    "# 정확한 분류할 수 있는 값이 없기 때문에 SibSp와 Parch를 합쳐 새로운 값으로 만드는 것을 고려\n",
    "train_df[[\"Parch\", \"Survived\"]].groupby(\n",
    "    ['Parch'], as_index=False).mean().sort_values(by='Survived', ascending=False)"
   ]
  },
  {
   "cell_type": "markdown",
   "id": "82a8f175",
   "metadata": {
    "pycharm": {
     "name": "#%% md\n"
    }
   },
   "source": [
    "### 시각화를 통한 데이터 분석\n",
    "__수치형 특성의 상관관계__  \n",
    "- 히스토그램 차트는 연속형 수치형 변수를 분석하는 데 매우 유용  \n",
    "- 연속형 데이터를 사용자 지정 범위에 따라 차트로 나타내어, 분포를 통해 패턴 또는 유용한 정보를 추출할 수 있음  \n",
    "- Observations\n",
    "  - 4세 이하는 생존 확률이 높음\n",
    "  - 최고령 승객(age = 80)은 살음\n",
    "  - 15~25세 사이 사람들은 생존하지 못한 사람이 많음\n",
    "  - 대부분의 승객은 15~35세\n",
    "- Decisions\n",
    "  - Age 특성은 모델에 필요함\n",
    "  - Age에서 NaN값을 채워야 함\n",
    "  - 나이를 범위에 따라 그룹화하여야 함 (연속형 -> 범주형)"
   ]
  },
  {
   "cell_type": "code",
   "execution_count": null,
   "id": "08a16b32",
   "metadata": {
    "scrolled": true,
    "pycharm": {
     "name": "#%%\n"
    }
   },
   "outputs": [],
   "source": [
    "# seaborn 라이브러리에 있는 FacetGrid : Survived 기준으로 column을 나누고, Age 기준으로 히스토그램을 그린다. bins는 등분간의 간격\n",
    "g = sns.FacetGrid(train_df, col='Survived')\n",
    "g.map(plt.hist, 'Age', bins=20)  # 나중에 머신러닝 모델에 나이별 그룹을 두어 입력하는 것이 좋음"
   ]
  },
  {
   "cell_type": "markdown",
   "id": "f0660fd7",
   "metadata": {
    "pycharm": {
     "name": "#%% md\n"
    }
   },
   "source": [
    "__수치형과 서수형 특성의 상관관계__\n",
    "- 1개의 그래프로도 여러 특성을 조합해 상관 관계를 확인할 수 있음\n",
    "- Observations\n",
    "  - Pclass=3인 승객수가 많으나, 대다수가 생존하지 못함\n",
    "  - Pclass=2, Pclass=3에서 영아 승객은 대부분 생존\n",
    "  - Pclass=1인 승객들은 대부분 생존  \n",
    "  - Pclass에 따라 승객의 나이 분포는 다름\n",
    "- Decisions\n",
    "  - Pclass는 모델에 필요한 특성"
   ]
  },
  {
   "cell_type": "code",
   "execution_count": null,
   "id": "73ff6e80",
   "metadata": {
    "scrolled": true,
    "pycharm": {
     "name": "#%%\n"
    }
   },
   "outputs": [],
   "source": [
    "# grid = sns.FacetGrid(train_df, col='Pclass', hue='Survived'), height와 aspect는 크기\n",
    "grid = sns.FacetGrid(train_df, col='Survived',\n",
    "                     row='Pclass', height=2.2, aspect=1.6)\n",
    "grid.map(plt.hist, 'Age', alpha=.5, bins=20)\n",
    "grid.add_legend()"
   ]
  },
  {
   "cell_type": "markdown",
   "id": "45f8dd62",
   "metadata": {
    "pycharm": {
     "name": "#%% md\n"
    }
   },
   "source": [
    "__범주형 특성의 상관관계__ \n",
    "- Observations\n",
    "  - 여성 승객은 높은 비율로 생존\n",
    "  - Embarked=C인 남성 승객은 예외적으로 생존 비율이 높으나, Pclass와의 상관관계일 수 있으며, 특성들은 꼭 Survived와 직접적으로 연관될 필요가 없음 \n",
    "- Decisions\n",
    "  - Sex 특성은 모델에 필요함\n",
    "  - Embarked 특성은 빈 부분을 채워야하고, 모델에 있어 필요한 특성"
   ]
  },
  {
   "cell_type": "code",
   "execution_count": null,
   "id": "d82b2adb",
   "metadata": {
    "pycharm": {
     "name": "#%%\n"
    }
   },
   "outputs": [],
   "source": [
    "# grid = sns.FacetGrid(train_df, col='Embarked')\n",
    "grid = sns.FacetGrid(train_df, row='Embarked', height=2.2, aspect=1.6)\n",
    "grid.map(sns.pointplot, 'Pclass', 'Survived', 'Sex', palette='deep',\n",
    "         order=[1, 2, 3], hue_order=[\"female\", \"male\"])\n",
    "grid.add_legend()"
   ]
  },
  {
   "cell_type": "markdown",
   "id": "c0ba3b8c",
   "metadata": {
    "pycharm": {
     "name": "#%% md\n"
    }
   },
   "source": [
    "__범주형과 수치형 특성의 상관 관계__\n",
    "- Observations\n",
    "  - 높은 요금을 낸 승객은 생존율이 더 높음\n",
    "  - 생존율과 Embarked의 상관관계\n",
    "- Decisions\n",
    "  - Fare 특성의 분류를 고려"
   ]
  },
  {
   "cell_type": "code",
   "execution_count": null,
   "id": "ae98d31b",
   "metadata": {
    "pycharm": {
     "name": "#%%\n"
    }
   },
   "outputs": [],
   "source": [
    "# grid = sns.FacetGrid(train_df, col='Embarked', hue='Survived', palette={0: 'k', 1: 'w'})\n",
    "grid = sns.FacetGrid(train_df, row='Embarked',\n",
    "                     col='Survived', height=2.2, aspect=1.6)\n",
    "grid.map(sns.barplot, 'Sex', 'Fare', alpha=.5,\n",
    "         ci=None, order=['female', 'male'])\n",
    "grid.add_legend()"
   ]
  },
  {
   "cell_type": "markdown",
   "id": "f9cc46d4",
   "metadata": {
    "pycharm": {
     "name": "#%% md\n"
    }
   },
   "source": [
    "### 데이터 처리하기(데이터 전처리)\n",
    "__특성 제거__\n",
    "    - 더 적은 데이터를 사용하면 속도와 분석 면에서 더 빠르고 분석하기 쉬움\n",
    "    - Cabin Ticket의 특성을 제거하고, 훈련 데이터와 테스트 데이터를 모두 제거해야 함"
   ]
  },
  {
   "cell_type": "code",
   "execution_count": null,
   "id": "44875cae",
   "metadata": {
    "scrolled": true,
    "pycharm": {
     "name": "#%%\n"
    }
   },
   "outputs": [],
   "source": [
    "print(\"Before\", train_df.shape, test_df.shape,\n",
    "      combine[0].shape, combine[1].shape)\n",
    "\n",
    "# 불필요한 Cabin과 Ticket 열을 제거\n",
    "train_df = train_df.drop(['Ticket', 'Cabin'], axis=1)\n",
    "test_df = test_df.drop(['Ticket', 'Cabin'], axis=1)\n",
    "combine = [train_df, test_df]\n",
    "\n",
    "print(\"After\", train_df.shape, test_df.shape, combine[0].shape, combine[1].shape)"
   ]
  },
  {
   "cell_type": "markdown",
   "id": "40f7c46e",
   "metadata": {
    "pycharm": {
     "name": "#%% md\n"
    }
   },
   "source": [
    "__기준 특성에서 새로운 특성 만들기__\n",
    "- Name 특성은 일부 Advanced 커널에서 다루는 요소입니다.\n",
    "- Title이라는 특성을 만들고, 정규 표현식을 이용해 Name에서 .앞까지 자른다.\n",
    "- Observation\n",
    "    - 대부분의 Title은 Age 범위로 그룹을 정확하게 묶습니다.\n",
    "    - Title에 따른 Age 범위의 생존율은 약간 다릅니다.\n",
    "    - 일부 Title은 대부분 생존했거나, 대부분 생존하지 않았습니다.\n",
    "- Decision\n",
    "    - Title 특성을 사용하도록 합시다."
   ]
  },
  {
   "cell_type": "code",
   "execution_count": null,
   "id": "8e775f48",
   "metadata": {
    "pycharm": {
     "name": "#%%\n"
    }
   },
   "outputs": [],
   "source": [
    "for dataset in combine:\n",
    "    dataset['Title'] = dataset.Name.str.extract(' ([A-Za-z]+)\\.', expand=False)\n",
    "\n",
    "pd.crosstab(train_df['Title'], train_df['Sex'])"
   ]
  },
  {
   "cell_type": "code",
   "execution_count": null,
   "id": "4658b0e0",
   "metadata": {
    "pycharm": {
     "name": "#%%\n"
    }
   },
   "outputs": [],
   "source": [
    "for dataset in combine:\n",
    "    dataset['Title'] = dataset['Title'].replace(['Lady', 'Countess', 'Capt', 'Col',\n",
    "                                                 'Don', 'Dr', 'Major', 'Rev', 'Sir', 'Jonkheer', 'Dona'], 'Rare')\n",
    "\n",
    "    dataset['Title'] = dataset['Title'].replace('Mlle', 'Miss')\n",
    "    dataset['Title'] = dataset['Title'].replace('Ms', 'Miss')\n",
    "    dataset['Title'] = dataset['Title'].replace('Mme', 'Mrs')\n",
    "\n",
    "train_df[['Title', 'Survived']].groupby(['Title'], as_index=False).mean()"
   ]
  },
  {
   "cell_type": "code",
   "execution_count": null,
   "id": "ebd09de8",
   "metadata": {
    "pycharm": {
     "name": "#%%\n"
    }
   },
   "outputs": [],
   "source": [
    "title_mapping = {\"Mr\": 1, \"Miss\": 2, \"Mrs\": 3, \"Master\": 4, \"Rare\": 5}\n",
    "for dataset in combine:\n",
    "    dataset['Title'] = dataset['Title'].map(title_mapping)\n",
    "    dataset['Title'] = dataset['Title'].fillna(0)\n",
    "\n",
    "train_df.head()"
   ]
  },
  {
   "cell_type": "code",
   "execution_count": null,
   "id": "11432d91",
   "metadata": {
    "pycharm": {
     "name": "#%%\n"
    }
   },
   "outputs": [],
   "source": [
    "train_df = train_df.drop(['Name', 'PassengerId'], axis=1)\n",
    "test_df = test_df.drop(['Name'], axis=1)\n",
    "combine = [train_df, test_df]\n",
    "train_df.shape, test_df.shape"
   ]
  },
  {
   "cell_type": "markdown",
   "id": "e66c08fb",
   "metadata": {
    "pycharm": {
     "name": "#%% md\n"
    }
   },
   "source": [
    "__범주형 특성 전환하기__\n",
    "  - 이제 문자열로 이루어진 특성을 수치형으로 변환\n",
    "  - 대부분의 알고리즘은 수치형을 입력으로 받기에 변환이 필요\n",
    "  - Sex 특성에서 female = 1 / male = 0으로 변환할 수 있음"
   ]
  },
  {
   "cell_type": "code",
   "execution_count": null,
   "id": "61170c65",
   "metadata": {
    "pycharm": {
     "name": "#%%\n"
    }
   },
   "outputs": [],
   "source": [
    "for dataset in combine:\n",
    "    dataset['Sex'] = dataset['Sex'].map({'female': 1, 'male': 0}).astype(int)\n",
    "\n",
    "train_df.head()"
   ]
  },
  {
   "cell_type": "markdown",
   "id": "20b90b2a",
   "metadata": {
    "pycharm": {
     "name": "#%% md\n"
    }
   },
   "source": [
    "__수치형 연속형 특성 채우기__\n",
    "    - 빈 부분의 데이터를 예측하고 채움  \n",
    "    - 수치형 - 연속형 특성을 채우는 3가지 방법을 보도록 함\n",
    "    1. 평균과 분산을 이용한 랜덤  \n",
    "    2. 각 특성의 중앙값으로 사용(Pclass, Gender)  \n",
    "    3. 중앙값을 기준으로 평균과 분산 사용\n",
    "    - 이 분석에서는 2번을 이용"
   ]
  },
  {
   "cell_type": "code",
   "execution_count": null,
   "id": "77134b8f",
   "metadata": {
    "pycharm": {
     "name": "#%%\n"
    }
   },
   "outputs": [],
   "source": [
    "# grid = sns.FacetGrid(train_df, col='Pclass', hue='Gender')\n",
    "grid = sns.FacetGrid(train_df, row='Pclass', col='Sex', size=2.2, aspect=1.6)\n",
    "grid.map(plt.hist, 'Age', alpha=.5, bins=20)\n",
    "grid.add_legend()"
   ]
  },
  {
   "cell_type": "code",
   "execution_count": null,
   "id": "107b0417",
   "metadata": {
    "pycharm": {
     "name": "#%%\n"
    }
   },
   "outputs": [],
   "source": [
    "#Pclass와 Sex 특성을 이용해 Age를 예상하는 코드 구성\n",
    "guess_ages = np.zeros((2, 3))\n",
    "guess_ages"
   ]
  },
  {
   "cell_type": "code",
   "execution_count": null,
   "id": "a15bb1d1",
   "metadata": {
    "pycharm": {
     "name": "#%%\n"
    }
   },
   "outputs": [],
   "source": [
    "#Sex(0,1)과 Pclass(1,2,3)의 총 6가지 조합에 대해 구함\n",
    "for dataset in combine:\n",
    "    for i in range(0, 2):\n",
    "        for j in range(0, 3):\n",
    "            guess_df = dataset[(dataset['Sex'] == i) &\n",
    "                               (dataset['Pclass'] == j + 1)]['Age'].dropna()\n",
    "\n",
    "            # age_mean = guess_df.mean()\n",
    "            # age_std = guess_df.std()\n",
    "            # age_guess = rnd.uniform(age_mean - age_std, age_mean + age_std)\n",
    "\n",
    "            age_guess = guess_df.median()\n",
    "\n",
    "            # Convert random age float to nearest .5 age\n",
    "            guess_ages[i, j] = int(age_guess / 0.5 + 0.5) * 0.5\n",
    "\n",
    "    for i in range(0, 2):\n",
    "        for j in range(0, 3):\n",
    "            dataset.loc[(dataset.Age.isnull()) & (dataset.Sex == i) & (dataset.Pclass == j + 1),\n",
    "                        'Age'] = guess_ages[i, j]\n",
    "\n",
    "    dataset['Age'] = dataset['Age'].astype(int)\n",
    "\n",
    "train_df.head()"
   ]
  },
  {
   "cell_type": "code",
   "execution_count": null,
   "id": "96181c5a",
   "metadata": {
    "pycharm": {
     "name": "#%%\n"
    }
   },
   "outputs": [],
   "source": [
    "#나이대를 연령대별로 묶어서 생존율과 연결\n",
    "train_df['AgeBand'] = pd.cut(train_df['Age'], 5)\n",
    "train_df[['AgeBand', 'Survived']].groupby(['AgeBand'], as_index=False).mean().sort_values(by='AgeBand', ascending=True)"
   ]
  },
  {
   "cell_type": "code",
   "execution_count": null,
   "id": "561898ce",
   "metadata": {
    "pycharm": {
     "name": "#%%\n"
    }
   },
   "outputs": [],
   "source": [
    "#Age를 범주형으로 변환\n",
    "for dataset in combine:\n",
    "    dataset.loc[dataset['Age'] <= 16, 'Age'] = 0\n",
    "    dataset.loc[(dataset['Age'] > 16) & (dataset['Age'] <= 32), 'Age'] = 1\n",
    "    dataset.loc[(dataset['Age'] > 32) & (dataset['Age'] <= 48), 'Age'] = 2\n",
    "    dataset.loc[(dataset['Age'] > 48) & (dataset['Age'] <= 64), 'Age'] = 3\n",
    "    dataset.loc[dataset['Age'] > 64, 'Age']\n",
    "train_df.head()"
   ]
  },
  {
   "cell_type": "code",
   "execution_count": null,
   "id": "4c586cb2",
   "metadata": {
    "pycharm": {
     "name": "#%%\n"
    }
   },
   "outputs": [],
   "source": [
    "# AgeBand 특성을 지우고 train과 test 데이터프레임 결합\n",
    "train_df = train_df.drop(['AgeBand'], axis=1)\n",
    "combine = [train_df, test_df]\n",
    "train_df.head()"
   ]
  },
  {
   "cell_type": "markdown",
   "id": "53da8c21",
   "metadata": {
    "pycharm": {
     "name": "#%% md\n"
    }
   },
   "source": [
    "__기존 특성을 합쳐 새로운 특성 만들기__\n",
    "    - FamilySize 특성을 Parch와 SibSp를 이용하여 만듦"
   ]
  },
  {
   "cell_type": "code",
   "execution_count": null,
   "id": "965a1304",
   "metadata": {
    "pycharm": {
     "name": "#%%\n"
    }
   },
   "outputs": [],
   "source": [
    "for dataset in combine:\n",
    "    dataset['FamilySize'] = dataset['SibSp'] + dataset['Parch'] + 1\n",
    "\n",
    "train_df[['FamilySize', 'Survived']].groupby(['FamilySize'], as_index=False).mean().sort_values(by='Survived',\n",
    "                                                                                                ascending=False)"
   ]
  },
  {
   "cell_type": "code",
   "execution_count": null,
   "id": "a9360d26",
   "metadata": {
    "pycharm": {
     "name": "#%%\n"
    }
   },
   "outputs": [],
   "source": [
    "#혼자인 IsAlone이라는 특성을 만듦\n",
    "for dataset in combine:\n",
    "    dataset['IsAlone'] = 0\n",
    "    dataset.loc[dataset['FamilySize'] == 1, 'IsAlone'] = 1\n",
    "\n",
    "train_df[['IsAlone', 'Survived']].groupby(['IsAlone'], as_index=False).mean()"
   ]
  },
  {
   "cell_type": "code",
   "execution_count": null,
   "id": "c4dc4902",
   "metadata": {
    "pycharm": {
     "name": "#%%\n"
    }
   },
   "outputs": [],
   "source": [
    "#IsAlone을 남기고 Parch, SibSp, FamilySize를 제거\n",
    "train_df = train_df.drop(['Parch', 'SibSp', 'FamilySize'], axis=1)\n",
    "test_df = test_df.drop(['Parch', 'SibSp', 'FamilySize'], axis=1)\n",
    "combine = [train_df, test_df]\n",
    "\n",
    "train_df.head()"
   ]
  },
  {
   "cell_type": "code",
   "execution_count": null,
   "id": "d28f5d01",
   "metadata": {
    "pycharm": {
     "name": "#%%\n"
    }
   },
   "outputs": [],
   "source": [
    "#Pclass와 Age 특성을 합친 가상 특성을 만듦\n",
    "for dataset in combine:\n",
    "    dataset['Age*Class'] = dataset.Age * dataset.Pclass\n",
    "\n",
    "train_df.loc[:, ['Age*Class', 'Age', 'Pclass']].head(10)"
   ]
  },
  {
   "cell_type": "markdown",
   "id": "2f3f425d",
   "metadata": {
    "pycharm": {
     "name": "#%% md\n"
    }
   },
   "source": [
    "- 범주형 특성 채우기\n",
    "  - Embarked 특성은 S, Q, C값을 가진다. 하지만 훈련 데이터셋에 총 2개의 값이 Null값이기 때문에 최빈값으로 채움"
   ]
  },
  {
   "cell_type": "code",
   "execution_count": null,
   "id": "cb9b0298",
   "metadata": {
    "pycharm": {
     "name": "#%%\n"
    }
   },
   "outputs": [],
   "source": [
    "freq_port = train_df.Embarked.dropna().mode()[0]\n",
    "freq_port"
   ]
  },
  {
   "cell_type": "code",
   "execution_count": null,
   "id": "24df408a",
   "metadata": {
    "pycharm": {
     "name": "#%%\n"
    }
   },
   "outputs": [],
   "source": [
    "for dataset in combine:\n",
    "    dataset['Embarked'] = dataset['Embarked'].fillna(freq_port)\n",
    "\n",
    "train_df[['Embarked', 'Survived']].groupby(['Embarked'], as_index=False).mean().sort_values(by='Survived',\n",
    "                                                                                            ascending=False)"
   ]
  },
  {
   "cell_type": "markdown",
   "id": "58fa24c7",
   "metadata": {
    "pycharm": {
     "name": "#%% md\n"
    }
   },
   "source": [
    "- 범주형 특성을 수치형으로 변환"
   ]
  },
  {
   "cell_type": "code",
   "execution_count": null,
   "id": "e2462eb8",
   "metadata": {
    "scrolled": true,
    "pycharm": {
     "name": "#%%\n"
    }
   },
   "outputs": [],
   "source": [
    "for dataset in combine:\n",
    "    dataset['Embarked'] = dataset['Embarked'].map({'S': 0, 'C': 1, 'Q': 2}).astype(int)\n",
    "\n",
    "train_df.head()"
   ]
  },
  {
   "cell_type": "markdown",
   "id": "92927de5",
   "metadata": {
    "pycharm": {
     "name": "#%% md\n"
    }
   },
   "source": [
    "- 수치형 특성 빠르게 채우고 변환\n",
    "    - 비어있는 한 명을 코드 한 줄로 빠르게 채움"
   ]
  },
  {
   "cell_type": "code",
   "execution_count": null,
   "id": "b083c2be",
   "metadata": {
    "pycharm": {
     "name": "#%%\n"
    }
   },
   "outputs": [],
   "source": [
    "test_df['Fare'].fillna(test_df['Fare'].dropna().median(), inplace=True)\n",
    "test_df.head()"
   ]
  },
  {
   "cell_type": "code",
   "execution_count": null,
   "id": "a7abd43f",
   "metadata": {
    "pycharm": {
     "name": "#%%\n"
    }
   },
   "outputs": [],
   "source": [
    "#Fare 특성 확인\n",
    "train_df['FareBand'] = pd.qcut(train_df['Fare'], 4)\n",
    "train_df[['FareBand', 'Survived']].groupby(['FareBand'], as_index=False).mean().sort_values(by='FareBand',\n",
    "                                                                                            ascending=True)"
   ]
  },
  {
   "cell_type": "code",
   "execution_count": null,
   "id": "e2015ff7",
   "metadata": {
    "pycharm": {
     "name": "#%%\n"
    }
   },
   "outputs": [],
   "source": [
    "#Fare 특성을 범주형으로 놓음\n",
    "for dataset in combine:\n",
    "    dataset.loc[dataset['Fare'] <= 7.91, 'Fare'] = 0\n",
    "    dataset.loc[(dataset['Fare'] > 7.91) & (dataset['Fare'] <= 14.454), 'Fare'] = 1\n",
    "    dataset.loc[(dataset['Fare'] > 14.454) & (dataset['Fare'] <= 31), 'Fare'] = 2\n",
    "    dataset.loc[dataset['Fare'] > 31, 'Fare'] = 3\n",
    "    dataset['Fare'] = dataset['Fare'].astype(int)\n",
    "\n",
    "train_df = train_df.drop(['FareBand'], axis=1)\n",
    "combine = [train_df, test_df]\n",
    "\n",
    "train_df.head(10)"
   ]
  },
  {
   "cell_type": "code",
   "execution_count": null,
   "id": "295ad40b",
   "metadata": {
    "pycharm": {
     "name": "#%%\n"
    }
   },
   "outputs": [],
   "source": [
    "# 다시한 번 테스트 데이터셋 확인\n",
    "test_df.head(10)"
   ]
  },
  {
   "cell_type": "markdown",
   "id": "4dfe5800",
   "metadata": {
    "pycharm": {
     "name": "#%% md\n"
    }
   },
   "source": [
    "### 문제 모델링 & 문제 예측 및 해결\n",
    "- 예측 모델 알고리즘은 60개가 넘기 때문에 효율이 좋은 알고리즘을 이해하고 선택할 줄 알아야 함\n",
    "- 분류 문제는 지도학습에 속하는 문제\n",
    "  - Logistic Regression\n",
    "  - KNN or k-Nearest Neighbors\n",
    "  - Support Vector Machines\n",
    "  - Naive Bayes classifier\n",
    "  - Decision Tree\n",
    "  - Random Forest\n",
    "  - Perceptron\n",
    "  - Artificial neural network\n",
    "  - RVM or Relevance Vector Machine"
   ]
  },
  {
   "cell_type": "code",
   "execution_count": null,
   "id": "09b595ef",
   "metadata": {
    "pycharm": {
     "name": "#%%\n"
    }
   },
   "outputs": [],
   "source": [
    "X_train = train_df.drop(\"Survived\", axis=1)\n",
    "Y_train = train_df[\"Survived\"]\n",
    "X_test = test_df.drop(\"PassengerId\", axis=1).copy()\n",
    "X_train.shape, Y_train.shape, X_test.shape"
   ]
  },
  {
   "cell_type": "markdown",
   "id": "9c28e96e",
   "metadata": {
    "pycharm": {
     "name": "#%% md\n"
    }
   },
   "source": [
    "- Logistic Regression\n",
    "  - 시작 단계에서 돌려보기 좋은 모델\n",
    "  - 각 특성이 미치는 영향을 알아볼 수 있음"
   ]
  },
  {
   "cell_type": "code",
   "execution_count": null,
   "id": "f6c77450",
   "metadata": {
    "pycharm": {
     "name": "#%%\n"
    }
   },
   "outputs": [],
   "source": [
    "# Logistic Regression\n",
    "\n",
    "logreg = LogisticRegression()\n",
    "logreg.fit(X_train, Y_train)\n",
    "Y_pred = logreg.predict(X_test)\n",
    "acc_log = round(logreg.score(X_train, Y_train) * 100, 2)\n",
    "acc_log\n",
    "\n",
    "coeff_df = pd.DataFrame(train_df.columns.delete(0))\n",
    "coeff_df.columns = ['Feature']\n",
    "coeff_df[\"Correlation\"] = pd.Series(logreg.coef_[0])\n",
    "\n",
    "# 결정 함수에서 사용되는 계수 값들을 알 수 있음\n",
    "coeff_df.sort_values(by='Correlation', ascending=False)\n",
    "# 양의 계수는 log-odds를 증가해 확률을 증가시키고, 음의 계수는 log-odds가 감소해 확률을 감소  "
   ]
  },
  {
   "cell_type": "markdown",
   "id": "7b9657a1",
   "metadata": {
    "pycharm": {
     "name": "#%% md\n"
    }
   },
   "source": [
    "- Support Vector Machine\n",
    "  - SVM이라고 불리는 지도학습 모델을 사용\n",
    "  - 분류와 회귀에 모두 사용되는 알고리즘"
   ]
  },
  {
   "cell_type": "code",
   "execution_count": null,
   "id": "1f384472",
   "metadata": {
    "pycharm": {
     "name": "#%%\n"
    }
   },
   "outputs": [],
   "source": [
    "# Support Vector Machines\n",
    "\n",
    "svc = SVC()\n",
    "svc.fit(X_train, Y_train)\n",
    "Y_pred = svc.predict(X_test)\n",
    "acc_svc = round(svc.score(X_train, Y_train) * 100, 2)\n",
    "acc_svc"
   ]
  },
  {
   "cell_type": "markdown",
   "id": "7c215c40",
   "metadata": {
    "pycharm": {
     "name": "#%% md\n"
    }
   },
   "source": [
    "- K-Nearest Neighbors 알고리즘(K-NN)\n",
    "  - 패턴 인식으로 데이터 속성을 파악해 가장 가까운 이웃들을 묶는 데이터 알고리즘"
   ]
  },
  {
   "cell_type": "code",
   "execution_count": null,
   "id": "9df86c7e",
   "metadata": {
    "pycharm": {
     "name": "#%%\n"
    }
   },
   "outputs": [],
   "source": [
    "knn = KNeighborsClassifier(n_neighbors=3)\n",
    "knn.fit(X_train, Y_train)\n",
    "Y_pred = knn.predict(X_test)\n",
    "acc_knn = round(knn.score(X_train, Y_train) * 100, 2)\n",
    "acc_knn"
   ]
  },
  {
   "cell_type": "markdown",
   "id": "38d21c3f",
   "metadata": {
    "pycharm": {
     "name": "#%% md\n"
    }
   },
   "source": [
    "naive Bayes classifier"
   ]
  },
  {
   "cell_type": "code",
   "execution_count": null,
   "id": "91777cf2",
   "metadata": {
    "pycharm": {
     "name": "#%%\n"
    }
   },
   "outputs": [],
   "source": [
    "# Gaussian Naive Bayes\n",
    "\n",
    "gaussian = GaussianNB()\n",
    "gaussian.fit(X_train, Y_train)\n",
    "Y_pred = gaussian.predict(X_test)\n",
    "acc_gaussian = round(gaussian.score(X_train, Y_train) * 100, 2)\n",
    "acc_gaussian"
   ]
  },
  {
   "cell_type": "markdown",
   "id": "6d3f7dba",
   "metadata": {
    "pycharm": {
     "name": "#%% md\n"
    }
   },
   "source": [
    "Perceptron"
   ]
  },
  {
   "cell_type": "code",
   "execution_count": null,
   "id": "663e4fd7",
   "metadata": {
    "pycharm": {
     "name": "#%%\n"
    }
   },
   "outputs": [],
   "source": [
    "# Perceptron\n",
    "\n",
    "perceptron = Perceptron()\n",
    "perceptron.fit(X_train, Y_train)\n",
    "Y_pred = perceptron.predict(X_test)\n",
    "acc_perceptron = round(perceptron.score(X_train, Y_train) * 100, 2)\n",
    "acc_perceptron"
   ]
  },
  {
   "cell_type": "code",
   "execution_count": null,
   "id": "9833ba41",
   "metadata": {
    "pycharm": {
     "name": "#%%\n"
    }
   },
   "outputs": [],
   "source": [
    "# Linear SVC\n",
    "\n",
    "linear_svc = LinearSVC()\n",
    "linear_svc.fit(X_train, Y_train)\n",
    "Y_pred = linear_svc.predict(X_test)\n",
    "acc_linear_svc = round(linear_svc.score(X_train, Y_train) * 100, 2)\n",
    "acc_linear_svc"
   ]
  },
  {
   "cell_type": "code",
   "execution_count": null,
   "id": "73279e69",
   "metadata": {
    "pycharm": {
     "name": "#%%\n"
    }
   },
   "outputs": [],
   "source": [
    "# Stochastic Gradient Descent\n",
    "\n",
    "sgd = SGDClassifier()\n",
    "sgd.fit(X_train, Y_train)\n",
    "Y_pred = sgd.predict(X_test)\n",
    "acc_sgd = round(sgd.score(X_train, Y_train) * 100, 2)\n",
    "acc_sgd"
   ]
  },
  {
   "cell_type": "markdown",
   "id": "9f7f69f7",
   "metadata": {
    "pycharm": {
     "name": "#%% md\n"
    }
   },
   "source": [
    "Decision Tree"
   ]
  },
  {
   "cell_type": "code",
   "execution_count": null,
   "id": "565ffe24",
   "metadata": {
    "pycharm": {
     "name": "#%%\n"
    }
   },
   "outputs": [],
   "source": [
    "# Decision Tree\n",
    "\n",
    "decision_tree = DecisionTreeClassifier()\n",
    "decision_tree.fit(X_train, Y_train)\n",
    "Y_pred = decision_tree.predict(X_test)\n",
    "acc_decision_tree = round(decision_tree.score(X_train, Y_train) * 100, 2)\n",
    "acc_decision_tree"
   ]
  },
  {
   "cell_type": "markdown",
   "id": "602cad54",
   "metadata": {
    "pycharm": {
     "name": "#%% md\n"
    }
   },
   "source": [
    "Random Forest"
   ]
  },
  {
   "cell_type": "code",
   "execution_count": null,
   "id": "a1973f1e",
   "metadata": {
    "pycharm": {
     "name": "#%%\n"
    }
   },
   "outputs": [],
   "source": [
    "# Random Forest\n",
    "\n",
    "random_forest = RandomForestClassifier(n_estimators=100)\n",
    "random_forest.fit(X_train, Y_train)\n",
    "Y_pred = random_forest.predict(X_test)\n",
    "random_forest.score(X_train, Y_train)\n",
    "acc_random_forest = round(random_forest.score(X_train, Y_train) * 100, 2)\n",
    "acc_random_forest"
   ]
  }
 ],
 "metadata": {
  "interpreter": {
   "hash": "25ec6942201208e8e8076aa64a03c62c3f52897d25bc5a5e27202a9980ef8dc4"
  },
  "kernelspec": {
   "display_name": "Python 3 (ipykernel)",
   "language": "python",
   "name": "python3"
  },
  "language_info": {
   "codemirror_mode": {
    "name": "ipython",
    "version": 3
   },
   "file_extension": ".py",
   "mimetype": "text/x-python",
   "name": "python",
   "nbconvert_exporter": "python",
   "pygments_lexer": "ipython3",
   "version": "3.9.12"
  }
 },
 "nbformat": 4,
 "nbformat_minor": 2
}