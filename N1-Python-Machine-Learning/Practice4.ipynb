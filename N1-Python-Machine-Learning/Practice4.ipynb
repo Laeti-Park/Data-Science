{
 "cells": [
  {
   "cell_type": "markdown",
   "metadata": {},
   "source": [
    "### 1. 판다스의 특징으로 알맞은 것을 고르시오.\n",
    "\n",
    "1. 판다스는 열 벡터(column vector)를 표현하는 객체(object)이다. \n",
    "2. 데이터프레임(DataFrame)은 리스트를 모아서 만든 데이터 테이블이다. \n",
    "3. 엑셀을 기반으로 개발된 파이썬 라이브러리이다. \n",
    "4. Excel, Json, Pickle, csv 등의 데이터 타입을 호출할 수 있다.\n",
    "\n",
    "> 답 : 4  \n",
    "> 판다스는 데이터 분석을 위한 파이썬 라이브러리로 데이터프레임은 여러 개의 시리즈 객체로 구성되어 있음"
   ]
  },
  {
   "cell_type": "markdown",
   "metadata": {
    "pycharm": {
     "name": "#%% md\n"
    }
   },
   "source": [
    "### 2. 다음 코드를 실행할 경우 예상되는 결과값은 무엇인가?"
   ]
  },
  {
   "cell_type": "code",
   "metadata": {
    "pycharm": {
     "name": "#%%\n"
    }
   },
   "source": [
    "import pandas as pd\n",
    "\n",
    "raw_data = {'first_name': ['Jason', 'Molly', 'Tina', 'Jake', 'Amy'],\n",
    "            'last_name': ['Miller', 'Jacobson', 'Ali', 'Milner', 'Cooze'],\n",
    "            'age': [42, 52, 36, 24, 73]}\n",
    "\n",
    "df = pd.DataFrame(raw_data, index=['a', 'b', 'c', 'd', 'e'])\n",
    "df\n",
    "\n",
    "# df[\"a\"]"
   ],
   "execution_count": 1,
   "outputs": [
    {
     "data": {
      "text/plain": "  first_name last_name  age\na      Jason    Miller   42\nb      Molly  Jacobson   52\nc       Tina       Ali   36\nd       Jake    Milner   24\ne        Amy     Cooze   73",
      "text/html": "<div>\n<style scoped>\n    .dataframe tbody tr th:only-of-type {\n        vertical-align: middle;\n    }\n\n    .dataframe tbody tr th {\n        vertical-align: top;\n    }\n\n    .dataframe thead th {\n        text-align: right;\n    }\n</style>\n<table border=\"1\" class=\"dataframe\">\n  <thead>\n    <tr style=\"text-align: right;\">\n      <th></th>\n      <th>first_name</th>\n      <th>last_name</th>\n      <th>age</th>\n    </tr>\n  </thead>\n  <tbody>\n    <tr>\n      <th>a</th>\n      <td>Jason</td>\n      <td>Miller</td>\n      <td>42</td>\n    </tr>\n    <tr>\n      <th>b</th>\n      <td>Molly</td>\n      <td>Jacobson</td>\n      <td>52</td>\n    </tr>\n    <tr>\n      <th>c</th>\n      <td>Tina</td>\n      <td>Ali</td>\n      <td>36</td>\n    </tr>\n    <tr>\n      <th>d</th>\n      <td>Jake</td>\n      <td>Milner</td>\n      <td>24</td>\n    </tr>\n    <tr>\n      <th>e</th>\n      <td>Amy</td>\n      <td>Cooze</td>\n      <td>73</td>\n    </tr>\n  </tbody>\n</table>\n</div>"
     },
     "execution_count": 1,
     "metadata": {},
     "output_type": "execute_result"
    }
   ]
  },
  {
   "cell_type": "markdown",
   "metadata": {
    "pycharm": {
     "name": "#%% md\n"
    }
   },
   "source": [
    "```\n",
    "1. first_name   Jason  \n",
    "   last name   Miller  \n",
    "   age             42  \n",
    "   Name: 42, dtype: object \n",
    "2. KeyError \n",
    "3. 'Jason'\n",
    "4. 42\n",
    "```\n",
    "\n",
    "> 답 : 2\n",
    "> 인덱스를 참고하려면 loc() 함수를 사용\n",
    "> df[\"a\"] -> df.loc[\"a\"]"
   ]
  },
  {
   "cell_type": "code",
   "metadata": {
    "pycharm": {
     "name": "#%%\n"
    }
   },
   "source": [
    "df.loc[\"a\"]"
   ],
   "execution_count": 2,
   "outputs": [
    {
     "data": {
      "text/plain": "first_name     Jason\nlast_name     Miller\nage               42\nName: a, dtype: object"
     },
     "execution_count": 2,
     "metadata": {},
     "output_type": "execute_result"
    }
   ]
  },
  {
   "cell_type": "code",
   "execution_count": 3,
   "metadata": {},
   "outputs": [
    {
     "data": {
      "text/plain": "first_name     Jason\nlast_name     Miller\nage               42\nName: a, dtype: object"
     },
     "execution_count": 3,
     "metadata": {},
     "output_type": "execute_result"
    }
   ],
   "source": [
    "raw_data = {'first_name': ['Jason', 'Molly', 'Tina', 'Jake', 'Amy'],\n",
    "            'last_name': ['Miller', 'Jacobson', 'Ali', 'Milner', 'Cooze'],\n",
    "            'age': [42, 52, 36, 24, 73]}\n",
    "\n",
    "df = pd.DataFrame(raw_data, index=['a', 'b', 'c', 'd', 'e'])\n",
    "df.loc[\"a\"]"
   ]
  },
  {
   "cell_type": "markdown",
   "metadata": {
    "pycharm": {
     "name": "#%% md\n"
    }
   },
   "source": [
    "### 3. 판다스에서는 엑셀의 피봇 테이블과 같이 데이터의 통계치를 산출하는 함수들이 있다. 다음 중 이러한 역할을 하지 못하는 함수는 무엇인가?\n",
    "\n",
    "1. crosstab \n",
    "2. pivot_table \n",
    "3. groupby \n",
    "4. summary\n",
    "\n",
    "> 답 : 4\n",
    "> crosstab : 교차분석 함수\n",
    "> pivot_table : 피봇 테이블 함수"
   ]
  },
  {
   "cell_type": "markdown",
   "metadata": {},
   "source": [
    "### 4. 다음 코드를 실행할 경우 예상되는 결과값은 무엇인가?\n",
    "\n",
    "> 답 : 1"
   ]
  },
  {
   "cell_type": "code",
   "execution_count": 4,
   "metadata": {},
   "outputs": [
    {
     "data": {
      "text/plain": "       2019  2020  2021\nKorea   4.6   5.7   4.8\nJapn    NaN   1.5   1.6",
      "text/html": "<div>\n<style scoped>\n    .dataframe tbody tr th:only-of-type {\n        vertical-align: middle;\n    }\n\n    .dataframe tbody tr th {\n        vertical-align: top;\n    }\n\n    .dataframe thead th {\n        text-align: right;\n    }\n</style>\n<table border=\"1\" class=\"dataframe\">\n  <thead>\n    <tr style=\"text-align: right;\">\n      <th></th>\n      <th>2019</th>\n      <th>2020</th>\n      <th>2021</th>\n    </tr>\n  </thead>\n  <tbody>\n    <tr>\n      <th>Korea</th>\n      <td>4.6</td>\n      <td>5.7</td>\n      <td>4.8</td>\n    </tr>\n    <tr>\n      <th>Japn</th>\n      <td>NaN</td>\n      <td>1.5</td>\n      <td>1.6</td>\n    </tr>\n  </tbody>\n</table>\n</div>"
     },
     "execution_count": 4,
     "metadata": {},
     "output_type": "execute_result"
    }
   ],
   "source": [
    "nested_dict = {'Korea': {2019: 4.6, 2020: 5.7, 2021: 4.8},\n",
    "               'Japn': {2020: 1.5, 2020: 1.5, 2021: 1.6}}\n",
    "\n",
    "df = pd.DataFrame(nested_dict).T  # 전치 메소드\n",
    "df"
   ]
  },
  {
   "cell_type": "markdown",
   "metadata": {},
   "source": [
    "### 5. 다음 코드를 실행할 경우 예상되는 결과값은 무엇인가?"
   ]
  },
  {
   "cell_type": "code",
   "execution_count": 5,
   "outputs": [
    {
     "data": {
      "text/plain": "   Name  Age\n1  Choi   29\n2   Kim   32\n3  Jung   27\n4   Lee   25",
      "text/html": "<div>\n<style scoped>\n    .dataframe tbody tr th:only-of-type {\n        vertical-align: middle;\n    }\n\n    .dataframe tbody tr th {\n        vertical-align: top;\n    }\n\n    .dataframe thead th {\n        text-align: right;\n    }\n</style>\n<table border=\"1\" class=\"dataframe\">\n  <thead>\n    <tr style=\"text-align: right;\">\n      <th></th>\n      <th>Name</th>\n      <th>Age</th>\n    </tr>\n  </thead>\n  <tbody>\n    <tr>\n      <th>1</th>\n      <td>Choi</td>\n      <td>29</td>\n    </tr>\n    <tr>\n      <th>2</th>\n      <td>Kim</td>\n      <td>32</td>\n    </tr>\n    <tr>\n      <th>3</th>\n      <td>Jung</td>\n      <td>27</td>\n    </tr>\n    <tr>\n      <th>4</th>\n      <td>Lee</td>\n      <td>25</td>\n    </tr>\n  </tbody>\n</table>\n</div>"
     },
     "execution_count": 5,
     "metadata": {},
     "output_type": "execute_result"
    }
   ],
   "source": [
    "data = [['Choi', 29], ['Kim', 32], ['Jung', 27], ['Lee', 25]]\n",
    "df = pd.DataFrame(data, columns=['Name', 'Age'], index=[1, 2, 3, 4])\n",
    "\n",
    "df\n",
    "# df.iloc[2]['Age']"
   ],
   "metadata": {
    "collapsed": false,
    "pycharm": {
     "name": "#%%\n"
    }
   }
  },
  {
   "cell_type": "markdown",
   "source": [
    "```\n",
    "1. Name Jung\n",
    "   Age 27\n",
    "   Name: 3, dtype: object\n",
    "2. Name Kim\n",
    "   Age 32\n",
    "   Name: 2, dtype: object\n",
    "3. 32\n",
    "4. 27\n",
    "```\n",
    "\n",
    "> 답 : 4"
   ],
   "metadata": {
    "collapsed": false
   }
  },
  {
   "cell_type": "code",
   "execution_count": 6,
   "metadata": {},
   "outputs": [
    {
     "data": {
      "text/plain": "27"
     },
     "execution_count": 6,
     "metadata": {},
     "output_type": "execute_result"
    }
   ],
   "source": [
    "df.iloc[2]['Age']"
   ]
  },
  {
   "cell_type": "markdown",
   "metadata": {},
   "source": [
    "### 6. 두 개의 데이터프레임을 병합하기 위해 merge 함수를 사용할 수 있다. 다음 중 merge 함수의 매개 변수 중 설명이 맞는 것을 고르시오.\n",
    "\n",
    "1. how : 병합할 유형을 지정한다. full, left, right, inner가 있다. \n",
    "2. on : 어떤 키를 기준으로 병합할 것인지 지정한다. \n",
    "3. right_index : right index에 어떤 열을 병합할지를 지정한다. 이름을 'str’로 지정한다. \n",
    "4. left : left index를 포함할지에 대한 여부를 True 또는 False로 반환한다.\n",
    "\n",
    "> 답 : 1"
   ]
  },
  {
   "cell_type": "markdown",
   "metadata": {},
   "source": [
    "### 7. 다음 코드를 실행할 경우 예상되는 결과값은 무엇인가?"
   ]
  },
  {
   "cell_type": "code",
   "execution_count": 7,
   "metadata": {},
   "outputs": [
    {
     "data": {
      "text/plain": "Team\nDevils    768.000000\nKings     761.666667\nRiders    762.250000\nRoyals    752.500000\nkings     812.000000\nName: Points, dtype: float64"
     },
     "execution_count": 7,
     "metadata": {},
     "output_type": "execute_result"
    }
   ],
   "source": [
    "ipl_data = {'Team': ['Riders', 'Riders', 'Devils', 'Devils', 'Kings',\n",
    "                     'kings', 'Kings', 'Kings', 'Riders', 'Royals', 'Royals', 'Riders'],\n",
    "            'Rank': [1, 2, 2, 3, 3, 4, 1, 1, 2, 4, 1, 2],\n",
    "            'Year': [2014, 2015, 2014, 2015, 2014, 2015, 2016, 2017, 2016, 2014, 2015, 2017],\n",
    "            'Points': [876, 789, 863, 673, 741, 812, 756, 788, 694, 701, 804, 690]}\n",
    "\n",
    "df = pd.DataFrame(ipl_data)\n",
    "df.groupby(\"Team\")[\"Points\"].mean()"
   ]
  },
  {
   "cell_type": "markdown",
   "metadata": {},
   "source": [
    "> 답 : 4"
   ]
  },
  {
   "cell_type": "markdown",
   "metadata": {},
   "source": [
    "### 8. 실행 결과와 같은 데이터가 존재할 떄, df에 Age 열을 제외하여 저장하고 싶다고 가정하자. 적합하지 않은 코드는 무엇인가?"
   ]
  },
  {
   "cell_type": "code",
   "execution_count": 8,
   "metadata": {},
   "outputs": [
    {
     "data": {
      "text/plain": "   Name  Age\n1  Choi   29\n2   Kim   32\n3  Jung   27\n4   Lee   25",
      "text/html": "<div>\n<style scoped>\n    .dataframe tbody tr th:only-of-type {\n        vertical-align: middle;\n    }\n\n    .dataframe tbody tr th {\n        vertical-align: top;\n    }\n\n    .dataframe thead th {\n        text-align: right;\n    }\n</style>\n<table border=\"1\" class=\"dataframe\">\n  <thead>\n    <tr style=\"text-align: right;\">\n      <th></th>\n      <th>Name</th>\n      <th>Age</th>\n    </tr>\n  </thead>\n  <tbody>\n    <tr>\n      <th>1</th>\n      <td>Choi</td>\n      <td>29</td>\n    </tr>\n    <tr>\n      <th>2</th>\n      <td>Kim</td>\n      <td>32</td>\n    </tr>\n    <tr>\n      <th>3</th>\n      <td>Jung</td>\n      <td>27</td>\n    </tr>\n    <tr>\n      <th>4</th>\n      <td>Lee</td>\n      <td>25</td>\n    </tr>\n  </tbody>\n</table>\n</div>"
     },
     "execution_count": 8,
     "metadata": {},
     "output_type": "execute_result"
    }
   ],
   "source": [
    "data = [['Choi', 29], ['Kim', 32], ['Jung', 27], ['Lee', 25]]\n",
    "df = pd.DataFrame(data, columns=['Name', 'Age'], index=[1, 2, 3, 4])\n",
    "\n",
    "df"
   ]
  },
  {
   "cell_type": "markdown",
   "metadata": {},
   "source": [
    "1. df = df.drop(\"Age\")\n",
    "2. del df[\"Age\"]\n",
    "3. df.drop(\"Age\", inplace=True)\n",
    "4. df = df[\\[\"Name\"]]\n",
    "\n",
    "> 답 : 1, 3\n",
    "> 1, 3번 모두 axis=1로 설정해 주어야 함"
   ]
  },
  {
   "cell_type": "markdown",
   "metadata": {},
   "source": [
    "### 9. 다음과 같은 데이터프레임 df가 존재할 때, 과목별로 Null 값의 개수를 구하려고 한다. 빈칸에 들어 갈 값을 고르시오.\n",
    "\n",
    "> 답 : 2"
   ]
  },
  {
   "cell_type": "code",
   "execution_count": 9,
   "metadata": {},
   "outputs": [
    {
     "data": {
      "text/plain": "Family Name  Seol   Kim  Choi  Jung\nPython          A    B+    B+     A\nDS              B  None  None  None\nAlgorithm    None  None     A    A+",
      "text/html": "<div>\n<style scoped>\n    .dataframe tbody tr th:only-of-type {\n        vertical-align: middle;\n    }\n\n    .dataframe tbody tr th {\n        vertical-align: top;\n    }\n\n    .dataframe thead th {\n        text-align: right;\n    }\n</style>\n<table border=\"1\" class=\"dataframe\">\n  <thead>\n    <tr style=\"text-align: right;\">\n      <th>Family Name</th>\n      <th>Seol</th>\n      <th>Kim</th>\n      <th>Choi</th>\n      <th>Jung</th>\n    </tr>\n  </thead>\n  <tbody>\n    <tr>\n      <th>Python</th>\n      <td>A</td>\n      <td>B+</td>\n      <td>B+</td>\n      <td>A</td>\n    </tr>\n    <tr>\n      <th>DS</th>\n      <td>B</td>\n      <td>None</td>\n      <td>None</td>\n      <td>None</td>\n    </tr>\n    <tr>\n      <th>Algorithm</th>\n      <td>None</td>\n      <td>None</td>\n      <td>A</td>\n      <td>A+</td>\n    </tr>\n  </tbody>\n</table>\n</div>"
     },
     "execution_count": 9,
     "metadata": {},
     "output_type": "execute_result"
    }
   ],
   "source": [
    "import numpy as np\n",
    "\n",
    "df = pd.DataFrame(data=[['Seol', 'A', 'B', None],\n",
    "                        ['Kim', \"B+\", None, None],\n",
    "                        ['Choi', 'B+', None, 'A'],\n",
    "                        ['Jung', 'A', None, 'A+']],\n",
    "                  columns=['Family Name', 'Python', 'DS', 'Algorithm'])\n",
    "\n",
    "df = df.set_index('Family Name').T\n",
    "df"
   ]
  },
  {
   "cell_type": "code",
   "execution_count": 10,
   "metadata": {},
   "outputs": [
    {
     "data": {
      "text/plain": "Family Name\nSeol    3\nKim     3\nChoi    3\nJung    3\ndtype: int64"
     },
     "execution_count": 10,
     "metadata": {},
     "output_type": "execute_result"
    }
   ],
   "source": [
    "# isnull().count() : isnull()을 포함한 count() 값\n",
    "df.isnull().count()"
   ]
  },
  {
   "cell_type": "code",
   "execution_count": 11,
   "metadata": {},
   "outputs": [
    {
     "data": {
      "text/plain": "Python       0\nDS           3\nAlgorithm    2\ndtype: int64"
     },
     "execution_count": 11,
     "metadata": {},
     "output_type": "execute_result"
    }
   ],
   "source": [
    "df.isnull().sum(axis=1)"
   ]
  },
  {
   "cell_type": "code",
   "execution_count": 12,
   "metadata": {},
   "outputs": [
    {
     "data": {
      "text/plain": "Python       4\nDS           4\nAlgorithm    4\ndtype: int64"
     },
     "execution_count": 12,
     "metadata": {},
     "output_type": "execute_result"
    }
   ],
   "source": [
    "df.isnull().count(axis=1)"
   ]
  },
  {
   "cell_type": "code",
   "execution_count": 13,
   "metadata": {},
   "outputs": [
    {
     "data": {
      "text/plain": "Family Name\nSeol    1\nKim     2\nChoi    1\nJung    1\ndtype: int64"
     },
     "execution_count": 13,
     "metadata": {},
     "output_type": "execute_result"
    }
   ],
   "source": [
    "df.isnull().sum(axis=0)"
   ]
  },
  {
   "cell_type": "markdown",
   "metadata": {},
   "source": [
    "### 10. 다음은 판다스의 내장 함수(built-in function)에 대한 설명이다. 함수와 기능이 잘못 짝지어진 것을 고르시오.\n",
    "\n",
    "1. sum() : 시리즈(series) 데이터 값이 숫자형 값일 경우에는 합의 값을, 문자열 타입일 경우 \n",
    "연결(concatenate)을 보여준다.\n",
    "2. describe() : 숫자 데이터 타입의 요약 정보를 보여준다. \n",
    "3. isnull() : 요소 값이 NULL인 인덱스를 반환한다.\n",
    "4. mean() : 시리즈(series) 데이터 값이 숫자형 값일 경우에는 평균값을, 문자열 타입일 경우 글자 수에 대한 카운터(counter) 값을 보여준다.\n",
    "\n",
    "> 답 : 4"
   ]
  },
  {
   "cell_type": "code",
   "execution_count": 14,
   "outputs": [
    {
     "data": {
      "text/plain": "   0  1\n0  A  1\n1  B  1\n2  C  3\n3  D  4",
      "text/html": "<div>\n<style scoped>\n    .dataframe tbody tr th:only-of-type {\n        vertical-align: middle;\n    }\n\n    .dataframe tbody tr th {\n        vertical-align: top;\n    }\n\n    .dataframe thead th {\n        text-align: right;\n    }\n</style>\n<table border=\"1\" class=\"dataframe\">\n  <thead>\n    <tr style=\"text-align: right;\">\n      <th></th>\n      <th>0</th>\n      <th>1</th>\n    </tr>\n  </thead>\n  <tbody>\n    <tr>\n      <th>0</th>\n      <td>A</td>\n      <td>1</td>\n    </tr>\n    <tr>\n      <th>1</th>\n      <td>B</td>\n      <td>1</td>\n    </tr>\n    <tr>\n      <th>2</th>\n      <td>C</td>\n      <td>3</td>\n    </tr>\n    <tr>\n      <th>3</th>\n      <td>D</td>\n      <td>4</td>\n    </tr>\n  </tbody>\n</table>\n</div>"
     },
     "execution_count": 14,
     "metadata": {},
     "output_type": "execute_result"
    }
   ],
   "source": [
    "df_arr = pd.DataFrame(data=[['A', 'B', 'C', 'D'],\n",
    "                            [1, 1, 3, 4]])\n",
    "df_arr = df_arr.T\n",
    "df_arr"
   ],
   "metadata": {
    "collapsed": false,
    "pycharm": {
     "name": "#%%\n"
    }
   }
  },
  {
   "cell_type": "code",
   "execution_count": 15,
   "outputs": [
    {
     "data": {
      "text/plain": "0    ABCD\n1       9\ndtype: object"
     },
     "execution_count": 15,
     "metadata": {},
     "output_type": "execute_result"
    }
   ],
   "source": [
    "df_arr.sum()"
   ],
   "metadata": {
    "collapsed": false,
    "pycharm": {
     "name": "#%%\n"
    }
   }
  },
  {
   "cell_type": "code",
   "execution_count": 16,
   "outputs": [
    {
     "data": {
      "text/plain": "count     4\nunique    3\ntop       1\nfreq      2\nName: 1, dtype: int64"
     },
     "execution_count": 16,
     "metadata": {},
     "output_type": "execute_result"
    }
   ],
   "source": [
    "df_arr[1].describe()\n",
    "# unique : 중복을 제거한 종류 수\n",
    "# top : 최빈값\n",
    "# freq : 최빈값 빈도"
   ],
   "metadata": {
    "collapsed": false,
    "pycharm": {
     "name": "#%%\n"
    }
   }
  },
  {
   "cell_type": "code",
   "execution_count": 17,
   "outputs": [
    {
     "data": {
      "text/plain": "       0      1\n0  False  False\n1  False  False\n2  False  False\n3  False  False",
      "text/html": "<div>\n<style scoped>\n    .dataframe tbody tr th:only-of-type {\n        vertical-align: middle;\n    }\n\n    .dataframe tbody tr th {\n        vertical-align: top;\n    }\n\n    .dataframe thead th {\n        text-align: right;\n    }\n</style>\n<table border=\"1\" class=\"dataframe\">\n  <thead>\n    <tr style=\"text-align: right;\">\n      <th></th>\n      <th>0</th>\n      <th>1</th>\n    </tr>\n  </thead>\n  <tbody>\n    <tr>\n      <th>0</th>\n      <td>False</td>\n      <td>False</td>\n    </tr>\n    <tr>\n      <th>1</th>\n      <td>False</td>\n      <td>False</td>\n    </tr>\n    <tr>\n      <th>2</th>\n      <td>False</td>\n      <td>False</td>\n    </tr>\n    <tr>\n      <th>3</th>\n      <td>False</td>\n      <td>False</td>\n    </tr>\n  </tbody>\n</table>\n</div>"
     },
     "execution_count": 17,
     "metadata": {},
     "output_type": "execute_result"
    }
   ],
   "source": [
    "df_arr.isnull()"
   ],
   "metadata": {
    "collapsed": false,
    "pycharm": {
     "name": "#%%\n"
    }
   }
  },
  {
   "cell_type": "markdown",
   "metadata": {},
   "source": [
    "### 11. 다음과 같은 데이터에서 숫자형 열들의 통계 데이터를 추출하고자 한다. 적절한 코드를 고르시오."
   ]
  },
  {
   "cell_type": "code",
   "execution_count": 18,
   "metadata": {},
   "outputs": [
    {
     "data": {
      "text/plain": "   name   MATH   ENG   KOR     sex   trial\n0   Lee   90.0  20.0   0.0  female   first\n1   Kim    0.0   0.0  40.0    male  second\n2  Park   80.0  30.0  45.0  female  second\n3  Choi    0.0  50.0  70.0    male   first\n4  Choi  100.0   0.0  50.0    male   third",
      "text/html": "<div>\n<style scoped>\n    .dataframe tbody tr th:only-of-type {\n        vertical-align: middle;\n    }\n\n    .dataframe tbody tr th {\n        vertical-align: top;\n    }\n\n    .dataframe thead th {\n        text-align: right;\n    }\n</style>\n<table border=\"1\" class=\"dataframe\">\n  <thead>\n    <tr style=\"text-align: right;\">\n      <th></th>\n      <th>name</th>\n      <th>MATH</th>\n      <th>ENG</th>\n      <th>KOR</th>\n      <th>sex</th>\n      <th>trial</th>\n    </tr>\n  </thead>\n  <tbody>\n    <tr>\n      <th>0</th>\n      <td>Lee</td>\n      <td>90.0</td>\n      <td>20.0</td>\n      <td>0.0</td>\n      <td>female</td>\n      <td>first</td>\n    </tr>\n    <tr>\n      <th>1</th>\n      <td>Kim</td>\n      <td>0.0</td>\n      <td>0.0</td>\n      <td>40.0</td>\n      <td>male</td>\n      <td>second</td>\n    </tr>\n    <tr>\n      <th>2</th>\n      <td>Park</td>\n      <td>80.0</td>\n      <td>30.0</td>\n      <td>45.0</td>\n      <td>female</td>\n      <td>second</td>\n    </tr>\n    <tr>\n      <th>3</th>\n      <td>Choi</td>\n      <td>0.0</td>\n      <td>50.0</td>\n      <td>70.0</td>\n      <td>male</td>\n      <td>first</td>\n    </tr>\n    <tr>\n      <th>4</th>\n      <td>Choi</td>\n      <td>100.0</td>\n      <td>0.0</td>\n      <td>50.0</td>\n      <td>male</td>\n      <td>third</td>\n    </tr>\n  </tbody>\n</table>\n</div>"
     },
     "execution_count": 18,
     "metadata": {},
     "output_type": "execute_result"
    }
   ],
   "source": [
    "df = pd.DataFrame(data=[['Lee', 90.0, 20.0, 0.0, 'female', 'first'],\n",
    "                        ['Kim', 0.0, 0.0, 40.0, 'male', 'second'],\n",
    "                        ['Park', 80.0, 30.0, 45.0, 'female', 'second'],\n",
    "                        ['Choi', 0.0, 50.0, 70.0, 'male', 'first'],\n",
    "                        ['Choi', 100.0, 0.0, 50.0, 'male', 'third']],\n",
    "                  columns=['name', 'MATH', 'ENG', 'KOR', 'sex', 'trial'])\n",
    "df"
   ]
  },
  {
   "cell_type": "markdown",
   "metadata": {},
   "source": [
    "1. pd.pivot_table(df, index=[\"sex\"], aggfunc=np.mean)\n",
    "2. pd.groupby(df, index=[\"sex\"], aggfunc=np.mean)\n",
    "3. pd.cross_tab(df, index=[\"sex\"], aggfunc=np.mean)\n",
    "4. pd.summary(df, index=[\"sex\"], aggfunc=np.mean)\n",
    "\n",
    "> 답 : 1\n",
    "> 1번만 문법상 문제가 없음"
   ]
  },
  {
   "cell_type": "code",
   "execution_count": 19,
   "metadata": {},
   "outputs": [
    {
     "data": {
      "text/plain": "              ENG        KOR       MATH\nsex                                    \nfemale  25.000000  22.500000  85.000000\nmale    16.666667  53.333333  33.333333",
      "text/html": "<div>\n<style scoped>\n    .dataframe tbody tr th:only-of-type {\n        vertical-align: middle;\n    }\n\n    .dataframe tbody tr th {\n        vertical-align: top;\n    }\n\n    .dataframe thead th {\n        text-align: right;\n    }\n</style>\n<table border=\"1\" class=\"dataframe\">\n  <thead>\n    <tr style=\"text-align: right;\">\n      <th></th>\n      <th>ENG</th>\n      <th>KOR</th>\n      <th>MATH</th>\n    </tr>\n    <tr>\n      <th>sex</th>\n      <th></th>\n      <th></th>\n      <th></th>\n    </tr>\n  </thead>\n  <tbody>\n    <tr>\n      <th>female</th>\n      <td>25.000000</td>\n      <td>22.500000</td>\n      <td>85.000000</td>\n    </tr>\n    <tr>\n      <th>male</th>\n      <td>16.666667</td>\n      <td>53.333333</td>\n      <td>33.333333</td>\n    </tr>\n  </tbody>\n</table>\n</div>"
     },
     "execution_count": 19,
     "metadata": {},
     "output_type": "execute_result"
    }
   ],
   "source": [
    "pd.pivot_table(df, index=[\"sex\"], aggfunc=np.mean)"
   ]
  },
  {
   "cell_type": "markdown",
   "metadata": {},
   "source": [
    "### 12. 다음 실행 결과와 같은 데이터프레임이 존재할 때, 데이터프레임과 각 데이터프레임의 행의 평균에 대한 합의 제곱을 구하기 위한 코드로 올바른 것은?"
   ]
  },
  {
   "cell_type": "code",
   "execution_count": 20,
   "metadata": {},
   "outputs": [
    {
     "data": {
      "text/plain": "    0   1   2   3\n0   1   2   3   4\n1   5   6   7   8\n2   9  10  11  12\n3  13  14  15  16",
      "text/html": "<div>\n<style scoped>\n    .dataframe tbody tr th:only-of-type {\n        vertical-align: middle;\n    }\n\n    .dataframe tbody tr th {\n        vertical-align: top;\n    }\n\n    .dataframe thead th {\n        text-align: right;\n    }\n</style>\n<table border=\"1\" class=\"dataframe\">\n  <thead>\n    <tr style=\"text-align: right;\">\n      <th></th>\n      <th>0</th>\n      <th>1</th>\n      <th>2</th>\n      <th>3</th>\n    </tr>\n  </thead>\n  <tbody>\n    <tr>\n      <th>0</th>\n      <td>1</td>\n      <td>2</td>\n      <td>3</td>\n      <td>4</td>\n    </tr>\n    <tr>\n      <th>1</th>\n      <td>5</td>\n      <td>6</td>\n      <td>7</td>\n      <td>8</td>\n    </tr>\n    <tr>\n      <th>2</th>\n      <td>9</td>\n      <td>10</td>\n      <td>11</td>\n      <td>12</td>\n    </tr>\n    <tr>\n      <th>3</th>\n      <td>13</td>\n      <td>14</td>\n      <td>15</td>\n      <td>16</td>\n    </tr>\n  </tbody>\n</table>\n</div>"
     },
     "execution_count": 20,
     "metadata": {},
     "output_type": "execute_result"
    }
   ],
   "source": [
    "df = pd.DataFrame(np.arange(1, 17).reshape(4, 4))\n",
    "df"
   ]
  },
  {
   "cell_type": "markdown",
   "metadata": {},
   "source": [
    "1. (df + df.mean(axis=1)) ** 2\n",
    "2. (df + df.mean(axis=0)) ** 2\n",
    "3. (df + df.rows) ** 2\n",
    "4. (df.sum(df.mean(axis=0))) ** 2\n",
    "\n",
    "> 답 : 1"
   ]
  },
  {
   "cell_type": "code",
   "execution_count": 21,
   "metadata": {},
   "outputs": [
    {
     "data": {
      "text/plain": "        0       1       2       3\n0   12.25   72.25  182.25  342.25\n1   56.25  156.25  306.25  506.25\n2  132.25  272.25  462.25  702.25\n3  240.25  420.25  650.25  930.25",
      "text/html": "<div>\n<style scoped>\n    .dataframe tbody tr th:only-of-type {\n        vertical-align: middle;\n    }\n\n    .dataframe tbody tr th {\n        vertical-align: top;\n    }\n\n    .dataframe thead th {\n        text-align: right;\n    }\n</style>\n<table border=\"1\" class=\"dataframe\">\n  <thead>\n    <tr style=\"text-align: right;\">\n      <th></th>\n      <th>0</th>\n      <th>1</th>\n      <th>2</th>\n      <th>3</th>\n    </tr>\n  </thead>\n  <tbody>\n    <tr>\n      <th>0</th>\n      <td>12.25</td>\n      <td>72.25</td>\n      <td>182.25</td>\n      <td>342.25</td>\n    </tr>\n    <tr>\n      <th>1</th>\n      <td>56.25</td>\n      <td>156.25</td>\n      <td>306.25</td>\n      <td>506.25</td>\n    </tr>\n    <tr>\n      <th>2</th>\n      <td>132.25</td>\n      <td>272.25</td>\n      <td>462.25</td>\n      <td>702.25</td>\n    </tr>\n    <tr>\n      <th>3</th>\n      <td>240.25</td>\n      <td>420.25</td>\n      <td>650.25</td>\n      <td>930.25</td>\n    </tr>\n  </tbody>\n</table>\n</div>"
     },
     "execution_count": 21,
     "metadata": {},
     "output_type": "execute_result"
    }
   ],
   "source": [
    "(df + df.mean(axis=1)) ** 2  # 0 : 열, 1 : 행"
   ]
  },
  {
   "cell_type": "markdown",
   "metadata": {},
   "source": [
    "### 13. 다음 실행 결과와 같은 결과를 출력하기 위해 빈칸의 코드로 적절한 것은?\n",
    "\n",
    "1. df1.sum(df2)\n",
    "2. df1 + df2\n",
    "3. (df1 + df2).fillna(0)\n",
    "4. df1 + df2.fillna(0)\n",
    "\n",
    "> 답 : 3"
   ]
  },
  {
   "cell_type": "code",
   "execution_count": 22,
   "metadata": {},
   "outputs": [
    {
     "data": {
      "text/plain": "      a     b     c     d    e\n0   0.0   2.0   4.0   6.0  0.0\n1   9.0  11.0  13.0  15.0  0.0\n2  18.0  20.0  22.0  24.0  0.0\n3  27.0  29.0  31.0  33.0  0.0\n4   0.0   0.0   0.0   0.0  0.0",
      "text/html": "<div>\n<style scoped>\n    .dataframe tbody tr th:only-of-type {\n        vertical-align: middle;\n    }\n\n    .dataframe tbody tr th {\n        vertical-align: top;\n    }\n\n    .dataframe thead th {\n        text-align: right;\n    }\n</style>\n<table border=\"1\" class=\"dataframe\">\n  <thead>\n    <tr style=\"text-align: right;\">\n      <th></th>\n      <th>a</th>\n      <th>b</th>\n      <th>c</th>\n      <th>d</th>\n      <th>e</th>\n    </tr>\n  </thead>\n  <tbody>\n    <tr>\n      <th>0</th>\n      <td>0.0</td>\n      <td>2.0</td>\n      <td>4.0</td>\n      <td>6.0</td>\n      <td>0.0</td>\n    </tr>\n    <tr>\n      <th>1</th>\n      <td>9.0</td>\n      <td>11.0</td>\n      <td>13.0</td>\n      <td>15.0</td>\n      <td>0.0</td>\n    </tr>\n    <tr>\n      <th>2</th>\n      <td>18.0</td>\n      <td>20.0</td>\n      <td>22.0</td>\n      <td>24.0</td>\n      <td>0.0</td>\n    </tr>\n    <tr>\n      <th>3</th>\n      <td>27.0</td>\n      <td>29.0</td>\n      <td>31.0</td>\n      <td>33.0</td>\n      <td>0.0</td>\n    </tr>\n    <tr>\n      <th>4</th>\n      <td>0.0</td>\n      <td>0.0</td>\n      <td>0.0</td>\n      <td>0.0</td>\n      <td>0.0</td>\n    </tr>\n  </tbody>\n</table>\n</div>"
     },
     "execution_count": 22,
     "metadata": {},
     "output_type": "execute_result"
    }
   ],
   "source": [
    "df1 = pd.DataFrame(np.arange(25).reshape(5, 5), columns=list(\"abcde\"))\n",
    "df2 = pd.DataFrame(np.arange(16).reshape(4, 4), columns=list(\"abcd\"))\n",
    "\n",
    "(df1 + df2).fillna(0)"
   ]
  },
  {
   "cell_type": "markdown",
   "metadata": {},
   "source": [
    "### 14. 다음 실행 결과와 같은 결과를 출력하기 위해 빈칸의 코드로 적절한 것은?"
   ]
  },
  {
   "cell_type": "code",
   "execution_count": 23,
   "metadata": {},
   "outputs": [
    {
     "data": {
      "text/plain": "    0   1   2   3\n0   0   1   2   3\n1   4   5   6   7\n2   8   9  10  11\n3  12  13  14  15",
      "text/html": "<div>\n<style scoped>\n    .dataframe tbody tr th:only-of-type {\n        vertical-align: middle;\n    }\n\n    .dataframe tbody tr th {\n        vertical-align: top;\n    }\n\n    .dataframe thead th {\n        text-align: right;\n    }\n</style>\n<table border=\"1\" class=\"dataframe\">\n  <thead>\n    <tr style=\"text-align: right;\">\n      <th></th>\n      <th>0</th>\n      <th>1</th>\n      <th>2</th>\n      <th>3</th>\n    </tr>\n  </thead>\n  <tbody>\n    <tr>\n      <th>0</th>\n      <td>0</td>\n      <td>1</td>\n      <td>2</td>\n      <td>3</td>\n    </tr>\n    <tr>\n      <th>1</th>\n      <td>4</td>\n      <td>5</td>\n      <td>6</td>\n      <td>7</td>\n    </tr>\n    <tr>\n      <th>2</th>\n      <td>8</td>\n      <td>9</td>\n      <td>10</td>\n      <td>11</td>\n    </tr>\n    <tr>\n      <th>3</th>\n      <td>12</td>\n      <td>13</td>\n      <td>14</td>\n      <td>15</td>\n    </tr>\n  </tbody>\n</table>\n</div>"
     },
     "execution_count": 23,
     "metadata": {},
     "output_type": "execute_result"
    }
   ],
   "source": [
    "df1 = pd.DataFrame(np.arange(16).reshape(4, 4))\n",
    "df2 = pd.DataFrame([[1, 0, 0, 0],\n",
    "                    [0, 1, 0, 0],\n",
    "                    [0, 0, 1, 0],\n",
    "                    [0, 0, 0, 1]])\n",
    "\n",
    "df1.dot(df2)  # df1과 df2 내적 연산"
   ]
  },
  {
   "cell_type": "markdown",
   "metadata": {},
   "source": [
    "1. df1.add(df2) \n",
    "2. df1.sub(df2)\n",
    "3. df1.dot(df2) \n",
    "4. df1.mul(df2)\n",
    "\n",
    "> 답 : 3"
   ]
  }
 ],
 "metadata": {
  "interpreter": {
   "hash": "25ec6942201208e8e8076aa64a03c62c3f52897d25bc5a5e27202a9980ef8dc4"
  },
  "kernelspec": {
   "display_name": "Python 3 (ipykernel)",
   "language": "python",
   "name": "python3"
  },
  "language_info": {
   "codemirror_mode": {
    "name": "ipython",
    "version": 3
   },
   "file_extension": ".py",
   "mimetype": "text/x-python",
   "name": "python",
   "nbconvert_exporter": "python",
   "pygments_lexer": "ipython3",
   "version": "3.9.12"
  }
 },
 "nbformat": 4,
 "nbformat_minor": 2
}