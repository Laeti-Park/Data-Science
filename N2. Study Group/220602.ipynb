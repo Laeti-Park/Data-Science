{
 "cells": [
  {
   "cell_type": "markdown",
   "id": "9947d303",
   "metadata": {},
   "source": [
    "## 로지스틱 회귀\n",
    "- 분류 문제를 풀 때 주로 사용하는 기법\n",
    "- 일반적인 회귀와는 다르게 몇 가지 이산적인 값 중 하나를 선택하는 모델\n",
    "- 이진 분류 문제를 확률로 표현\n",
    "\n",
    "### 오즈비\n",
    "\n",
    "- 오즈비(odds ratio) : 어떠한 사건이 일어날 확률을 P(X)로 나타내고 일어나지 않을 확률을 1-P(X)로 나타낼 때 두 개의 비율을 표현하는 수치  \n",
    "$\\frac{P(X)}{1-P(X)}$  \n",
    "![확률이 올라가면서 오즈비가 상승하는 그래프](../Image/220602_1.png)\n",
    "\n",
    "### 로짓 함수\n",
    "- 로짓(logit) 함수 : 오즈비에 상용로그를 붙인 함수  \n",
    "- 로그를 씌운 오즈비 X값에 확률을 넣으면 로짓함수의 형태가 나타냄  \n",
    "$logit(P) = ln(\\frac{P}{1-P})$  \n",
    "![로짓함수 그래프](../Image/220602_2.png)\n",
    "\n",
    "### 시그모이드 함수\n",
    "- 로짓 함수의 역함수 형태로 z값을 구하면 로지스틱 회귀함수가 됨  \n",
    "$\\sigma(z) = \\frac{1}{1-e^{-z}}$  "
   ]
  },
  {
   "cell_type": "markdown",
   "id": "8b5afcf3",
   "metadata": {},
   "source": [
    "### 로지스틱 회귀함수 학습\n",
    "- 와튼 대학교 uva.txt 데이터 사용하여 인터넷 사용자가 뉴비인지 아닌지 구별"
   ]
  },
  {
   "cell_type": "code",
   "execution_count": 44,
   "id": "02a7c480",
   "metadata": {
    "scrolled": false
   },
   "outputs": [
    {
     "data": {
      "text/html": [
       "<div>\n",
       "<style scoped>\n",
       "    .dataframe tbody tr th:only-of-type {\n",
       "        vertical-align: middle;\n",
       "    }\n",
       "\n",
       "    .dataframe tbody tr th {\n",
       "        vertical-align: top;\n",
       "    }\n",
       "\n",
       "    .dataframe thead th {\n",
       "        text-align: right;\n",
       "    }\n",
       "</style>\n",
       "<table border=\"1\" class=\"dataframe\">\n",
       "  <thead>\n",
       "    <tr style=\"text-align: right;\">\n",
       "      <th></th>\n",
       "      <th>who</th>\n",
       "      <th>Newbie</th>\n",
       "      <th>Age</th>\n",
       "      <th>Gender</th>\n",
       "      <th>Household Income</th>\n",
       "      <th>Sexual Preference</th>\n",
       "      <th>Country</th>\n",
       "      <th>Education Attainment</th>\n",
       "      <th>Major Occupation</th>\n",
       "      <th>Marital Status</th>\n",
       "      <th>Years on Internet</th>\n",
       "    </tr>\n",
       "  </thead>\n",
       "  <tbody>\n",
       "    <tr>\n",
       "      <th>0</th>\n",
       "      <td>id74364</td>\n",
       "      <td>0</td>\n",
       "      <td>54.0</td>\n",
       "      <td>Male</td>\n",
       "      <td>$50-74</td>\n",
       "      <td>Gay male</td>\n",
       "      <td>Ontario</td>\n",
       "      <td>Some College</td>\n",
       "      <td>Computer</td>\n",
       "      <td>Other</td>\n",
       "      <td>4-6 yr</td>\n",
       "    </tr>\n",
       "    <tr>\n",
       "      <th>1</th>\n",
       "      <td>id84505</td>\n",
       "      <td>0</td>\n",
       "      <td>39.0</td>\n",
       "      <td>Female</td>\n",
       "      <td>Over $100</td>\n",
       "      <td>Heterosexual</td>\n",
       "      <td>Sweden</td>\n",
       "      <td>Professional</td>\n",
       "      <td>Other</td>\n",
       "      <td>Other</td>\n",
       "      <td>1-3 yr</td>\n",
       "    </tr>\n",
       "    <tr>\n",
       "      <th>2</th>\n",
       "      <td>id84509</td>\n",
       "      <td>1</td>\n",
       "      <td>49.0</td>\n",
       "      <td>Female</td>\n",
       "      <td>$40-49</td>\n",
       "      <td>Heterosexual</td>\n",
       "      <td>Washington</td>\n",
       "      <td>Some College</td>\n",
       "      <td>Management</td>\n",
       "      <td>Other</td>\n",
       "      <td>Under 6 mo</td>\n",
       "    </tr>\n",
       "    <tr>\n",
       "      <th>3</th>\n",
       "      <td>id87028</td>\n",
       "      <td>1</td>\n",
       "      <td>22.0</td>\n",
       "      <td>Female</td>\n",
       "      <td>$40-49</td>\n",
       "      <td>Heterosexual</td>\n",
       "      <td>Florida</td>\n",
       "      <td>Some College</td>\n",
       "      <td>Computer</td>\n",
       "      <td>Married</td>\n",
       "      <td>6-12 mo</td>\n",
       "    </tr>\n",
       "    <tr>\n",
       "      <th>4</th>\n",
       "      <td>id76087</td>\n",
       "      <td>0</td>\n",
       "      <td>20.0</td>\n",
       "      <td>Male</td>\n",
       "      <td>$30-39</td>\n",
       "      <td>Bisexual</td>\n",
       "      <td>New Jersey</td>\n",
       "      <td>Some College</td>\n",
       "      <td>Education</td>\n",
       "      <td>Single</td>\n",
       "      <td>1-3 yr</td>\n",
       "    </tr>\n",
       "  </tbody>\n",
       "</table>\n",
       "</div>"
      ],
      "text/plain": [
       "       who  Newbie   Age  Gender Household Income Sexual Preference  \\\n",
       "0  id74364       0  54.0    Male           $50-74          Gay male   \n",
       "1  id84505       0  39.0  Female        Over $100      Heterosexual   \n",
       "2  id84509       1  49.0  Female           $40-49      Heterosexual   \n",
       "3  id87028       1  22.0  Female           $40-49      Heterosexual   \n",
       "4  id76087       0  20.0    Male           $30-39          Bisexual   \n",
       "\n",
       "      Country Education Attainment Major Occupation Marital Status  \\\n",
       "0     Ontario         Some College         Computer          Other   \n",
       "1      Sweden         Professional            Other          Other   \n",
       "2  Washington         Some College       Management          Other   \n",
       "3     Florida         Some College         Computer        Married   \n",
       "4  New Jersey         Some College        Education         Single   \n",
       "\n",
       "  Years on Internet  \n",
       "0            4-6 yr  \n",
       "1            1-3 yr  \n",
       "2        Under 6 mo  \n",
       "3           6-12 mo  \n",
       "4            1-3 yr  "
      ]
     },
     "execution_count": 44,
     "metadata": {},
     "output_type": "execute_result"
    }
   ],
   "source": [
    "import pandas as pd\n",
    "data_url= \"http://www-stat.wharton.upenn.edu/~waterman/DataSets/uva.txt\"\n",
    "df = pd.read_table(data_url)\n",
    "df[:5]"
   ]
  },
  {
   "cell_type": "code",
   "execution_count": 45,
   "id": "1be40c23",
   "metadata": {},
   "outputs": [
    {
     "data": {
      "text/plain": [
       "Newbie                    int64\n",
       "Age                     float64\n",
       "Gender                   object\n",
       "Household Income         object\n",
       "Sexual Preference        object\n",
       "Education Attainment     object\n",
       "Major Occupation         object\n",
       "Marital Status           object\n",
       "dtype: object"
      ]
     },
     "execution_count": 45,
     "metadata": {},
     "output_type": "execute_result"
    }
   ],
   "source": [
    "# 분석에 사용하지 않는 열과 같은 의미를 가진 열을 제거(drop)\n",
    "df.pop('who')\n",
    "df.pop('Country')\n",
    "df.pop('Years on Internet')\n",
    "df.dtypes"
   ]
  },
  {
   "cell_type": "code",
   "execution_count": 46,
   "id": "ed2329b0",
   "metadata": {},
   "outputs": [
    {
     "data": {
      "text/plain": [
       "Newbie                     int64\n",
       "Age                      float64\n",
       "Gender                  category\n",
       "Household Income        category\n",
       "Sexual Preference       category\n",
       "Education Attainment    category\n",
       "Major Occupation        category\n",
       "Marital Status          category\n",
       "dtype: object"
      ]
     },
     "execution_count": 46,
     "metadata": {},
     "output_type": "execute_result"
    }
   ],
   "source": [
    "# object 타입을 category 타입으로 변환\n",
    "category_cols = [\"Gender\", 'Household Income',\n",
    "                 'Sexual Preference', 'Education Attainment',\n",
    "                 'Major Occupation', \"Marital Status\"]\n",
    "\n",
    "for col in category_cols:\n",
    "    df[col] = df[col].astype('category')\n",
    "\n",
    "df.dtypes"
   ]
  },
  {
   "cell_type": "code",
   "execution_count": 47,
   "id": "ec91c72a",
   "metadata": {
    "scrolled": true
   },
   "outputs": [
    {
     "data": {
      "text/plain": [
       "(19583, 38)"
      ]
     },
     "execution_count": 47,
     "metadata": {},
     "output_type": "execute_result"
    }
   ],
   "source": [
    "# get_dummies를 사용해 데이터프레임을 원핫인코딩 형태로 변환\n",
    "df_onehot = pd.get_dummies(df)\n",
    "df_onehot.shape"
   ]
  },
  {
   "cell_type": "code",
   "execution_count": 48,
   "id": "85df6893",
   "metadata": {},
   "outputs": [
    {
     "data": {
      "text/plain": [
       "Newbie                                 0\n",
       "Age                                  561\n",
       "Gender_Female                          0\n",
       "Gender_Male                            0\n",
       "Household Income_$10-19                0\n",
       "Household Income_$20-29                0\n",
       "Household Income_$30-39                0\n",
       "Household Income_$40-49                0\n",
       "Household Income_$50-74                0\n",
       "Household Income_$75-99                0\n",
       "Household Income_Over $100             0\n",
       "Household Income_Under $10             0\n",
       "Sexual Preference_Bisexual             0\n",
       "Sexual Preference_Gay male             0\n",
       "Sexual Preference_Heterosexual         0\n",
       "Sexual Preference_Lesbian              0\n",
       "Sexual Preference_Transgender          0\n",
       "Sexual Preference_na                   0\n",
       "Education Attainment_College           0\n",
       "Education Attainment_Doctoral          0\n",
       "Education Attainment_Grammar           0\n",
       "Education Attainment_High School       0\n",
       "Education Attainment_Masters           0\n",
       "Education Attainment_Other             0\n",
       "Education Attainment_Professional      0\n",
       "Education Attainment_Some College      0\n",
       "Education Attainment_Special           0\n",
       "Major Occupation_Computer              0\n",
       "Major Occupation_Education             0\n",
       "Major Occupation_Management            0\n",
       "Major Occupation_Other                 0\n",
       "Major Occupation_Professional          0\n",
       "Marital Status_Divorced                0\n",
       "Marital Status_Married                 0\n",
       "Marital Status_Other                   0\n",
       "Marital Status_Separated               0\n",
       "Marital Status_Single                  0\n",
       "Marital Status_Widowed                 0\n",
       "dtype: int64"
      ]
     },
     "execution_count": 48,
     "metadata": {},
     "output_type": "execute_result"
    }
   ],
   "source": [
    "# 결측값 확인, Age 열에만 결측값 존재함을 확인할 수 있다.\n",
    "df_onehot.isnull().sum()"
   ]
  },
  {
   "cell_type": "code",
   "execution_count": 49,
   "metadata": {},
   "outputs": [],
   "source": [
    "# Age 결측값을 평균값으로 채운다.\n",
    "df_onehot.loc[\n",
    "    pd.isnull(df_onehot['Age']), \"Age\"] = df_onehot['Age'].mean()"
   ]
  },
  {
   "cell_type": "code",
   "execution_count": 50,
   "id": "73627259",
   "metadata": {},
   "outputs": [
    {
     "data": {
      "text/plain": [
       "((19583, 37), (19583, 1))"
      ]
     },
     "execution_count": 50,
     "metadata": {},
     "output_type": "execute_result"
    }
   ],
   "source": [
    "# Newbie 열은 y_data에 할당하고 나머지는 x_data에 할당\n",
    "x_data = df_onehot.iloc[:, 1:].values # df_onehot의 2열 ~ 마지막열 x_data로 설정\n",
    "y_data = df_onehot.iloc[:, 0].values.reshape(-1, 1) # df_onehot의 1열 y_data로 설정, 벡터이기 때문에 2차원으로 만들어줌\n",
    "\n",
    "x_data.shape, y_data.shape"
   ]
  },
  {
   "cell_type": "code",
   "execution_count": 51,
   "id": "4b35ecf7",
   "metadata": {},
   "outputs": [],
   "source": [
    "# x_data에 대해 MinMaxScaler 함수를 사용해 전체 데이터에 대한 스케일링 실시\n",
    "from sklearn import preprocessing\n",
    "\n",
    "min_max_scaler = preprocessing.MinMaxScaler()\n",
    "x_data = min_max_scaler.fit_transform(x_data)"
   ]
  },
  {
   "cell_type": "code",
   "execution_count": 52,
   "id": "521ade47",
   "metadata": {},
   "outputs": [
    {
     "data": {
      "text/plain": [
       "((13120, 37), (6463, 37))"
      ]
     },
     "execution_count": 52,
     "metadata": {},
     "output_type": "execute_result"
    }
   ],
   "source": [
    "# train-test split 함수를 사용해 데이터셋과 테스트 데이터셋으로 분리\n",
    "from sklearn.model_selection import train_test_split\n",
    "\n",
    "X_train, X_test, y_train, y_test = train_test_split(\n",
    "    x_data, y_data, test_size=0.33, random_state=42\n",
    ")\n",
    "\n",
    "X_train.shape, X_test.shape"
   ]
  },
  {
   "cell_type": "markdown",
   "id": "a5c4629e",
   "metadata": {},
   "source": [
    "### LogisticRegression 파라미터\n",
    "참고 : https://scikit-learn.org/stable/modules/generated/sklearn.linear_model.LogisticRegression.html\n",
    "\n",
    "- penalty : 패널티 정도를 지정한다. 독립 변수를 없애 간명하게 만들어 과적합 현상을 없애려는 것 (default: l2)\n",
    "    - 'l1', 'l2', 'elasticnet', 'none'\n",
    "- C : penalty에 대한 계수 설정, 높을 수록 복잡한 모델에 대한 규제 강화\n",
    "- solver : 최적화 문제에 사용할 알고리즘, 선택한 패널티에 따라 다르게 적용한다.\n",
    "    - 'newton-cg' [‘l2’, ‘none’]\n",
    "    - 'lbfgs' [‘l2’, ‘none’]\n",
    "    - 'liblinear' [‘l1’, ‘l2’]\n",
    "    - 'sag' ['l2', 'none']\n",
    "    - 'saga' [‘elasticnet’, ‘l1’, ‘l2’, ‘none’]\n",
    "    - 'sag'와 'saga'는 스케일이 거의 동일한 기능에서만 보장된다.\n",
    "- fit_intercept : 생성된 모델의 절편을 간단히 생성"
   ]
  },
  {
   "cell_type": "code",
   "execution_count": 53,
   "id": "7ff4c24c",
   "metadata": {},
   "outputs": [
    {
     "data": {
      "text/plain": [
       "LogisticRegression()"
      ]
     },
     "execution_count": 53,
     "metadata": {},
     "output_type": "execute_result"
    }
   ],
   "source": [
    "# LogisticRegression 클래스를 사용해 학습된 모델을 생성\n",
    "from sklearn.linear_model import LogisticRegression\n",
    "\n",
    "logreg = LogisticRegression(fit_intercept=True)\n",
    "logreg.fit(X_train, y_train.flatten())"
   ]
  },
  {
   "cell_type": "code",
   "execution_count": 54,
   "id": "f5e345a3",
   "metadata": {},
   "outputs": [
    {
     "data": {
      "text/plain": [
       "array([0, 0, 0, 0, 0], dtype=int64)"
      ]
     },
     "execution_count": 54,
     "metadata": {},
     "output_type": "execute_result"
    }
   ],
   "source": [
    "# 생성된 모델을 통해 실제값을 예측하기 위해 predict 함수 사용\n",
    "logreg.predict(X_test[:5]) # X_test에 존재하는 값 5개까지 모두 0으로 예측"
   ]
  },
  {
   "cell_type": "code",
   "execution_count": 55,
   "id": "4a75239e",
   "metadata": {},
   "outputs": [
    {
     "data": {
      "text/plain": [
       "array([[0.56843258, 0.43156742],\n",
       "       [0.91112572, 0.08887428],\n",
       "       [0.79481085, 0.20518915],\n",
       "       [0.85841562, 0.14158438],\n",
       "       [0.62764603, 0.37235397]])"
      ]
     },
     "execution_count": 55,
     "metadata": {},
     "output_type": "execute_result"
    }
   ],
   "source": [
    "# 각 값들의 예측값에 대한 확률은 predict_proba로 구할 수 있다.\n",
    "logreg.predict_proba(X_test[:5])"
   ]
  },
  {
   "cell_type": "markdown",
   "metadata": {},
   "source": [
    "#### 분류 문제의 성능 지표\n",
    "- 로지스틱 회귀는 대표적인 분류 문제를 위한 알고리즘\n",
    "- 정확도, 정밀도, 민감도, F1 스코어, ROC 커브, 리프트 차트\n",
    "- 혼동행렬 : 모델의 실제 성능을 측정하기 위해, 예측값이 실제값 대비 얼마나 잘 맞는지 표현하는 기법  \n",
    "![혼동행렬](../Image/220602_4.png)\n",
    "- 정확도 : 전체 데이터 개수 대비 정답을 맞춘 데이터의 개수  \n",
    "$Accuracy = \\frac{TP+TN}{TP+TN+FP+FN}$\n",
    "- 정밀도 : 모델이 1이라고 예측할 때 얼마나 잘 맞출지에 대한 비율  \n",
    "$Precision(PPV) = \\frac{TP}{TP+TN}$\n",
    "- 민감도(재현율) : 실제 1인 값을 가진 데이터를 모델이 얼마나 1이라고 잘 예측했는지에 대한 비율  \n",
    "$Recall(TPR) = \\frac{TP}{TP+FN}$\n",
    "- F1 스코어 : 정밀도와 민감도의 조화평균 값  \n",
    "$F_1 = 2\\times\\frac{Precision\\times Recall}{Precision+Recall}$"
   ]
  },
  {
   "cell_type": "code",
   "execution_count": 56,
   "id": "d6b6419e",
   "metadata": {},
   "outputs": [
    {
     "data": {
      "text/plain": [
       "array([[4487,  275],\n",
       "       [1350,  351]], dtype=int64)"
      ]
     },
     "execution_count": 56,
     "metadata": {},
     "output_type": "execute_result"
    }
   ],
   "source": [
    "# 모델의 실제 성능을 측정하기 위해, 혼동행렬을 만든다\n",
    "from sklearn.metrics import confusion_matrix\n",
    "from sklearn.metrics import accuracy_score\n",
    "from sklearn.metrics import precision_score\n",
    "from sklearn.metrics import recall_score\n",
    "from sklearn.metrics import f1_score\n",
    "\n",
    "y_true = y_test.copy()\n",
    "y_pred = logreg.predict(X_test)\n",
    "confusion_matrix(y_true, y_pred)"
   ]
  },
  {
   "cell_type": "code",
   "execution_count": 57,
   "id": "910ee777",
   "metadata": {},
   "outputs": [
    {
     "data": {
      "text/plain": [
       "0.7485687761101656"
      ]
     },
     "execution_count": 57,
     "metadata": {},
     "output_type": "execute_result"
    }
   ],
   "source": [
    "# 정확도 측정\n",
    "accuracy_score(y_true, y_pred)"
   ]
  },
  {
   "cell_type": "code",
   "execution_count": 58,
   "id": "7a0508a8",
   "metadata": {},
   "outputs": [
    {
     "data": {
      "text/plain": [
       "0.560702875399361"
      ]
     },
     "execution_count": 58,
     "metadata": {},
     "output_type": "execute_result"
    }
   ],
   "source": [
    "# 정밀도 측정\n",
    "precision_score(y_true, y_pred)"
   ]
  },
  {
   "cell_type": "code",
   "execution_count": 59,
   "id": "3fa63669",
   "metadata": {},
   "outputs": [
    {
     "data": {
      "text/plain": [
       "0.20634920634920634"
      ]
     },
     "execution_count": 59,
     "metadata": {},
     "output_type": "execute_result"
    }
   ],
   "source": [
    "# 민감도 측정\n",
    "recall_score(y_true, y_pred)"
   ]
  },
  {
   "cell_type": "code",
   "execution_count": 60,
   "id": "b4a8945a",
   "metadata": {},
   "outputs": [
    {
     "data": {
      "text/plain": [
       "0.3016759776536313"
      ]
     },
     "execution_count": 60,
     "metadata": {},
     "output_type": "execute_result"
    }
   ],
   "source": [
    "# F1 스코어 측정\n",
    "f1_score(y_true, y_pred)"
   ]
  },
  {
   "cell_type": "markdown",
   "id": "1fcaa752",
   "metadata": {},
   "source": [
    "## 최근접 이웃\n",
    "- 최근접 이웃(K-Nearest Neighbors) : 예측하려고 하는 임의의 데이터와 가장 가까운 거리의 데이터 K개를 찾아 다수결에 의해 데이터를 예측하는 방법  \n",
    "![KNN 예시](../Image/220602_5.png)\n",
    "\n",
    "### K-NN 장점\n",
    "- 추가된 데이터의 처리가 쉽고, 예측 결과에 대한 해석도 쉬움\n",
    "- 사용이 간단하여 훈련 데이터에 대한 훈련 과정이 별도로 필요하지 않음\n",
    "-  범주를 나눈 기준을 알지 못하더라도 데이터를 분류할 수 있음\n",
    "\n",
    "### K-NN 단점\n",
    "- 훈련 데이터 세트의 크기가 너무 크거나 특성(feature)의 개수가 너무 많으면 연산속도가 느려짐\n",
    "- 비수치 데이터의 유사도를 정의하기가 어렵고 이상치의 영향을 크게 받음\n",
    "- 서로 다른 특성 값들의 비율을 일정하게 하지 않을 경우 성능이 떨어지기 때문에 같은 스케일(규모)을 갖도록 전처리 하는 과정이 필수"
   ]
  },
  {
   "cell_type": "code",
   "execution_count": 61,
   "id": "a8dfc6c0",
   "metadata": {},
   "outputs": [
    {
     "data": {
      "text/html": [
       "<div>\n",
       "<style scoped>\n",
       "    .dataframe tbody tr th:only-of-type {\n",
       "        vertical-align: middle;\n",
       "    }\n",
       "\n",
       "    .dataframe tbody tr th {\n",
       "        vertical-align: top;\n",
       "    }\n",
       "\n",
       "    .dataframe thead th {\n",
       "        text-align: right;\n",
       "    }\n",
       "</style>\n",
       "<table border=\"1\" class=\"dataframe\">\n",
       "  <thead>\n",
       "    <tr style=\"text-align: right;\">\n",
       "      <th></th>\n",
       "      <th>Pregnancies</th>\n",
       "      <th>Glucose</th>\n",
       "      <th>BloodPressure</th>\n",
       "      <th>SkinThickness</th>\n",
       "      <th>Insulin</th>\n",
       "      <th>BMI</th>\n",
       "      <th>DiabetesPedigreeFunction</th>\n",
       "      <th>Age</th>\n",
       "      <th>Outcome</th>\n",
       "    </tr>\n",
       "  </thead>\n",
       "  <tbody>\n",
       "    <tr>\n",
       "      <th>0</th>\n",
       "      <td>6</td>\n",
       "      <td>148</td>\n",
       "      <td>72</td>\n",
       "      <td>35</td>\n",
       "      <td>0</td>\n",
       "      <td>33.6</td>\n",
       "      <td>0.627</td>\n",
       "      <td>50</td>\n",
       "      <td>1</td>\n",
       "    </tr>\n",
       "    <tr>\n",
       "      <th>1</th>\n",
       "      <td>1</td>\n",
       "      <td>85</td>\n",
       "      <td>66</td>\n",
       "      <td>29</td>\n",
       "      <td>0</td>\n",
       "      <td>26.6</td>\n",
       "      <td>0.351</td>\n",
       "      <td>31</td>\n",
       "      <td>0</td>\n",
       "    </tr>\n",
       "    <tr>\n",
       "      <th>2</th>\n",
       "      <td>8</td>\n",
       "      <td>183</td>\n",
       "      <td>64</td>\n",
       "      <td>0</td>\n",
       "      <td>0</td>\n",
       "      <td>23.3</td>\n",
       "      <td>0.672</td>\n",
       "      <td>32</td>\n",
       "      <td>1</td>\n",
       "    </tr>\n",
       "    <tr>\n",
       "      <th>3</th>\n",
       "      <td>1</td>\n",
       "      <td>89</td>\n",
       "      <td>66</td>\n",
       "      <td>23</td>\n",
       "      <td>94</td>\n",
       "      <td>28.1</td>\n",
       "      <td>0.167</td>\n",
       "      <td>21</td>\n",
       "      <td>0</td>\n",
       "    </tr>\n",
       "    <tr>\n",
       "      <th>4</th>\n",
       "      <td>0</td>\n",
       "      <td>137</td>\n",
       "      <td>40</td>\n",
       "      <td>35</td>\n",
       "      <td>168</td>\n",
       "      <td>43.1</td>\n",
       "      <td>2.288</td>\n",
       "      <td>33</td>\n",
       "      <td>1</td>\n",
       "    </tr>\n",
       "  </tbody>\n",
       "</table>\n",
       "</div>"
      ],
      "text/plain": [
       "   Pregnancies  Glucose  BloodPressure  SkinThickness  Insulin   BMI  \\\n",
       "0            6      148             72             35        0  33.6   \n",
       "1            1       85             66             29        0  26.6   \n",
       "2            8      183             64              0        0  23.3   \n",
       "3            1       89             66             23       94  28.1   \n",
       "4            0      137             40             35      168  43.1   \n",
       "\n",
       "   DiabetesPedigreeFunction  Age  Outcome  \n",
       "0                     0.627   50        1  \n",
       "1                     0.351   31        0  \n",
       "2                     0.672   32        1  \n",
       "3                     0.167   21        0  \n",
       "4                     2.288   33        1  "
      ]
     },
     "execution_count": 61,
     "metadata": {},
     "output_type": "execute_result"
    }
   ],
   "source": [
    "# National Institute of Diabetes and Digestive and Kidney Diseases에서 제공된 당뇨병 진단 장치로부터 나온 데이터와 당뇨병의 여부를 보여줌\n",
    "diabetes_df = pd.read_csv(\"./Data/diabetes.csv\")\n",
    "diabetes_df.head()"
   ]
  },
  {
   "cell_type": "markdown",
   "id": "6ab1ac6c",
   "metadata": {},
   "source": [
    "### diabetes_df 열 구성\n",
    "- Pregnancies: 임신 횟수\n",
    "- Glucose: 포도당 부하 검사 수치\n",
    "- BloodPressure: 혈압(mm Hg)\n",
    "- SkinThickness: 팔 삼두근 뒤쪽의 피하지방 측정값(mm)\n",
    "- Insulin: 혈청 인슐린(mu U/ml)\n",
    "- BMI: 체질량지수(체중(kg)/(키(m))^2)\n",
    "- DiabetesPedigreeFunction: 당뇨 내력 가중치 값\n",
    "- Age: 나이\n",
    "- Outcome: 당뇨병 여부(0 또는 1)"
   ]
  },
  {
   "cell_type": "code",
   "execution_count": 62,
   "id": "d68c0c53",
   "metadata": {},
   "outputs": [],
   "source": [
    "import numpy as np\n",
    "from sklearn.preprocessing import MinMaxScaler\n",
    "\n",
    "# 훈련, 시험 데이터 분할\n",
    "x=diabetes_df.drop('Outcome',axis=1)\n",
    "y=diabetes_df['Outcome']\n",
    "\n",
    "X_train, X_test, y_train, y_test = train_test_split(x, y, test_size=0.4, random_state=42, stratify=y)"
   ]
  },
  {
   "cell_type": "code",
   "execution_count": 63,
   "id": "ca8daed7",
   "metadata": {},
   "outputs": [
    {
     "name": "stdout",
     "output_type": "stream",
     "text": [
      "0.7305194805194806\n",
      "Accuracy = 73.0%\n"
     ]
    }
   ],
   "source": [
    "from sklearn.neighbors import KNeighborsClassifier\n",
    "\n",
    "# Create a k-NN classifier with 7 neighbors\n",
    "knn = KNeighborsClassifier(n_neighbors = 7)\n",
    "\n",
    "#Fit the classifier to the training data\n",
    "knn.fit(X_train, y_train)\n",
    "\n",
    "#Print the accuracy\n",
    "print(knn.score(X_test, y_test))\n",
    "print(\"Accuracy = {}\".format(round(knn.score(X_test, y_test),2) * 100)+\"%\")\n"
   ]
  },
  {
   "cell_type": "code",
   "execution_count": 64,
   "id": "ba360b83",
   "metadata": {},
   "outputs": [
    {
     "data": {
      "text/plain": [
       "(array([1.        , 0.85434783, 0.84565217, 0.80869565, 0.78913043,\n",
       "        0.78478261, 0.78695652, 0.77826087]),\n",
       " array([0.67857143, 0.69480519, 0.68506494, 0.70779221, 0.7012987 ,\n",
       "        0.72402597, 0.73051948, 0.7012987 ]))"
      ]
     },
     "execution_count": 64,
     "metadata": {},
     "output_type": "execute_result"
    }
   ],
   "source": [
    "#Setup arrays to store train and test accuracies\n",
    "neighbors = np.arange(1, 9) # 1 ~ 9까지 neighbors 넘파이 배열 설정\n",
    "train_accuracy = np.empty(len(neighbors))\n",
    "test_accuracy = np.empty(len(neighbors))\n",
    "\n",
    "# neighbors를 k에 대입시켜 k값을 변경하면서 알고리즘 정확도 측정\n",
    "for i, k in enumerate(neighbors):\n",
    "    \n",
    "    # K-NN 분류기를 사용\n",
    "    knn = KNeighborsClassifier(n_neighbors=k)\n",
    "    \n",
    "    # X_train과 y_train을 fit 메소드에 넣어 훈련\n",
    "    knn.fit(X_train, y_train)\n",
    "    \n",
    "    train_accuracy[i] = knn.score(X_train, y_train)\n",
    "    test_accuracy[i] = knn.score(X_test, y_test)\n",
    "    \n",
    "train_accuracy, test_accuracy # train과 test 데이터 훈련 정확도"
   ]
  },
  {
   "cell_type": "code",
   "execution_count": 65,
   "id": "ea771ae0",
   "metadata": {},
   "outputs": [
    {
     "data": {
      "image/png": "[encoded data removed]",
      "text/plain": [
       "<Figure size 432x288 with 1 Axes>"
      ]
     },
     "metadata": {
      "needs_background": "light"
     },
     "output_type": "display_data"
    }
   ],
   "source": [
    "import matplotlib.pyplot as plt\n",
    "\n",
    "#Generate plot\n",
    "_ = plt.title('KNN varying number of neighbors')\n",
    "_ = plt.plot(neighbors, test_accuracy, label='Testing Accuracy')\n",
    "_ = plt.plot(neighbors, train_accuracy, label='Training Accuracy')\n",
    "plt.legend()\n",
    "plt.xlabel('Number of Neighbors')\n",
    "plt.ylabel('Accuracy')\n",
    "plt.show()"
   ]
  },
  {
   "cell_type": "markdown",
   "id": "662b603f",
   "metadata": {},
   "source": [
    "- Neighbors 7에서 정확도 측정 시 test와 train의 차이가 가장 적은 것을 확인\n",
    "- 훈련 데이터와 시험 데이터 정확도 차이가 가장 작은 Neighbors 값이 7인 값은 이용해 정확도를 측정"
   ]
  },
  {
   "cell_type": "code",
   "execution_count": 78,
   "id": "eb71b39d",
   "metadata": {},
   "outputs": [
    {
     "name": "stdout",
     "output_type": "stream",
     "text": [
      "[[168  33]\n",
      " [ 59  48]]\n",
      "              precision    recall  f1-score   support\n",
      "\n",
      "           0       0.74      0.84      0.79       201\n",
      "           1       0.59      0.45      0.51       107\n",
      "\n",
      "    accuracy                           0.70       308\n",
      "   macro avg       0.67      0.64      0.65       308\n",
      "weighted avg       0.69      0.70      0.69       308\n",
      "\n"
     ]
    },
    {
     "data": {
      "text/html": [
       "<div>\n",
       "<style scoped>\n",
       "    .dataframe tbody tr th:only-of-type {\n",
       "        vertical-align: middle;\n",
       "    }\n",
       "\n",
       "    .dataframe tbody tr th {\n",
       "        vertical-align: top;\n",
       "    }\n",
       "\n",
       "    .dataframe thead th {\n",
       "        text-align: right;\n",
       "    }\n",
       "</style>\n",
       "<table border=\"1\" class=\"dataframe\">\n",
       "  <thead>\n",
       "    <tr style=\"text-align: right;\">\n",
       "      <th>KNN모델</th>\n",
       "      <th>0</th>\n",
       "      <th>1</th>\n",
       "      <th>All</th>\n",
       "    </tr>\n",
       "    <tr>\n",
       "      <th>실제</th>\n",
       "      <th></th>\n",
       "      <th></th>\n",
       "      <th></th>\n",
       "    </tr>\n",
       "  </thead>\n",
       "  <tbody>\n",
       "    <tr>\n",
       "      <th>0</th>\n",
       "      <td>168</td>\n",
       "      <td>33</td>\n",
       "      <td>201</td>\n",
       "    </tr>\n",
       "    <tr>\n",
       "      <th>1</th>\n",
       "      <td>59</td>\n",
       "      <td>48</td>\n",
       "      <td>107</td>\n",
       "    </tr>\n",
       "    <tr>\n",
       "      <th>All</th>\n",
       "      <td>227</td>\n",
       "      <td>81</td>\n",
       "      <td>308</td>\n",
       "    </tr>\n",
       "  </tbody>\n",
       "</table>\n",
       "</div>"
      ],
      "text/plain": [
       "KNN모델    0   1  All\n",
       "실제                 \n",
       "0      168  33  201\n",
       "1       59  48  107\n",
       "All    227  81  308"
      ]
     },
     "execution_count": 78,
     "metadata": {},
     "output_type": "execute_result"
    }
   ],
   "source": [
    "from sklearn.metrics import classification_report\n",
    "\n",
    "# Predict the labels of the test data: y_pred\n",
    "y_pred = knn.predict(X_test)\n",
    "\n",
    "# Generate the confusion matrix and classification report\n",
    "print(confusion_matrix(y_test, y_pred))\n",
    "print(classification_report(y_test, y_pred))\n",
    "\n",
    "# 혼동행렬을 데이터프레임으로 나타낸 표\n",
    "pd.crosstab(y_test, y_pred, rownames=['실제'], colnames=['KNN모델'], margins=True)"
   ]
  },
  {
   "cell_type": "markdown",
   "id": "2bebc705",
   "metadata": {},
   "source": [
    "- 당뇨병에 대한 outcome 값에 따른 성능 지표와 정확도를 확인할 수 있음"
   ]
  }
 ],
 "metadata": {
  "interpreter": {
   "hash": "25ec6942201208e8e8076aa64a03c62c3f52897d25bc5a5e27202a9980ef8dc4"
  },
  "kernelspec": {
   "display_name": "Python 3.9.13 64-bit (windows store)",
   "language": "python",
   "name": "python3"
  },
  "language_info": {
   "codemirror_mode": {
    "name": "ipython",
    "version": 3
   },
   "file_extension": ".py",
   "mimetype": "text/x-python",
   "name": "python",
   "nbconvert_exporter": "python",
   "pygments_lexer": "ipython3",
   "version": "3.9.13"
  }
 },
 "nbformat": 4,
 "nbformat_minor": 5
}
